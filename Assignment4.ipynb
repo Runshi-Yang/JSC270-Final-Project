{
  "cells": [
    {
      "cell_type": "markdown",
      "metadata": {
        "id": "view-in-github",
        "colab_type": "text"
      },
      "source": [
        "<a href=\"https://colab.research.google.com/github/Runshi-Yang/JSC270_HW4_2022_Runshi/blob/main/Assignment4.ipynb\" target=\"_parent\"><img src=\"https://colab.research.google.com/assets/colab-badge.svg\" alt=\"Open In Colab\"/></a>"
      ]
    },
    {
      "cell_type": "markdown",
      "metadata": {
        "id": "l8XfXBiEdBQK"
      },
      "source": [
        "#Part 0: Dataset Preprocessing"
      ]
    },
    {
      "cell_type": "code",
      "execution_count": null,
      "metadata": {
        "colab": {
          "base_uri": "https://localhost:8080/"
        },
        "id": "b2GTzwFRCVnj",
        "outputId": "ba1ad5a9-928d-44e7-b625-9702d7eb1b64"
      },
      "outputs": [
        {
          "output_type": "stream",
          "name": "stdout",
          "text": [
            "[nltk_data] Downloading package wordnet to /root/nltk_data...\n",
            "[nltk_data]   Package wordnet is already up-to-date!\n",
            "[nltk_data] Downloading package punkt to /root/nltk_data...\n",
            "[nltk_data]   Package punkt is already up-to-date!\n",
            "[nltk_data] Downloading package stopwords to /root/nltk_data...\n",
            "[nltk_data]   Package stopwords is already up-to-date!\n"
          ]
        },
        {
          "output_type": "execute_result",
          "data": {
            "text/plain": [
              "True"
            ]
          },
          "metadata": {},
          "execution_count": 1
        }
      ],
      "source": [
        "import pandas as pd\n",
        "import numpy as np\n",
        "import matplotlib.pyplot as plt\n",
        "import seaborn as sns\n",
        "import nltk\n",
        "import re\n",
        "from nltk.stem.porter import *\n",
        "from nltk.corpus import stopwords\n",
        "from sklearn.feature_extraction.text import CountVectorizer\n",
        "from sklearn.naive_bayes import MultinomialNB\n",
        "from sklearn.metrics import accuracy_score, roc_curve\n",
        "from sklearn.feature_extraction.text import TfidfTransformer\n",
        "from nltk.stem import WordNetLemmatizer\n",
        "nltk.download('wordnet')\n",
        "\n",
        "nltk.download('punkt')\n",
        "nltk.download('stopwords')"
      ]
    },
    {
      "cell_type": "code",
      "execution_count": null,
      "metadata": {
        "id": "eX7imhyKBtrE"
      },
      "outputs": [],
      "source": [
        "# read data from csv files\n",
        "train_data = pd.read_csv('https://raw.githubusercontent.com/jsAiyaya/JSC270_Data_Science_1/main/covid-tweets-train.csv', encoding = 'utf-8')\n",
        "test_data = pd.read_csv('https://raw.githubusercontent.com/jsAiyaya/JSC270_Data_Science_1/main/covid-tweets-test.csv', encoding = 'utf-8')"
      ]
    },
    {
      "cell_type": "code",
      "execution_count": null,
      "metadata": {
        "id": "Y04j294_VuKL"
      },
      "outputs": [],
      "source": [
        "# delete the useless column\n",
        "train_data = train_data.drop(['Unnamed: 0'], axis = 1)\n",
        "test_data = test_data.drop(['Unnamed: 0'], axis = 1)"
      ]
    },
    {
      "cell_type": "code",
      "execution_count": null,
      "metadata": {
        "colab": {
          "base_uri": "https://localhost:8080/",
          "height": 206
        },
        "id": "3spS9kFnCzhP",
        "outputId": "21fce010-0766-466b-a5a1-3c3ea14d2cd0"
      },
      "outputs": [
        {
          "output_type": "execute_result",
          "data": {
            "text/plain": [
              "                                       OriginalTweet Sentiment\n",
              "0  @MeNyrbie @Phil_Gahan @Chrisitv https://t.co/i...         1\n",
              "1  advice Talk to your neighbours family to excha...         2\n",
              "2  Coronavirus Australia: Woolworths to give elde...         2\n",
              "3  My food stock is not the only one which is emp...         2\n",
              "4  Me, ready to go at supermarket during the #COV...         0"
            ],
            "text/html": [
              "\n",
              "  <div id=\"df-ae66a63a-a512-4956-965d-149e385e1040\">\n",
              "    <div class=\"colab-df-container\">\n",
              "      <div>\n",
              "<style scoped>\n",
              "    .dataframe tbody tr th:only-of-type {\n",
              "        vertical-align: middle;\n",
              "    }\n",
              "\n",
              "    .dataframe tbody tr th {\n",
              "        vertical-align: top;\n",
              "    }\n",
              "\n",
              "    .dataframe thead th {\n",
              "        text-align: right;\n",
              "    }\n",
              "</style>\n",
              "<table border=\"1\" class=\"dataframe\">\n",
              "  <thead>\n",
              "    <tr style=\"text-align: right;\">\n",
              "      <th></th>\n",
              "      <th>OriginalTweet</th>\n",
              "      <th>Sentiment</th>\n",
              "    </tr>\n",
              "  </thead>\n",
              "  <tbody>\n",
              "    <tr>\n",
              "      <th>0</th>\n",
              "      <td>@MeNyrbie @Phil_Gahan @Chrisitv https://t.co/i...</td>\n",
              "      <td>1</td>\n",
              "    </tr>\n",
              "    <tr>\n",
              "      <th>1</th>\n",
              "      <td>advice Talk to your neighbours family to excha...</td>\n",
              "      <td>2</td>\n",
              "    </tr>\n",
              "    <tr>\n",
              "      <th>2</th>\n",
              "      <td>Coronavirus Australia: Woolworths to give elde...</td>\n",
              "      <td>2</td>\n",
              "    </tr>\n",
              "    <tr>\n",
              "      <th>3</th>\n",
              "      <td>My food stock is not the only one which is emp...</td>\n",
              "      <td>2</td>\n",
              "    </tr>\n",
              "    <tr>\n",
              "      <th>4</th>\n",
              "      <td>Me, ready to go at supermarket during the #COV...</td>\n",
              "      <td>0</td>\n",
              "    </tr>\n",
              "  </tbody>\n",
              "</table>\n",
              "</div>\n",
              "      <button class=\"colab-df-convert\" onclick=\"convertToInteractive('df-ae66a63a-a512-4956-965d-149e385e1040')\"\n",
              "              title=\"Convert this dataframe to an interactive table.\"\n",
              "              style=\"display:none;\">\n",
              "        \n",
              "  <svg xmlns=\"http://www.w3.org/2000/svg\" height=\"24px\"viewBox=\"0 0 24 24\"\n",
              "       width=\"24px\">\n",
              "    <path d=\"M0 0h24v24H0V0z\" fill=\"none\"/>\n",
              "    <path d=\"M18.56 5.44l.94 2.06.94-2.06 2.06-.94-2.06-.94-.94-2.06-.94 2.06-2.06.94zm-11 1L8.5 8.5l.94-2.06 2.06-.94-2.06-.94L8.5 2.5l-.94 2.06-2.06.94zm10 10l.94 2.06.94-2.06 2.06-.94-2.06-.94-.94-2.06-.94 2.06-2.06.94z\"/><path d=\"M17.41 7.96l-1.37-1.37c-.4-.4-.92-.59-1.43-.59-.52 0-1.04.2-1.43.59L10.3 9.45l-7.72 7.72c-.78.78-.78 2.05 0 2.83L4 21.41c.39.39.9.59 1.41.59.51 0 1.02-.2 1.41-.59l7.78-7.78 2.81-2.81c.8-.78.8-2.07 0-2.86zM5.41 20L4 18.59l7.72-7.72 1.47 1.35L5.41 20z\"/>\n",
              "  </svg>\n",
              "      </button>\n",
              "      \n",
              "  <style>\n",
              "    .colab-df-container {\n",
              "      display:flex;\n",
              "      flex-wrap:wrap;\n",
              "      gap: 12px;\n",
              "    }\n",
              "\n",
              "    .colab-df-convert {\n",
              "      background-color: #E8F0FE;\n",
              "      border: none;\n",
              "      border-radius: 50%;\n",
              "      cursor: pointer;\n",
              "      display: none;\n",
              "      fill: #1967D2;\n",
              "      height: 32px;\n",
              "      padding: 0 0 0 0;\n",
              "      width: 32px;\n",
              "    }\n",
              "\n",
              "    .colab-df-convert:hover {\n",
              "      background-color: #E2EBFA;\n",
              "      box-shadow: 0px 1px 2px rgba(60, 64, 67, 0.3), 0px 1px 3px 1px rgba(60, 64, 67, 0.15);\n",
              "      fill: #174EA6;\n",
              "    }\n",
              "\n",
              "    [theme=dark] .colab-df-convert {\n",
              "      background-color: #3B4455;\n",
              "      fill: #D2E3FC;\n",
              "    }\n",
              "\n",
              "    [theme=dark] .colab-df-convert:hover {\n",
              "      background-color: #434B5C;\n",
              "      box-shadow: 0px 1px 3px 1px rgba(0, 0, 0, 0.15);\n",
              "      filter: drop-shadow(0px 1px 2px rgba(0, 0, 0, 0.3));\n",
              "      fill: #FFFFFF;\n",
              "    }\n",
              "  </style>\n",
              "\n",
              "      <script>\n",
              "        const buttonEl =\n",
              "          document.querySelector('#df-ae66a63a-a512-4956-965d-149e385e1040 button.colab-df-convert');\n",
              "        buttonEl.style.display =\n",
              "          google.colab.kernel.accessAllowed ? 'block' : 'none';\n",
              "\n",
              "        async function convertToInteractive(key) {\n",
              "          const element = document.querySelector('#df-ae66a63a-a512-4956-965d-149e385e1040');\n",
              "          const dataTable =\n",
              "            await google.colab.kernel.invokeFunction('convertToInteractive',\n",
              "                                                     [key], {});\n",
              "          if (!dataTable) return;\n",
              "\n",
              "          const docLinkHtml = 'Like what you see? Visit the ' +\n",
              "            '<a target=\"_blank\" href=https://colab.research.google.com/notebooks/data_table.ipynb>data table notebook</a>'\n",
              "            + ' to learn more about interactive tables.';\n",
              "          element.innerHTML = '';\n",
              "          dataTable['output_type'] = 'display_data';\n",
              "          await google.colab.output.renderOutput(dataTable, element);\n",
              "          const docLink = document.createElement('div');\n",
              "          docLink.innerHTML = docLinkHtml;\n",
              "          element.appendChild(docLink);\n",
              "        }\n",
              "      </script>\n",
              "    </div>\n",
              "  </div>\n",
              "  "
            ]
          },
          "metadata": {},
          "execution_count": 5
        }
      ],
      "source": [
        "# have a glance of the first few observations of the dataset\n",
        "train_data.head(5)"
      ]
    },
    {
      "cell_type": "code",
      "execution_count": null,
      "metadata": {
        "colab": {
          "base_uri": "https://localhost:8080/"
        },
        "id": "1o2ivLAye1-b",
        "outputId": "ccc4bd4c-9209-452c-bb92-a2e3aa498444"
      },
      "outputs": [
        {
          "output_type": "stream",
          "name": "stdout",
          "text": [
            "<class 'pandas.core.frame.DataFrame'>\n",
            "RangeIndex: 41155 entries, 0 to 41154\n",
            "Data columns (total 2 columns):\n",
            " #   Column         Non-Null Count  Dtype \n",
            "---  ------         --------------  ----- \n",
            " 0   OriginalTweet  41155 non-null  object\n",
            " 1   Sentiment      41153 non-null  object\n",
            "dtypes: object(2)\n",
            "memory usage: 643.2+ KB\n"
          ]
        }
      ],
      "source": [
        "# notice that the data type of Sentiment in train_data is object\n",
        "train_data.info()"
      ]
    },
    {
      "cell_type": "code",
      "execution_count": null,
      "metadata": {
        "colab": {
          "base_uri": "https://localhost:8080/"
        },
        "id": "IsjIlB1ze5wC",
        "outputId": "97107d19-2a12-466b-dad9-00aa8f065fa7"
      },
      "outputs": [
        {
          "output_type": "stream",
          "name": "stdout",
          "text": [
            "<class 'pandas.core.frame.DataFrame'>\n",
            "RangeIndex: 3798 entries, 0 to 3797\n",
            "Data columns (total 2 columns):\n",
            " #   Column         Non-Null Count  Dtype \n",
            "---  ------         --------------  ----- \n",
            " 0   OriginalTweet  3798 non-null   object\n",
            " 1   Sentiment      3798 non-null   int64 \n",
            "dtypes: int64(1), object(1)\n",
            "memory usage: 59.5+ KB\n"
          ]
        }
      ],
      "source": [
        "# however, the data type of Sentiment in test_data is int\n",
        "test_data.info()"
      ]
    },
    {
      "cell_type": "code",
      "execution_count": null,
      "metadata": {
        "id": "JK228FEMLUJq"
      },
      "outputs": [],
      "source": [
        "# first remove observations with Sentiment value other than '0', '1', '2' (in train_data) or 0, 1, 2 (in test_data)\n",
        "train_data.drop(train_data.index[(train_data['Sentiment'] != '0') & (train_data['Sentiment'] != '1') & (train_data['Sentiment'] != '2')], inplace= True)\n",
        "test_data.drop(test_data.index[(test_data['Sentiment'] != 0) & (test_data['Sentiment'] != 1) & (test_data['Sentiment'] != 2)], inplace= True)\n",
        "# then change the data type of Sentiment in train_data to int\n",
        "train_data['Sentiment'] = train_data['Sentiment'].astype('int')"
      ]
    },
    {
      "cell_type": "markdown",
      "metadata": {
        "id": "jvXRBn0Si_DY"
      },
      "source": [
        "Now, we've finished processing the data we need in Part 1."
      ]
    },
    {
      "cell_type": "markdown",
      "metadata": {
        "id": "rkzni1oeyM60"
      },
      "source": [
        "# **Part 1: Sentiment Analysis with a Twitter Dataset**"
      ]
    },
    {
      "cell_type": "markdown",
      "metadata": {
        "id": "fHXKiGDnyTTh"
      },
      "source": [
        "### **(A)**"
      ]
    },
    {
      "cell_type": "code",
      "execution_count": null,
      "metadata": {
        "colab": {
          "base_uri": "https://localhost:8080/"
        },
        "id": "gIbuEk20pxrz",
        "outputId": "e0b76ae7-82c2-4b1c-d936-7598854681f5"
      },
      "outputs": [
        {
          "output_type": "stream",
          "name": "stdout",
          "text": [
            "           count\n",
            "Sentiment       \n",
            "0          15397\n",
            "1           7712\n",
            "2          18042 \n",
            "\n",
            "           proportion\n",
            "Sentiment            \n",
            "0            0.374159\n",
            "1            0.187407\n",
            "2            0.438434\n"
          ]
        }
      ],
      "source": [
        "count_table = train_data.groupby('Sentiment').count()\n",
        "count_table.columns = [\"count\"]\n",
        "print(count_table, \"\\n\")\n",
        "\n",
        "total_num = len(train_data)\n",
        "prop_table = count_table / total_num\n",
        "prop_table.columns = [\"proportion\"]\n",
        "print(prop_table)"
      ]
    },
    {
      "cell_type": "markdown",
      "metadata": {
        "id": "uRahi1ufyf3C"
      },
      "source": [
        "### **(B)**"
      ]
    },
    {
      "cell_type": "code",
      "execution_count": null,
      "metadata": {
        "id": "HYVjlfzllTmA"
      },
      "outputs": [],
      "source": [
        "# Here we write two functions for tokenization.\n",
        "\n",
        "def tokenize_alternate(df):\n",
        "  df['tokens'] = df['OriginalTweet'].apply(nltk.word_tokenize)\n",
        "\n",
        "def tokenize(df):\n",
        "  tokens = []\n",
        "  for row in df['OriginalTweet']:\n",
        "    # delete pattern http\n",
        "    tokens.append(row.split())\n",
        "  df['tokens'] = tokens\n",
        "\n",
        "tokenize(train_data)\n",
        "tokenize(test_data)"
      ]
    },
    {
      "cell_type": "markdown",
      "metadata": {
        "id": "4SSd-eMfyqz_"
      },
      "source": [
        "### **(C)**"
      ]
    },
    {
      "cell_type": "code",
      "execution_count": null,
      "metadata": {
        "id": "WPPeynxJw-yb"
      },
      "outputs": [],
      "source": [
        "# remove tokens beginning with http\n",
        "def remove_url(df):\n",
        "  tokens_no_url = []\n",
        "  for row in df['tokens']:\n",
        "    # delete pattern http\n",
        "    tokens_no_url.append([re.sub('http.*', '', t) for t in row])\n",
        "  df['tokens_no_url'] = tokens_no_url\n",
        "\n",
        "remove_url(train_data)\n",
        "remove_url(test_data)"
      ]
    },
    {
      "cell_type": "markdown",
      "metadata": {
        "id": "m0AIQEdc6M8M"
      },
      "source": [
        "### **(D)**"
      ]
    },
    {
      "cell_type": "code",
      "execution_count": null,
      "metadata": {
        "id": "zoGxQKQW3tGe"
      },
      "outputs": [],
      "source": [
        "def remove_punct(df):\n",
        "  tokens_no_punct = []\n",
        "  for row in df['tokens_no_url']:\n",
        "    tokens_no_punct.append([re.sub('[^\\w\\s]', '', t) for t in row])\n",
        "  df['tokens_no_punc'] = tokens_no_punct\n",
        "\n",
        "remove_punct(train_data)\n",
        "remove_punct(test_data)"
      ]
    },
    {
      "cell_type": "code",
      "execution_count": null,
      "metadata": {
        "colab": {
          "base_uri": "https://localhost:8080/",
          "height": 337
        },
        "id": "nxYNTcRw6zvL",
        "outputId": "f2304bfb-6efe-40f3-d887-0a5a491017a2"
      },
      "outputs": [
        {
          "output_type": "execute_result",
          "data": {
            "text/plain": [
              "                                       OriginalTweet  Sentiment  \\\n",
              "0  @MeNyrbie @Phil_Gahan @Chrisitv https://t.co/i...          1   \n",
              "1  advice Talk to your neighbours family to excha...          2   \n",
              "2  Coronavirus Australia: Woolworths to give elde...          2   \n",
              "3  My food stock is not the only one which is emp...          2   \n",
              "4  Me, ready to go at supermarket during the #COV...          0   \n",
              "\n",
              "                                              tokens  \\\n",
              "0  [@MeNyrbie, @Phil_Gahan, @Chrisitv, https://t....   \n",
              "1  [advice, Talk, to, your, neighbours, family, t...   \n",
              "2  [Coronavirus, Australia:, Woolworths, to, give...   \n",
              "3  [My, food, stock, is, not, the, only, one, whi...   \n",
              "4  [Me,, ready, to, go, at, supermarket, during, ...   \n",
              "\n",
              "                                       tokens_no_url  \\\n",
              "0  [@MeNyrbie, @Phil_Gahan, @Chrisitv, , and, , a...   \n",
              "1  [advice, Talk, to, your, neighbours, family, t...   \n",
              "2  [Coronavirus, Australia:, Woolworths, to, give...   \n",
              "3  [My, food, stock, is, not, the, only, one, whi...   \n",
              "4  [Me,, ready, to, go, at, supermarket, during, ...   \n",
              "\n",
              "                                      tokens_no_punc  \\\n",
              "0   [MeNyrbie, Phil_Gahan, Chrisitv, , and, , and, ]   \n",
              "1  [advice, Talk, to, your, neighbours, family, t...   \n",
              "2  [Coronavirus, Australia, Woolworths, to, give,...   \n",
              "3  [My, food, stock, is, not, the, only, one, whi...   \n",
              "4  [Me, ready, to, go, at, supermarket, during, t...   \n",
              "\n",
              "                                    tokens_lowercase  \n",
              "0   [menyrbie, phil_gahan, chrisitv, , and, , and, ]  \n",
              "1  [advice, talk, to, your, neighbours, family, t...  \n",
              "2  [coronavirus, australia, woolworths, to, give,...  \n",
              "3  [my, food, stock, is, not, the, only, one, whi...  \n",
              "4  [me, ready, to, go, at, supermarket, during, t...  "
            ],
            "text/html": [
              "\n",
              "  <div id=\"df-881260d6-0be1-41be-9600-a7e532e2459a\">\n",
              "    <div class=\"colab-df-container\">\n",
              "      <div>\n",
              "<style scoped>\n",
              "    .dataframe tbody tr th:only-of-type {\n",
              "        vertical-align: middle;\n",
              "    }\n",
              "\n",
              "    .dataframe tbody tr th {\n",
              "        vertical-align: top;\n",
              "    }\n",
              "\n",
              "    .dataframe thead th {\n",
              "        text-align: right;\n",
              "    }\n",
              "</style>\n",
              "<table border=\"1\" class=\"dataframe\">\n",
              "  <thead>\n",
              "    <tr style=\"text-align: right;\">\n",
              "      <th></th>\n",
              "      <th>OriginalTweet</th>\n",
              "      <th>Sentiment</th>\n",
              "      <th>tokens</th>\n",
              "      <th>tokens_no_url</th>\n",
              "      <th>tokens_no_punc</th>\n",
              "      <th>tokens_lowercase</th>\n",
              "    </tr>\n",
              "  </thead>\n",
              "  <tbody>\n",
              "    <tr>\n",
              "      <th>0</th>\n",
              "      <td>@MeNyrbie @Phil_Gahan @Chrisitv https://t.co/i...</td>\n",
              "      <td>1</td>\n",
              "      <td>[@MeNyrbie, @Phil_Gahan, @Chrisitv, https://t....</td>\n",
              "      <td>[@MeNyrbie, @Phil_Gahan, @Chrisitv, , and, , a...</td>\n",
              "      <td>[MeNyrbie, Phil_Gahan, Chrisitv, , and, , and, ]</td>\n",
              "      <td>[menyrbie, phil_gahan, chrisitv, , and, , and, ]</td>\n",
              "    </tr>\n",
              "    <tr>\n",
              "      <th>1</th>\n",
              "      <td>advice Talk to your neighbours family to excha...</td>\n",
              "      <td>2</td>\n",
              "      <td>[advice, Talk, to, your, neighbours, family, t...</td>\n",
              "      <td>[advice, Talk, to, your, neighbours, family, t...</td>\n",
              "      <td>[advice, Talk, to, your, neighbours, family, t...</td>\n",
              "      <td>[advice, talk, to, your, neighbours, family, t...</td>\n",
              "    </tr>\n",
              "    <tr>\n",
              "      <th>2</th>\n",
              "      <td>Coronavirus Australia: Woolworths to give elde...</td>\n",
              "      <td>2</td>\n",
              "      <td>[Coronavirus, Australia:, Woolworths, to, give...</td>\n",
              "      <td>[Coronavirus, Australia:, Woolworths, to, give...</td>\n",
              "      <td>[Coronavirus, Australia, Woolworths, to, give,...</td>\n",
              "      <td>[coronavirus, australia, woolworths, to, give,...</td>\n",
              "    </tr>\n",
              "    <tr>\n",
              "      <th>3</th>\n",
              "      <td>My food stock is not the only one which is emp...</td>\n",
              "      <td>2</td>\n",
              "      <td>[My, food, stock, is, not, the, only, one, whi...</td>\n",
              "      <td>[My, food, stock, is, not, the, only, one, whi...</td>\n",
              "      <td>[My, food, stock, is, not, the, only, one, whi...</td>\n",
              "      <td>[my, food, stock, is, not, the, only, one, whi...</td>\n",
              "    </tr>\n",
              "    <tr>\n",
              "      <th>4</th>\n",
              "      <td>Me, ready to go at supermarket during the #COV...</td>\n",
              "      <td>0</td>\n",
              "      <td>[Me,, ready, to, go, at, supermarket, during, ...</td>\n",
              "      <td>[Me,, ready, to, go, at, supermarket, during, ...</td>\n",
              "      <td>[Me, ready, to, go, at, supermarket, during, t...</td>\n",
              "      <td>[me, ready, to, go, at, supermarket, during, t...</td>\n",
              "    </tr>\n",
              "  </tbody>\n",
              "</table>\n",
              "</div>\n",
              "      <button class=\"colab-df-convert\" onclick=\"convertToInteractive('df-881260d6-0be1-41be-9600-a7e532e2459a')\"\n",
              "              title=\"Convert this dataframe to an interactive table.\"\n",
              "              style=\"display:none;\">\n",
              "        \n",
              "  <svg xmlns=\"http://www.w3.org/2000/svg\" height=\"24px\"viewBox=\"0 0 24 24\"\n",
              "       width=\"24px\">\n",
              "    <path d=\"M0 0h24v24H0V0z\" fill=\"none\"/>\n",
              "    <path d=\"M18.56 5.44l.94 2.06.94-2.06 2.06-.94-2.06-.94-.94-2.06-.94 2.06-2.06.94zm-11 1L8.5 8.5l.94-2.06 2.06-.94-2.06-.94L8.5 2.5l-.94 2.06-2.06.94zm10 10l.94 2.06.94-2.06 2.06-.94-2.06-.94-.94-2.06-.94 2.06-2.06.94z\"/><path d=\"M17.41 7.96l-1.37-1.37c-.4-.4-.92-.59-1.43-.59-.52 0-1.04.2-1.43.59L10.3 9.45l-7.72 7.72c-.78.78-.78 2.05 0 2.83L4 21.41c.39.39.9.59 1.41.59.51 0 1.02-.2 1.41-.59l7.78-7.78 2.81-2.81c.8-.78.8-2.07 0-2.86zM5.41 20L4 18.59l7.72-7.72 1.47 1.35L5.41 20z\"/>\n",
              "  </svg>\n",
              "      </button>\n",
              "      \n",
              "  <style>\n",
              "    .colab-df-container {\n",
              "      display:flex;\n",
              "      flex-wrap:wrap;\n",
              "      gap: 12px;\n",
              "    }\n",
              "\n",
              "    .colab-df-convert {\n",
              "      background-color: #E8F0FE;\n",
              "      border: none;\n",
              "      border-radius: 50%;\n",
              "      cursor: pointer;\n",
              "      display: none;\n",
              "      fill: #1967D2;\n",
              "      height: 32px;\n",
              "      padding: 0 0 0 0;\n",
              "      width: 32px;\n",
              "    }\n",
              "\n",
              "    .colab-df-convert:hover {\n",
              "      background-color: #E2EBFA;\n",
              "      box-shadow: 0px 1px 2px rgba(60, 64, 67, 0.3), 0px 1px 3px 1px rgba(60, 64, 67, 0.15);\n",
              "      fill: #174EA6;\n",
              "    }\n",
              "\n",
              "    [theme=dark] .colab-df-convert {\n",
              "      background-color: #3B4455;\n",
              "      fill: #D2E3FC;\n",
              "    }\n",
              "\n",
              "    [theme=dark] .colab-df-convert:hover {\n",
              "      background-color: #434B5C;\n",
              "      box-shadow: 0px 1px 3px 1px rgba(0, 0, 0, 0.15);\n",
              "      filter: drop-shadow(0px 1px 2px rgba(0, 0, 0, 0.3));\n",
              "      fill: #FFFFFF;\n",
              "    }\n",
              "  </style>\n",
              "\n",
              "      <script>\n",
              "        const buttonEl =\n",
              "          document.querySelector('#df-881260d6-0be1-41be-9600-a7e532e2459a button.colab-df-convert');\n",
              "        buttonEl.style.display =\n",
              "          google.colab.kernel.accessAllowed ? 'block' : 'none';\n",
              "\n",
              "        async function convertToInteractive(key) {\n",
              "          const element = document.querySelector('#df-881260d6-0be1-41be-9600-a7e532e2459a');\n",
              "          const dataTable =\n",
              "            await google.colab.kernel.invokeFunction('convertToInteractive',\n",
              "                                                     [key], {});\n",
              "          if (!dataTable) return;\n",
              "\n",
              "          const docLinkHtml = 'Like what you see? Visit the ' +\n",
              "            '<a target=\"_blank\" href=https://colab.research.google.com/notebooks/data_table.ipynb>data table notebook</a>'\n",
              "            + ' to learn more about interactive tables.';\n",
              "          element.innerHTML = '';\n",
              "          dataTable['output_type'] = 'display_data';\n",
              "          await google.colab.output.renderOutput(dataTable, element);\n",
              "          const docLink = document.createElement('div');\n",
              "          docLink.innerHTML = docLinkHtml;\n",
              "          element.appendChild(docLink);\n",
              "        }\n",
              "      </script>\n",
              "    </div>\n",
              "  </div>\n",
              "  "
            ]
          },
          "metadata": {},
          "execution_count": 13
        }
      ],
      "source": [
        "def lowercase(df):\n",
        "  lowercase_tokens = []\n",
        "  for row in df['tokens_no_punc']:\n",
        "    lowercase_tokens.append([t.lower() for t in row])\n",
        "  df['tokens_lowercase'] = lowercase_tokens\n",
        "\n",
        "lowercase(train_data)\n",
        "lowercase(test_data)\n",
        "train_data.head()"
      ]
    },
    {
      "cell_type": "markdown",
      "metadata": {
        "id": "zHFO5IQH-Vvf"
      },
      "source": [
        "### **(E)**"
      ]
    },
    {
      "cell_type": "code",
      "execution_count": null,
      "metadata": {
        "id": "XlzwhWCH7TpI"
      },
      "outputs": [],
      "source": [
        "# We use the Porter stemmer\n",
        "stemmer = PorterStemmer()\n",
        "\n",
        "def stem(df):\n",
        "  stemmed_tokens = []\n",
        "  for row in df['tokens_lowercase']:\n",
        "    stemmed_tokens.append([stemmer.stem(t) for t in row])\n",
        "  df['tokens'] = stemmed_tokens\n",
        "\n",
        "stem(train_data)\n",
        "stem(test_data)"
      ]
    },
    {
      "cell_type": "markdown",
      "metadata": {
        "id": "l467zaTGhOMU"
      },
      "source": [
        "### **(F)**"
      ]
    },
    {
      "cell_type": "code",
      "execution_count": null,
      "metadata": {
        "id": "_kChaBrG2b1b"
      },
      "outputs": [],
      "source": [
        "sw = stopwords.words('english')[:100]\n",
        "def remove_stopwords(df):\n",
        "  tokens_no_sw = []\n",
        "  for row in df['tokens']:\n",
        "    tokens_no_sw.append([w for w in row if w not in sw])\n",
        "  df['tokens'] = tokens_no_sw\n",
        "\n",
        "remove_stopwords(train_data)\n",
        "remove_stopwords(test_data)"
      ]
    },
    {
      "cell_type": "markdown",
      "metadata": {
        "id": "soyWepNy_QOG"
      },
      "source": [
        "### **(G)**"
      ]
    },
    {
      "cell_type": "code",
      "execution_count": null,
      "metadata": {
        "id": "lXaGHcw37cfB"
      },
      "outputs": [],
      "source": [
        "def remove_empty_string(df):\n",
        "  tokens_no_empty = []\n",
        "  for row in df['tokens']:\n",
        "    tokens_no_empty.append([w for w in row if w != ''])\n",
        "  df['tokens'] = tokens_no_empty\n",
        "\n",
        "remove_empty_string(train_data)\n",
        "remove_empty_string(test_data)"
      ]
    },
    {
      "cell_type": "code",
      "execution_count": null,
      "metadata": {
        "id": "UilLb6Ub_2-X"
      },
      "outputs": [],
      "source": [
        "# Separate labels from features, converting to numpy arrays\n",
        "X_train, y_train = train_data['tokens'].to_numpy(), train_data['Sentiment'].to_numpy()\n",
        "X_test, y_test = test_data['tokens'].to_numpy(), test_data['Sentiment'].to_numpy()\n",
        "\n",
        "X = np.concatenate([X_train, X_test])"
      ]
    },
    {
      "cell_type": "code",
      "execution_count": null,
      "metadata": {
        "id": "qcGhm_APQVQf",
        "colab": {
          "base_uri": "https://localhost:8080/"
        },
        "outputId": "9e29a29b-a8bb-4bd4-f994-e03d5c1902a9"
      },
      "outputs": [
        {
          "output_type": "stream",
          "name": "stdout",
          "text": [
            "Total vocabulary length: 55432\n"
          ]
        }
      ],
      "source": [
        "print(f\"Total vocabulary length: {np.shape(np.unique(np.concatenate(X)))[0]}\")"
      ]
    },
    {
      "cell_type": "code",
      "execution_count": null,
      "metadata": {
        "id": "kqehWBRPQDXu",
        "colab": {
          "base_uri": "https://localhost:8080/"
        },
        "outputId": "3cb01410-f807-466f-d5ef-22745095853c"
      },
      "outputs": [
        {
          "output_type": "stream",
          "name": "stdout",
          "text": [
            "train data:\n",
            "[[0 0 0 ... 0 0 0]\n",
            " [0 0 0 ... 0 0 0]\n",
            " [0 0 0 ... 0 0 0]\n",
            " ...\n",
            " [0 0 0 ... 0 0 0]\n",
            " [0 0 0 ... 0 0 0]\n",
            " [0 0 0 ... 0 0 0]]\n",
            "\n",
            " test data:\n",
            "[[0 0 0 ... 0 0 0]\n",
            " [0 0 0 ... 0 0 0]\n",
            " [0 0 0 ... 0 0 0]\n",
            " ...\n",
            " [0 0 0 ... 0 0 0]\n",
            " [0 0 0 ... 0 0 0]\n",
            " [0 0 0 ... 0 0 0]]\n"
          ]
        }
      ],
      "source": [
        "# Since we've already done some steps, we will use a dummy function to override these components.\n",
        "def override_fcn(doc):\n",
        "  # We expect a list of tokens as input\n",
        "  return doc\n",
        "\n",
        "# Count Vectorizer\n",
        "count_vec = CountVectorizer(\n",
        "    analyzer='word',\n",
        "    tokenizer= override_fcn,\n",
        "    preprocessor= override_fcn,\n",
        "    token_pattern= None,\n",
        "    max_features = 3500)\n",
        "\n",
        "count_vec.fit(X)\n",
        "counts_train = count_vec.transform(X_train)\n",
        "counts_test = count_vec.transform(X_test)\n",
        "print(\"train data:\")\n",
        "print(counts_train.toarray())\n",
        "print(\"\\n test data:\")\n",
        "print(counts_test.toarray())"
      ]
    },
    {
      "cell_type": "markdown",
      "metadata": {
        "id": "Hb233LWV9HwK"
      },
      "source": [
        "### **(H)**"
      ]
    },
    {
      "cell_type": "code",
      "execution_count": null,
      "metadata": {
        "id": "EXdjwDfD6WZG",
        "colab": {
          "base_uri": "https://localhost:8080/"
        },
        "outputId": "85566dbb-81d8-448f-81a9-6e82fcd8dd37"
      },
      "outputs": [
        {
          "output_type": "stream",
          "name": "stdout",
          "text": [
            "Training accuracy: 0.7277\n",
            "Training error:    0.2723\n",
            "Test accuracy:     0.6919\n",
            "Test error:        0.3081\n"
          ]
        }
      ],
      "source": [
        "\n",
        "# Fit the Naive Bayes model to our training data\n",
        "nb = MultinomialNB()\n",
        "# Fit model to training data\n",
        "nb.fit(counts_train, y_train)\n",
        "y_train_preds = nb.predict(counts_train)\n",
        "\n",
        "# Predict on test data\n",
        "y_test_preds = nb.predict(counts_test)\n",
        "\n",
        "print(f\"Training accuracy: {accuracy_score(y_train, y_train_preds):.4f}\")\n",
        "print(f\"Training error:    {1-accuracy_score(y_train, y_train_preds):.4f}\")\n",
        "print(f\"Test accuracy:     {accuracy_score(y_test, y_test_preds):.4f}\")\n",
        "print(f\"Test error:        {1-accuracy_score(y_test, y_test_preds):.4f}\")"
      ]
    },
    {
      "cell_type": "code",
      "execution_count": null,
      "metadata": {
        "id": "ER13VXdAafAx",
        "colab": {
          "base_uri": "https://localhost:8080/"
        },
        "outputId": "a9633932-242c-43c6-d2c6-53a618d571b0"
      },
      "outputs": [
        {
          "output_type": "stream",
          "name": "stdout",
          "text": [
            "Sentiment 0: ['coronaviru' 'covid19' 'price' 'food' 'thi']\n",
            "Counts 0:    [6703 4862 4332 3622 3206]\n",
            "Sentiment 1: ['coronaviru' 'covid19' 'store' 'supermarket' 'price']\n",
            "Counts 1:    [3792 2751 1581 1435 1361]\n",
            "Sentiment 2: ['coronaviru' 'covid19' 'store' 'thi' 'price']\n",
            "Counts 2:    [7466 6001 3895 3770 3322]\n"
          ]
        }
      ],
      "source": [
        "for label in range(3):\n",
        "  flag = y_train == label\n",
        "  tokens_label = X_train[flag]\n",
        "  words, counts = np.unique(np.concatenate(tokens_label), return_counts=True)\n",
        "  prob = counts / np.sum(counts)\n",
        "  top5_idx = prob.argsort()[-5:][::-1]\n",
        "  print(f\"Sentiment {label}: {words[top5_idx]}\")\n",
        "  print(f\"Counts {label}:    {counts[top5_idx]}\")"
      ]
    },
    {
      "cell_type": "markdown",
      "metadata": {
        "id": "HiYZrHhgd9Wu"
      },
      "source": [
        "### **(I)**"
      ]
    },
    {
      "cell_type": "markdown",
      "metadata": {
        "id": "nhghtkxLeqaS"
      },
      "source": [
        "### **(J)**"
      ]
    },
    {
      "cell_type": "code",
      "execution_count": null,
      "metadata": {
        "id": "AFyPkGRmnjG5",
        "colab": {
          "base_uri": "https://localhost:8080/"
        },
        "outputId": "efe6b29c-d684-43c2-a786-76ad97a17b94"
      },
      "outputs": [
        {
          "output_type": "stream",
          "name": "stdout",
          "text": [
            "train data:\n",
            "[[0 0 0 ... 0 0 0]\n",
            " [0 0 0 ... 0 0 0]\n",
            " [0 0 0 ... 0 0 0]\n",
            " ...\n",
            " [0 0 0 ... 0 0 0]\n",
            " [0 0 0 ... 0 0 0]\n",
            " [0 0 0 ... 0 0 0]]\n",
            "\n",
            " test data:\n",
            "[[0 0 0 ... 0 0 0]\n",
            " [0 0 0 ... 0 0 0]\n",
            " [0 0 0 ... 0 0 0]\n",
            " ...\n",
            " [0 0 0 ... 0 0 0]\n",
            " [0 0 0 ... 0 0 0]\n",
            " [0 0 0 ... 0 0 0]]\n"
          ]
        }
      ],
      "source": [
        "# Since we've already done some steps, we will use a dummy function to override these components.\n",
        "def override_fcn(doc):\n",
        "  # We expect a list of tokens as input\n",
        "  return doc\n",
        "\n",
        "# Count Vectorizer\n",
        "count_vec = CountVectorizer(\n",
        "    analyzer='word',\n",
        "    tokenizer= override_fcn,\n",
        "    preprocessor= override_fcn,\n",
        "    token_pattern= None,\n",
        "    max_features = 3000)\n",
        "\n",
        "count_vec.fit(X_train)\n",
        "counts_train = count_vec.transform(X_train)\n",
        "counts_test = count_vec.transform(X_test)\n",
        "print(\"train data:\")\n",
        "print(counts_train.toarray())\n",
        "print(\"\\n test data:\")\n",
        "print(counts_test.toarray())"
      ]
    },
    {
      "cell_type": "code",
      "execution_count": null,
      "metadata": {
        "id": "Ki0jQ5qT2k9J"
      },
      "outputs": [],
      "source": [
        "# TF-IDF Vectorize\n",
        "tfidf = TfidfTransformer()\n",
        "\n",
        "tfs = tfidf.fit(counts_train)\n",
        "tfs_X_train = tfidf.transform(counts_train)\n",
        "tfs_X_test = tfidf.transform(counts_test)"
      ]
    },
    {
      "cell_type": "code",
      "execution_count": null,
      "metadata": {
        "id": "btQi1rF1lRNM",
        "colab": {
          "base_uri": "https://localhost:8080/"
        },
        "outputId": "b7ab94ab-bc0b-4ffb-9121-5459351b375d"
      },
      "outputs": [
        {
          "output_type": "stream",
          "name": "stdout",
          "text": [
            "Training accuracy using TF-IDF: 0.7016\n",
            "Test accuracy using TF-IDF:     0.6769\n"
          ]
        }
      ],
      "source": [
        "# Fit model to training data\n",
        "nb.fit(tfs_X_train, y_train)\n",
        "tfs_y_train_preds = nb.predict(tfs_X_train)\n",
        "\n",
        "# Predict on test data\n",
        "tfs_y_test_preds = nb.predict(tfs_X_test)\n",
        "\n",
        "print(f\"Training accuracy using TF-IDF: {accuracy_score(y_train, tfs_y_train_preds):.4f}\")\n",
        "print(f\"Test accuracy using TF-IDF:     {accuracy_score(y_test, tfs_y_test_preds):.4f}\")"
      ]
    },
    {
      "cell_type": "markdown",
      "metadata": {
        "id": "NhGklaagmVBO"
      },
      "source": [
        "### **(K)**"
      ]
    },
    {
      "cell_type": "code",
      "execution_count": null,
      "metadata": {
        "id": "T4Su0pMnlamo"
      },
      "outputs": [],
      "source": [
        "# Lemmatize\n",
        "lemmatizer = WordNetLemmatizer()\n",
        "def lemmatize(df):\n",
        "  lemmatized_tokens = []\n",
        "  for row in df['tokens_lowercase']:\n",
        "    lemmatized_tokens.append([lemmatizer.lemmatize(t) for t in row])\n",
        "  df['tokens'] = lemmatized_tokens\n",
        "\n",
        "lemmatize(train_data)\n",
        "lemmatize(test_data)\n",
        "\n",
        "remove_stopwords(train_data)\n",
        "remove_stopwords(test_data)\n",
        "\n",
        "remove_empty_string(train_data)\n",
        "remove_empty_string(test_data)"
      ]
    },
    {
      "cell_type": "code",
      "execution_count": null,
      "metadata": {
        "id": "J7UuljPdsrf5",
        "colab": {
          "base_uri": "https://localhost:8080/"
        },
        "outputId": "68511e21-460e-4910-e38f-05aa6d01b8fb"
      },
      "outputs": [
        {
          "output_type": "stream",
          "name": "stdout",
          "text": [
            "train data:\n",
            "[[0 0 0 ... 0 0 0]\n",
            " [0 0 0 ... 0 0 0]\n",
            " [0 0 0 ... 0 0 0]\n",
            " ...\n",
            " [0 0 0 ... 0 0 0]\n",
            " [0 0 0 ... 0 0 0]\n",
            " [0 0 0 ... 0 0 0]]\n",
            "\n",
            " test data:\n",
            "[[0 0 0 ... 0 0 0]\n",
            " [0 0 0 ... 0 0 0]\n",
            " [0 0 0 ... 0 0 0]\n",
            " ...\n",
            " [0 0 0 ... 0 0 0]\n",
            " [0 0 0 ... 0 0 0]\n",
            " [0 0 0 ... 0 0 0]]\n"
          ]
        }
      ],
      "source": [
        "X_train, y_train = train_data['tokens'].to_numpy(), train_data['Sentiment'].to_numpy()\n",
        "X_test, y_test = test_data['tokens'].to_numpy(), test_data['Sentiment'].to_numpy()\n",
        "\n",
        "X = np.concatenate([X_train, X_test])\n",
        "\n",
        "# Since we've already done some steps, we will use a dummy function to override these components.\n",
        "def override_fcn(doc):\n",
        "  # We expect a list of tokens as input\n",
        "  return doc\n",
        "\n",
        "# Count Vectorizer\n",
        "count_vec = CountVectorizer(\n",
        "    analyzer='word',\n",
        "    tokenizer= override_fcn,\n",
        "    preprocessor= override_fcn,\n",
        "    token_pattern= None,\n",
        "    max_features = 5000)\n",
        "\n",
        "count_vec.fit(X_train)\n",
        "counts_train = count_vec.transform(X_train)\n",
        "counts_test = count_vec.transform(X_test)\n",
        "print(\"train data:\")\n",
        "print(counts_train.toarray())\n",
        "print(\"\\n test data:\")\n",
        "print(counts_test.toarray())"
      ]
    },
    {
      "cell_type": "code",
      "execution_count": null,
      "metadata": {
        "id": "1F7TRmTqsuxf",
        "colab": {
          "base_uri": "https://localhost:8080/"
        },
        "outputId": "8eee5ef0-7db4-4c5e-a54d-24c1dfb1e0c7"
      },
      "outputs": [
        {
          "output_type": "stream",
          "name": "stdout",
          "text": [
            "Training accuracy using TF-IDF: 0.7193\n",
            "Test accuracy using TF-IDF:     0.6759\n"
          ]
        }
      ],
      "source": [
        "# TF-IDF Vectorize\n",
        "tfidf = TfidfTransformer()\n",
        "\n",
        "tfs = tfidf.fit(counts_train)\n",
        "tfs_X_train = tfidf.transform(counts_train)\n",
        "tfs_X_test = tfidf.transform(counts_test)\n",
        "\n",
        "# Fit model to training data\n",
        "nb.fit(tfs_X_train, y_train)\n",
        "tfs_y_train_preds = nb.predict(tfs_X_train)\n",
        "\n",
        "# Predict on test data\n",
        "tfs_y_test_preds = nb.predict(tfs_X_test)\n",
        "\n",
        "print(f\"Training accuracy using TF-IDF: {accuracy_score(y_train, tfs_y_train_preds):.4f}\")\n",
        "print(f\"Test accuracy using TF-IDF:     {accuracy_score(y_test, tfs_y_test_preds):.4f}\")"
      ]
    },
    {
      "cell_type": "markdown",
      "metadata": {
        "id": "Oh6r8PTZjpMB"
      },
      "source": [
        "# **Part 2: Having fun with NLP using the Twitter API**"
      ]
    },
    {
      "cell_type": "code",
      "execution_count": null,
      "metadata": {
        "id": "GIWVDtTgm5k3"
      },
      "outputs": [],
      "source": [
        "api_key = 'AAZEoAavwrLaz4ANIwmzaAuZJ'\n",
        "\n",
        "api_secret_key = 'CHfzgbCAcGn7SwD1YQu8LFhdOFO9jUxoYTpZ8KSNLglu9dKbOI'\n",
        "\n",
        "access_key =  '1498783321463136257-4gOSZBPQwgHbzQblbjOUsz22iRay40'\n",
        "\n",
        "access_secret = 'AvkzUflIzQYeZrpvPcD7Vt4VJmv0xKQfFuup7NwQEP5II'"
      ]
    },
    {
      "cell_type": "code",
      "execution_count": null,
      "metadata": {
        "id": "j7Rbw3OMnIrx"
      },
      "outputs": [],
      "source": [
        "import tweepy as tw\n",
        "\n",
        "# Use credentials to authorize access\n",
        "auth = tw.OAuthHandler(api_key, api_secret_key)\n",
        "auth.set_access_token(access_key, access_secret)\n",
        "api = tw.API(auth, wait_on_rate_limit=True)"
      ]
    },
    {
      "cell_type": "code",
      "execution_count": null,
      "metadata": {
        "id": "4zRCjwCpOu3x"
      },
      "outputs": [],
      "source": [
        "# This code block would run for a long time. We have saved the result in a csv\n",
        "# file below if you don't want to run it.\n",
        "\n",
        "# search_words = 'oil'\n",
        "# date_since = \"2022-03-10\"\n",
        "# search_with_filter = search_words + \" -filter:retweets\"\n",
        "\n",
        "# #Collect tweets (here, I get 10000)\n",
        "# tweets = tw.Cursor(api.search,\n",
        "#               q=search_with_filter,\n",
        "#               lang=\"en\",\n",
        "#               tweet_mode=\"extended\",\n",
        "#               since=date_since).items(10000)"
      ]
    },
    {
      "cell_type": "code",
      "execution_count": null,
      "metadata": {
        "id": "EpDNI230bDNq"
      },
      "outputs": [],
      "source": [
        "# OriginalTweet = []\n",
        "# for tweet in tweets:\n",
        "#   OriginalTweet.append(tweet.full_text)\n",
        "\n",
        "# a = {'OriginalTweet': OriginalTweet}\n",
        "# df = pd.DataFrame(data = a)\n",
        "# df.head()"
      ]
    },
    {
      "cell_type": "code",
      "execution_count": null,
      "metadata": {
        "id": "CGg0zFE0YzB8"
      },
      "outputs": [],
      "source": [
        "# from google.colab import files\n",
        "# df.to_csv('a4.csv')\n",
        "# files.download('a4.csv')"
      ]
    },
    {
      "cell_type": "code",
      "source": [
        "url = 'https://raw.githubusercontent.com/jsAiyaya/JSC270_Data_Science_1/main/tweet_oil_data.csv'\n",
        "df = pd.read_csv(url)\n",
        "df = df.drop(['Unnamed: 0'], axis = 1)"
      ],
      "metadata": {
        "id": "RYzVmwlsyO1G"
      },
      "execution_count": null,
      "outputs": []
    },
    {
      "cell_type": "code",
      "source": [
        "# tokenization\n",
        "tokenize_alternate(df)"
      ],
      "metadata": {
        "id": "oFmP7ADpwdrt"
      },
      "execution_count": null,
      "outputs": []
    },
    {
      "cell_type": "code",
      "source": [
        "!pip install matplotlib"
      ],
      "metadata": {
        "colab": {
          "base_uri": "https://localhost:8080/"
        },
        "id": "h-M0adT8zdQ1",
        "outputId": "8ec3ca88-1fea-4d9f-decc-7aab3bdeecf5"
      },
      "execution_count": null,
      "outputs": [
        {
          "output_type": "stream",
          "name": "stdout",
          "text": [
            "Requirement already satisfied: matplotlib in /usr/local/lib/python3.7/dist-packages (3.3.4)\n",
            "Requirement already satisfied: kiwisolver>=1.0.1 in /usr/local/lib/python3.7/dist-packages (from matplotlib) (1.4.0)\n",
            "Requirement already satisfied: cycler>=0.10 in /usr/local/lib/python3.7/dist-packages (from matplotlib) (0.11.0)\n",
            "Requirement already satisfied: pyparsing!=2.0.4,!=2.1.2,!=2.1.6,>=2.0.3 in /usr/local/lib/python3.7/dist-packages (from matplotlib) (3.0.7)\n",
            "Requirement already satisfied: pillow>=6.2.0 in /usr/local/lib/python3.7/dist-packages (from matplotlib) (7.2.0)\n",
            "Requirement already satisfied: python-dateutil>=2.1 in /usr/local/lib/python3.7/dist-packages (from matplotlib) (2.8.2)\n",
            "Requirement already satisfied: numpy>=1.15 in /usr/local/lib/python3.7/dist-packages (from matplotlib) (1.21.5)\n",
            "Requirement already satisfied: typing-extensions in /usr/local/lib/python3.7/dist-packages (from kiwisolver>=1.0.1->matplotlib) (3.10.0.2)\n",
            "Requirement already satisfied: six>=1.5 in /usr/local/lib/python3.7/dist-packages (from python-dateutil>=2.1->matplotlib) (1.15.0)\n"
          ]
        }
      ]
    },
    {
      "cell_type": "code",
      "source": [
        "lens = []\n",
        "for row in df['tokens']:\n",
        "  lens.append(len(row))\n",
        "df['lens'] = lens\n",
        "\n",
        "ax = df['lens'].value_counts().plot(kind='bar',\n",
        "                                    figsize=(20,8),\n",
        "                                    title=\"Count for each tweet length\")\n",
        "ax.set_xlabel(\"tweet length/words\")\n",
        "ax.set_ylabel(\"Count\")\n"
      ],
      "metadata": {
        "colab": {
          "base_uri": "https://localhost:8080/",
          "height": 540
        },
        "id": "L-9ShL13wiJl",
        "outputId": "83362926-f9bb-4863-d909-944d5bec9926"
      },
      "execution_count": null,
      "outputs": [
        {
          "output_type": "execute_result",
          "data": {
            "text/plain": [
              "Text(0, 0.5, 'Count')"
            ]
          },
          "metadata": {},
          "execution_count": 22
        },
        {
          "output_type": "display_data",
          "data": {
            "text/plain": [
              "<Figure size 1440x576 with 1 Axes>"
            ],
            "image/png": "[encoded data removed]"
          },
          "metadata": {
            "needs_background": "light"
          }
        }
      ]
    },
    {
      "cell_type": "code",
      "execution_count": null,
      "metadata": {
        "colab": {
          "base_uri": "https://localhost:8080/",
          "height": 337
        },
        "id": "acFYJW4fSa28",
        "outputId": "9d6441fc-bd0d-4af1-8e23-9d04eb2ef63b"
      },
      "outputs": [
        {
          "output_type": "execute_result",
          "data": {
            "text/plain": [
              "                                          OriginalTweet  \\\n",
              "6356  @ComfortablySmug Cruz's Self-Serving Campaign ...   \n",
              "6357  Natural-gas futures jump by nearly 6%; oil set...   \n",
              "6358  @ChifeDr Sir, Africa is poor because the leade...   \n",
              "6359  Our oil supplements start at £39.95 for 600mg....   \n",
              "6360  The Keystone XL Pipeline could be supplying us...   \n",
              "\n",
              "                                                 tokens  \\\n",
              "6356  [comfortablysmug, cruz, s, selfserving, campai...   \n",
              "6357  [naturalgas, future, jump, nearly, 6, oil, set...   \n",
              "6358  [chifedr, sir, africa, poor, leader, irrespons...   \n",
              "6359  [oil, supplement, start, 3995, 600mg, make, u,...   \n",
              "6360  [keystone, xl, pipeline, could, supplying, u, ...   \n",
              "\n",
              "                                          tokens_no_url  \\\n",
              "6356  [@, ComfortablySmug, Cruz, 's, Self-Serving, C...   \n",
              "6357  [Natural-gas, futures, jump, by, nearly, 6, %,...   \n",
              "6358  [@, ChifeDr, Sir, ,, Africa, is, poor, because...   \n",
              "6359  [Our, oil, supplements, start, at, £39.95, for...   \n",
              "6360  [The, Keystone, XL, Pipeline, could, be, suppl...   \n",
              "\n",
              "                                         tokens_no_punc  \\\n",
              "6356  [, ComfortablySmug, Cruz, s, SelfServing, Camp...   \n",
              "6357  [Naturalgas, futures, jump, by, nearly, 6, , ,...   \n",
              "6358  [, ChifeDr, Sir, , Africa, is, poor, because, ...   \n",
              "6359  [Our, oil, supplements, start, at, 3995, for, ...   \n",
              "6360  [The, Keystone, XL, Pipeline, could, be, suppl...   \n",
              "\n",
              "                                       tokens_lowercase  lens  \n",
              "6356  [, comfortablysmug, cruz, s, selfserving, camp...    64  \n",
              "6357  [naturalgas, futures, jump, by, nearly, 6, , ,...    14  \n",
              "6358  [, chifedr, sir, , africa, is, poor, because, ...    69  \n",
              "6359  [our, oil, supplements, start, at, 3995, for, ...    41  \n",
              "6360  [the, keystone, xl, pipeline, could, be, suppl...    50  "
            ],
            "text/html": [
              "\n",
              "  <div id=\"df-b7a5517f-0e07-4a3e-9444-67e6780fbac7\">\n",
              "    <div class=\"colab-df-container\">\n",
              "      <div>\n",
              "<style scoped>\n",
              "    .dataframe tbody tr th:only-of-type {\n",
              "        vertical-align: middle;\n",
              "    }\n",
              "\n",
              "    .dataframe tbody tr th {\n",
              "        vertical-align: top;\n",
              "    }\n",
              "\n",
              "    .dataframe thead th {\n",
              "        text-align: right;\n",
              "    }\n",
              "</style>\n",
              "<table border=\"1\" class=\"dataframe\">\n",
              "  <thead>\n",
              "    <tr style=\"text-align: right;\">\n",
              "      <th></th>\n",
              "      <th>OriginalTweet</th>\n",
              "      <th>tokens</th>\n",
              "      <th>tokens_no_url</th>\n",
              "      <th>tokens_no_punc</th>\n",
              "      <th>tokens_lowercase</th>\n",
              "      <th>lens</th>\n",
              "    </tr>\n",
              "  </thead>\n",
              "  <tbody>\n",
              "    <tr>\n",
              "      <th>6356</th>\n",
              "      <td>@ComfortablySmug Cruz's Self-Serving Campaign ...</td>\n",
              "      <td>[comfortablysmug, cruz, s, selfserving, campai...</td>\n",
              "      <td>[@, ComfortablySmug, Cruz, 's, Self-Serving, C...</td>\n",
              "      <td>[, ComfortablySmug, Cruz, s, SelfServing, Camp...</td>\n",
              "      <td>[, comfortablysmug, cruz, s, selfserving, camp...</td>\n",
              "      <td>64</td>\n",
              "    </tr>\n",
              "    <tr>\n",
              "      <th>6357</th>\n",
              "      <td>Natural-gas futures jump by nearly 6%; oil set...</td>\n",
              "      <td>[naturalgas, future, jump, nearly, 6, oil, set...</td>\n",
              "      <td>[Natural-gas, futures, jump, by, nearly, 6, %,...</td>\n",
              "      <td>[Naturalgas, futures, jump, by, nearly, 6, , ,...</td>\n",
              "      <td>[naturalgas, futures, jump, by, nearly, 6, , ,...</td>\n",
              "      <td>14</td>\n",
              "    </tr>\n",
              "    <tr>\n",
              "      <th>6358</th>\n",
              "      <td>@ChifeDr Sir, Africa is poor because the leade...</td>\n",
              "      <td>[chifedr, sir, africa, poor, leader, irrespons...</td>\n",
              "      <td>[@, ChifeDr, Sir, ,, Africa, is, poor, because...</td>\n",
              "      <td>[, ChifeDr, Sir, , Africa, is, poor, because, ...</td>\n",
              "      <td>[, chifedr, sir, , africa, is, poor, because, ...</td>\n",
              "      <td>69</td>\n",
              "    </tr>\n",
              "    <tr>\n",
              "      <th>6359</th>\n",
              "      <td>Our oil supplements start at £39.95 for 600mg....</td>\n",
              "      <td>[oil, supplement, start, 3995, 600mg, make, u,...</td>\n",
              "      <td>[Our, oil, supplements, start, at, £39.95, for...</td>\n",
              "      <td>[Our, oil, supplements, start, at, 3995, for, ...</td>\n",
              "      <td>[our, oil, supplements, start, at, 3995, for, ...</td>\n",
              "      <td>41</td>\n",
              "    </tr>\n",
              "    <tr>\n",
              "      <th>6360</th>\n",
              "      <td>The Keystone XL Pipeline could be supplying us...</td>\n",
              "      <td>[keystone, xl, pipeline, could, supplying, u, ...</td>\n",
              "      <td>[The, Keystone, XL, Pipeline, could, be, suppl...</td>\n",
              "      <td>[The, Keystone, XL, Pipeline, could, be, suppl...</td>\n",
              "      <td>[the, keystone, xl, pipeline, could, be, suppl...</td>\n",
              "      <td>50</td>\n",
              "    </tr>\n",
              "  </tbody>\n",
              "</table>\n",
              "</div>\n",
              "      <button class=\"colab-df-convert\" onclick=\"convertToInteractive('df-b7a5517f-0e07-4a3e-9444-67e6780fbac7')\"\n",
              "              title=\"Convert this dataframe to an interactive table.\"\n",
              "              style=\"display:none;\">\n",
              "        \n",
              "  <svg xmlns=\"http://www.w3.org/2000/svg\" height=\"24px\"viewBox=\"0 0 24 24\"\n",
              "       width=\"24px\">\n",
              "    <path d=\"M0 0h24v24H0V0z\" fill=\"none\"/>\n",
              "    <path d=\"M18.56 5.44l.94 2.06.94-2.06 2.06-.94-2.06-.94-.94-2.06-.94 2.06-2.06.94zm-11 1L8.5 8.5l.94-2.06 2.06-.94-2.06-.94L8.5 2.5l-.94 2.06-2.06.94zm10 10l.94 2.06.94-2.06 2.06-.94-2.06-.94-.94-2.06-.94 2.06-2.06.94z\"/><path d=\"M17.41 7.96l-1.37-1.37c-.4-.4-.92-.59-1.43-.59-.52 0-1.04.2-1.43.59L10.3 9.45l-7.72 7.72c-.78.78-.78 2.05 0 2.83L4 21.41c.39.39.9.59 1.41.59.51 0 1.02-.2 1.41-.59l7.78-7.78 2.81-2.81c.8-.78.8-2.07 0-2.86zM5.41 20L4 18.59l7.72-7.72 1.47 1.35L5.41 20z\"/>\n",
              "  </svg>\n",
              "      </button>\n",
              "      \n",
              "  <style>\n",
              "    .colab-df-container {\n",
              "      display:flex;\n",
              "      flex-wrap:wrap;\n",
              "      gap: 12px;\n",
              "    }\n",
              "\n",
              "    .colab-df-convert {\n",
              "      background-color: #E8F0FE;\n",
              "      border: none;\n",
              "      border-radius: 50%;\n",
              "      cursor: pointer;\n",
              "      display: none;\n",
              "      fill: #1967D2;\n",
              "      height: 32px;\n",
              "      padding: 0 0 0 0;\n",
              "      width: 32px;\n",
              "    }\n",
              "\n",
              "    .colab-df-convert:hover {\n",
              "      background-color: #E2EBFA;\n",
              "      box-shadow: 0px 1px 2px rgba(60, 64, 67, 0.3), 0px 1px 3px 1px rgba(60, 64, 67, 0.15);\n",
              "      fill: #174EA6;\n",
              "    }\n",
              "\n",
              "    [theme=dark] .colab-df-convert {\n",
              "      background-color: #3B4455;\n",
              "      fill: #D2E3FC;\n",
              "    }\n",
              "\n",
              "    [theme=dark] .colab-df-convert:hover {\n",
              "      background-color: #434B5C;\n",
              "      box-shadow: 0px 1px 3px 1px rgba(0, 0, 0, 0.15);\n",
              "      filter: drop-shadow(0px 1px 2px rgba(0, 0, 0, 0.3));\n",
              "      fill: #FFFFFF;\n",
              "    }\n",
              "  </style>\n",
              "\n",
              "      <script>\n",
              "        const buttonEl =\n",
              "          document.querySelector('#df-b7a5517f-0e07-4a3e-9444-67e6780fbac7 button.colab-df-convert');\n",
              "        buttonEl.style.display =\n",
              "          google.colab.kernel.accessAllowed ? 'block' : 'none';\n",
              "\n",
              "        async function convertToInteractive(key) {\n",
              "          const element = document.querySelector('#df-b7a5517f-0e07-4a3e-9444-67e6780fbac7');\n",
              "          const dataTable =\n",
              "            await google.colab.kernel.invokeFunction('convertToInteractive',\n",
              "                                                     [key], {});\n",
              "          if (!dataTable) return;\n",
              "\n",
              "          const docLinkHtml = 'Like what you see? Visit the ' +\n",
              "            '<a target=\"_blank\" href=https://colab.research.google.com/notebooks/data_table.ipynb>data table notebook</a>'\n",
              "            + ' to learn more about interactive tables.';\n",
              "          element.innerHTML = '';\n",
              "          dataTable['output_type'] = 'display_data';\n",
              "          await google.colab.output.renderOutput(dataTable, element);\n",
              "          const docLink = document.createElement('div');\n",
              "          docLink.innerHTML = docLinkHtml;\n",
              "          element.appendChild(docLink);\n",
              "        }\n",
              "      </script>\n",
              "    </div>\n",
              "  </div>\n",
              "  "
            ]
          },
          "metadata": {},
          "execution_count": 33
        }
      ],
      "source": [
        "# remove url\n",
        "remove_url(df)\n",
        "\n",
        "# remove punctuation\n",
        "remove_punct(df)\n",
        "\n",
        "# convert to lower case\n",
        "lowercase(df)\n",
        "\n",
        "# stem\n",
        "lemmatize(df)\n",
        "\n",
        "# we use all stopwords here\n",
        "sw_more = stopwords.words('english')\n",
        "sw_more.append(\"s\")\n",
        "def remove_more_stopwords(df):\n",
        "  tokens_no_sw = []\n",
        "  for row in df['tokens']:\n",
        "    tokens_no_sw.append([w for w in row if w not in sw])\n",
        "  df['tokens'] = tokens_no_sw\n",
        "\n",
        "# remove stop words\n",
        "remove_stopwords(df)\n",
        "\n",
        "# remove empty string\n",
        "remove_empty_string(df)\n",
        "\n",
        "df.tail()"
      ]
    },
    {
      "cell_type": "code",
      "source": [
        "len(list(np.unique(np.concatenate(df['tokens']))))"
      ],
      "metadata": {
        "colab": {
          "base_uri": "https://localhost:8080/"
        },
        "id": "xxiQvGtQfQFg",
        "outputId": "a596488a-5b4f-447e-fe4b-a4268144cb05"
      },
      "execution_count": null,
      "outputs": [
        {
          "output_type": "execute_result",
          "data": {
            "text/plain": [
              "22266"
            ]
          },
          "metadata": {},
          "execution_count": 34
        }
      ]
    },
    {
      "cell_type": "code",
      "execution_count": null,
      "metadata": {
        "colab": {
          "base_uri": "https://localhost:8080/"
        },
        "id": "4d-2PPl0c4FY",
        "outputId": "dcd3e54a-feb3-4f07-dd72-dca1ac249c54"
      },
      "outputs": [
        {
          "output_type": "stream",
          "name": "stderr",
          "text": [
            "/usr/local/lib/python3.7/dist-packages/sklearn/utils/deprecation.py:87: FutureWarning: Function get_feature_names is deprecated; get_feature_names is deprecated in 1.0 and will be removed in 1.2. Please use get_feature_names_out instead.\n",
            "  warnings.warn(msg, category=FutureWarning)\n"
          ]
        },
        {
          "output_type": "stream",
          "name": "stdout",
          "text": [
            "Topic 1:\n",
            "['oil', 'nt', 'not', 'russian', 'gas', 'so', 'u', 'can', 'why', 'need', 'will', 'russia', 'get', 'all', 'war', 'painting', 'buying', 's', 'doe', 'world', 'would', 'how', 'more', 'know', 'country', 'just', 'most', 'new', 'want', 'make']\n",
            "Topic 2:\n",
            "['oil', 's', 'gas', 'will', 'now', 'stop', 'stock', 'last', 'woman', 'week', 'food', 'child', 'russian', 'war', 'amp', 'all', 'russia', 'not', 'putin', 'treat', 'coal', 'distributed', 'braun4indiana', 'repbrianfitz', 'wfp', 'cereal', 'exhausted', 'fortified', 'malnourished', 'reprickallen']\n",
            "Topic 3:\n",
            "['oil', 'price', 'gas', 'biden', 'u', 's', 'amp', 't', 'ha', 'pipeline', 'energy', 'company', 'wa', 'not', 'production', 'more', 'now', 'will', 'nt', 'trump', 'market', 'keystone', 'when', 'would', 'so', 'supply', 'fuel', 'high', 'policy', 'country']\n",
            "Topic 4:\n",
            "['oil', 's', 'not', 'wa', 'all', 'just', 'no', 'like', 'so', 'm', 'nt', 'time', 'get', 'when', 'more', 't', 'good', 'change', 'there', 'well', 'can', 'make', 'car', 'will', 'got', 've', 'now', 'money', 'too', 'going']\n",
            "Topic 5:\n",
            "['oil', 'olive', 's', 'amp', 'some', 'one', 'cooking', 'garlic', 're', 'just', 'salt', 'can', 'like', 'use', 'hair', 'all', 'good', 'wa', 'vegetable', 'fresh', 'll', 'how', 'seed', 'add', 'snake', 'only', 'cream', 'food', 'also', 'not']\n",
            "Topic 6:\n",
            "['oil', 'gas', 'russia', 'ukraine', 'russian', 'energy', 'embargo', 'save', 'close', 'impose', 'sky', 'sanction', 'mariupol', 'amp', 'price', 'now', 'coal', 'fuel', 'company', 'big', 'billion', 'fossil', 'will', 's', 'putin', '1', 'eu', 'ha', 'say', 'war']\n",
            "Topic 7:\n",
            "['oil', 'more', 'company', 'profit', 'not', 'gas', 'tax', 'big', 'juststop_oil', 'can', 'u', 's', 'than', 'change', 'price', 'climate', 'record', 'all', 'there', 'money', 'way', 'get', 'amp', 'people', 'xrebellionuk', 'would', 'will', 'talkradio', 'nt', 're']\n",
            "Topic 8:\n",
            "['oil', '1', 'stew', 'onion', 'cook', 'pepper', '500', 'tomato', 'one', 'na', 'litre', 'use', 'buy', 'liter', 'no', 'go', 'chicken', 'dey', '2', '2k', 's', 'like', 't', 'pot', 'wan', 'water', 'cbd', '100', 'don', 'can']\n"
          ]
        }
      ],
      "source": [
        "from sklearn.feature_extraction.text import CountVectorizer\n",
        "from sklearn.decomposition import LatentDirichletAllocation\n",
        "\n",
        "X_train = df['tokens'].to_numpy()\n",
        "def override_fcn(doc):\n",
        "  return doc\n",
        "\n",
        "# We will tune the number of topic later\n",
        "def build_lda(x_train, num_of_topic=8):\n",
        "  transformed_x_train = count_vec.fit_transform(x_train)\n",
        "  feature_names = count_vec.get_feature_names()\n",
        "  lda = LatentDirichletAllocation(n_components=num_of_topic, max_iter=8, learning_method='batch', random_state=0)\n",
        "  lda_transformed = lda.fit_transform(transformed_x_train)\n",
        "  return lda, feature_names, lda_transformed\n",
        "\n",
        "# display the top 30 most probable words for each topic\n",
        "def display_word_distribution(model, feature_names, n_word):\n",
        "  for topic_idx, topic in enumerate(model.components_):\n",
        "    print(\"Topic %d:\" % (topic_idx + 1))\n",
        "    words = []\n",
        "    for i in topic.argsort()[:-n_word - 1:-1]:\n",
        "      words.append(feature_names[i])\n",
        "    print(words)\n",
        "\n",
        "lda_model, feature_names, lda_transformed = build_lda(X_train)\n",
        "display_word_distribution(\n",
        "    model=lda_model, feature_names=feature_names, \n",
        "    n_word=30)"
      ]
    },
    {
      "cell_type": "code",
      "execution_count": null,
      "metadata": {
        "colab": {
          "base_uri": "https://localhost:8080/",
          "height": 337
        },
        "id": "9K8WJSakUFYo",
        "outputId": "d6e15881-7a11-4be9-c247-aa231cbdf771"
      },
      "outputs": [
        {
          "output_type": "execute_result",
          "data": {
            "text/plain": [
              "                                       OriginalTweet  \\\n",
              "0  Twenty more #people have been #arrested follow...   \n",
              "1  @Quivcy 1ltr of oil for a pot of stew.\\nShe wa...   \n",
              "2  @City_Xtra @ManCity @PepTeam YOU HAVE NO FANS ...   \n",
              "3  @waziu @ikeoluwaaaaaa Exactly. Basically if sh...   \n",
              "4  Fair enough, probably just oil or something if...   \n",
              "\n",
              "                                              tokens  \\\n",
              "0  [twenty, more, people, arrested, following, pr...   \n",
              "1  [quivcy, 1ltr, oil, pot, stew, wan, swim, inside]   \n",
              "2  [city_xtra, mancity, pepteam, no, fan, oil, cl...   \n",
              "3  [waziu, ikeoluwaaaaaa, exactly, basically, coo...   \n",
              "4  [fair, enough, probably, just, oil, something,...   \n",
              "\n",
              "                                       tokens_no_url  \\\n",
              "0  [Twenty, more, #, people, have, been, #, arres...   \n",
              "1  [@, Quivcy, 1ltr, of, oil, for, a, pot, of, st...   \n",
              "2  [@, City_Xtra, @, ManCity, @, PepTeam, YOU, HA...   \n",
              "3  [@, waziu, @, ikeoluwaaaaaa, Exactly, ., Basic...   \n",
              "4  [Fair, enough, ,, probably, just, oil, or, som...   \n",
              "\n",
              "                                      tokens_no_punc  \\\n",
              "0  [Twenty, more, , people, have, been, , arreste...   \n",
              "1  [, Quivcy, 1ltr, of, oil, for, a, pot, of, ste...   \n",
              "2  [, City_Xtra, , ManCity, , PepTeam, YOU, HAVE,...   \n",
              "3  [, waziu, , ikeoluwaaaaaa, Exactly, , Basicall...   \n",
              "4  [Fair, enough, , probably, just, oil, or, some...   \n",
              "\n",
              "                                    tokens_lowercase  lens  topic  \n",
              "0  [twenty, more, , people, have, been, , arreste...    42      4  \n",
              "1  [, quivcy, 1ltr, of, oil, for, a, pot, of, ste...    16      8  \n",
              "2  [, city_xtra, , mancity, , pepteam, you, have,...    15      7  \n",
              "3  [, waziu, , ikeoluwaaaaaa, exactly, , basicall...    63      8  \n",
              "4  [fair, enough, , probably, just, oil, or, some...    22      4  "
            ],
            "text/html": [
              "\n",
              "  <div id=\"df-5f956768-7397-4616-94bc-d9167b50f4f0\">\n",
              "    <div class=\"colab-df-container\">\n",
              "      <div>\n",
              "<style scoped>\n",
              "    .dataframe tbody tr th:only-of-type {\n",
              "        vertical-align: middle;\n",
              "    }\n",
              "\n",
              "    .dataframe tbody tr th {\n",
              "        vertical-align: top;\n",
              "    }\n",
              "\n",
              "    .dataframe thead th {\n",
              "        text-align: right;\n",
              "    }\n",
              "</style>\n",
              "<table border=\"1\" class=\"dataframe\">\n",
              "  <thead>\n",
              "    <tr style=\"text-align: right;\">\n",
              "      <th></th>\n",
              "      <th>OriginalTweet</th>\n",
              "      <th>tokens</th>\n",
              "      <th>tokens_no_url</th>\n",
              "      <th>tokens_no_punc</th>\n",
              "      <th>tokens_lowercase</th>\n",
              "      <th>lens</th>\n",
              "      <th>topic</th>\n",
              "    </tr>\n",
              "  </thead>\n",
              "  <tbody>\n",
              "    <tr>\n",
              "      <th>0</th>\n",
              "      <td>Twenty more #people have been #arrested follow...</td>\n",
              "      <td>[twenty, more, people, arrested, following, pr...</td>\n",
              "      <td>[Twenty, more, #, people, have, been, #, arres...</td>\n",
              "      <td>[Twenty, more, , people, have, been, , arreste...</td>\n",
              "      <td>[twenty, more, , people, have, been, , arreste...</td>\n",
              "      <td>42</td>\n",
              "      <td>4</td>\n",
              "    </tr>\n",
              "    <tr>\n",
              "      <th>1</th>\n",
              "      <td>@Quivcy 1ltr of oil for a pot of stew.\\nShe wa...</td>\n",
              "      <td>[quivcy, 1ltr, oil, pot, stew, wan, swim, inside]</td>\n",
              "      <td>[@, Quivcy, 1ltr, of, oil, for, a, pot, of, st...</td>\n",
              "      <td>[, Quivcy, 1ltr, of, oil, for, a, pot, of, ste...</td>\n",
              "      <td>[, quivcy, 1ltr, of, oil, for, a, pot, of, ste...</td>\n",
              "      <td>16</td>\n",
              "      <td>8</td>\n",
              "    </tr>\n",
              "    <tr>\n",
              "      <th>2</th>\n",
              "      <td>@City_Xtra @ManCity @PepTeam YOU HAVE NO FANS ...</td>\n",
              "      <td>[city_xtra, mancity, pepteam, no, fan, oil, cl...</td>\n",
              "      <td>[@, City_Xtra, @, ManCity, @, PepTeam, YOU, HA...</td>\n",
              "      <td>[, City_Xtra, , ManCity, , PepTeam, YOU, HAVE,...</td>\n",
              "      <td>[, city_xtra, , mancity, , pepteam, you, have,...</td>\n",
              "      <td>15</td>\n",
              "      <td>7</td>\n",
              "    </tr>\n",
              "    <tr>\n",
              "      <th>3</th>\n",
              "      <td>@waziu @ikeoluwaaaaaa Exactly. Basically if sh...</td>\n",
              "      <td>[waziu, ikeoluwaaaaaa, exactly, basically, coo...</td>\n",
              "      <td>[@, waziu, @, ikeoluwaaaaaa, Exactly, ., Basic...</td>\n",
              "      <td>[, waziu, , ikeoluwaaaaaa, Exactly, , Basicall...</td>\n",
              "      <td>[, waziu, , ikeoluwaaaaaa, exactly, , basicall...</td>\n",
              "      <td>63</td>\n",
              "      <td>8</td>\n",
              "    </tr>\n",
              "    <tr>\n",
              "      <th>4</th>\n",
              "      <td>Fair enough, probably just oil or something if...</td>\n",
              "      <td>[fair, enough, probably, just, oil, something,...</td>\n",
              "      <td>[Fair, enough, ,, probably, just, oil, or, som...</td>\n",
              "      <td>[Fair, enough, , probably, just, oil, or, some...</td>\n",
              "      <td>[fair, enough, , probably, just, oil, or, some...</td>\n",
              "      <td>22</td>\n",
              "      <td>4</td>\n",
              "    </tr>\n",
              "  </tbody>\n",
              "</table>\n",
              "</div>\n",
              "      <button class=\"colab-df-convert\" onclick=\"convertToInteractive('df-5f956768-7397-4616-94bc-d9167b50f4f0')\"\n",
              "              title=\"Convert this dataframe to an interactive table.\"\n",
              "              style=\"display:none;\">\n",
              "        \n",
              "  <svg xmlns=\"http://www.w3.org/2000/svg\" height=\"24px\"viewBox=\"0 0 24 24\"\n",
              "       width=\"24px\">\n",
              "    <path d=\"M0 0h24v24H0V0z\" fill=\"none\"/>\n",
              "    <path d=\"M18.56 5.44l.94 2.06.94-2.06 2.06-.94-2.06-.94-.94-2.06-.94 2.06-2.06.94zm-11 1L8.5 8.5l.94-2.06 2.06-.94-2.06-.94L8.5 2.5l-.94 2.06-2.06.94zm10 10l.94 2.06.94-2.06 2.06-.94-2.06-.94-.94-2.06-.94 2.06-2.06.94z\"/><path d=\"M17.41 7.96l-1.37-1.37c-.4-.4-.92-.59-1.43-.59-.52 0-1.04.2-1.43.59L10.3 9.45l-7.72 7.72c-.78.78-.78 2.05 0 2.83L4 21.41c.39.39.9.59 1.41.59.51 0 1.02-.2 1.41-.59l7.78-7.78 2.81-2.81c.8-.78.8-2.07 0-2.86zM5.41 20L4 18.59l7.72-7.72 1.47 1.35L5.41 20z\"/>\n",
              "  </svg>\n",
              "      </button>\n",
              "      \n",
              "  <style>\n",
              "    .colab-df-container {\n",
              "      display:flex;\n",
              "      flex-wrap:wrap;\n",
              "      gap: 12px;\n",
              "    }\n",
              "\n",
              "    .colab-df-convert {\n",
              "      background-color: #E8F0FE;\n",
              "      border: none;\n",
              "      border-radius: 50%;\n",
              "      cursor: pointer;\n",
              "      display: none;\n",
              "      fill: #1967D2;\n",
              "      height: 32px;\n",
              "      padding: 0 0 0 0;\n",
              "      width: 32px;\n",
              "    }\n",
              "\n",
              "    .colab-df-convert:hover {\n",
              "      background-color: #E2EBFA;\n",
              "      box-shadow: 0px 1px 2px rgba(60, 64, 67, 0.3), 0px 1px 3px 1px rgba(60, 64, 67, 0.15);\n",
              "      fill: #174EA6;\n",
              "    }\n",
              "\n",
              "    [theme=dark] .colab-df-convert {\n",
              "      background-color: #3B4455;\n",
              "      fill: #D2E3FC;\n",
              "    }\n",
              "\n",
              "    [theme=dark] .colab-df-convert:hover {\n",
              "      background-color: #434B5C;\n",
              "      box-shadow: 0px 1px 3px 1px rgba(0, 0, 0, 0.15);\n",
              "      filter: drop-shadow(0px 1px 2px rgba(0, 0, 0, 0.3));\n",
              "      fill: #FFFFFF;\n",
              "    }\n",
              "  </style>\n",
              "\n",
              "      <script>\n",
              "        const buttonEl =\n",
              "          document.querySelector('#df-5f956768-7397-4616-94bc-d9167b50f4f0 button.colab-df-convert');\n",
              "        buttonEl.style.display =\n",
              "          google.colab.kernel.accessAllowed ? 'block' : 'none';\n",
              "\n",
              "        async function convertToInteractive(key) {\n",
              "          const element = document.querySelector('#df-5f956768-7397-4616-94bc-d9167b50f4f0');\n",
              "          const dataTable =\n",
              "            await google.colab.kernel.invokeFunction('convertToInteractive',\n",
              "                                                     [key], {});\n",
              "          if (!dataTable) return;\n",
              "\n",
              "          const docLinkHtml = 'Like what you see? Visit the ' +\n",
              "            '<a target=\"_blank\" href=https://colab.research.google.com/notebooks/data_table.ipynb>data table notebook</a>'\n",
              "            + ' to learn more about interactive tables.';\n",
              "          element.innerHTML = '';\n",
              "          dataTable['output_type'] = 'display_data';\n",
              "          await google.colab.output.renderOutput(dataTable, element);\n",
              "          const docLink = document.createElement('div');\n",
              "          docLink.innerHTML = docLinkHtml;\n",
              "          element.appendChild(docLink);\n",
              "        }\n",
              "      </script>\n",
              "    </div>\n",
              "  </div>\n",
              "  "
            ]
          },
          "metadata": {},
          "execution_count": 35
        }
      ],
      "source": [
        "topic = []\n",
        "for n in range (lda_transformed.shape[0]):\n",
        "  #argmax() gives maximum index value\n",
        "  topic_doc = lda_transformed[n].argmax()\n",
        "  # document is n+1\n",
        "  topic.append(topic_doc + 1)\n",
        "\n",
        "df[\"topic\"] = topic\n",
        "df.head()"
      ]
    },
    {
      "cell_type": "code",
      "execution_count": null,
      "metadata": {
        "colab": {
          "base_uri": "https://localhost:8080/"
        },
        "id": "WSoYbR9kCN55",
        "outputId": "b37a6f49-a4fa-4e68-ebe3-9295bbdf08e7"
      },
      "outputs": [
        {
          "output_type": "stream",
          "name": "stdout",
          "text": [
            "Collecting pyLDAvis==2.1.2\n",
            "  Downloading pyLDAvis-2.1.2.tar.gz (1.6 MB)\n",
            "\u001b[K     |████████████████████████████████| 1.6 MB 5.0 MB/s \n",
            "\u001b[?25hRequirement already satisfied: wheel>=0.23.0 in /usr/local/lib/python3.7/dist-packages (from pyLDAvis==2.1.2) (0.37.1)\n",
            "Requirement already satisfied: numpy>=1.9.2 in /usr/local/lib/python3.7/dist-packages (from pyLDAvis==2.1.2) (1.21.5)\n",
            "Requirement already satisfied: scipy>=0.18.0 in /usr/local/lib/python3.7/dist-packages (from pyLDAvis==2.1.2) (1.4.1)\n",
            "Requirement already satisfied: pandas>=0.17.0 in /usr/local/lib/python3.7/dist-packages (from pyLDAvis==2.1.2) (1.3.5)\n",
            "Requirement already satisfied: joblib>=0.8.4 in /usr/local/lib/python3.7/dist-packages (from pyLDAvis==2.1.2) (1.1.0)\n",
            "Requirement already satisfied: jinja2>=2.7.2 in /usr/local/lib/python3.7/dist-packages (from pyLDAvis==2.1.2) (2.11.3)\n",
            "Requirement already satisfied: numexpr in /usr/local/lib/python3.7/dist-packages (from pyLDAvis==2.1.2) (2.8.1)\n",
            "Requirement already satisfied: pytest in /usr/local/lib/python3.7/dist-packages (from pyLDAvis==2.1.2) (3.6.4)\n",
            "Requirement already satisfied: future in /usr/local/lib/python3.7/dist-packages (from pyLDAvis==2.1.2) (0.16.0)\n",
            "Collecting funcy\n",
            "  Downloading funcy-1.17-py2.py3-none-any.whl (33 kB)\n",
            "Requirement already satisfied: MarkupSafe>=0.23 in /usr/local/lib/python3.7/dist-packages (from jinja2>=2.7.2->pyLDAvis==2.1.2) (2.0.1)\n",
            "Requirement already satisfied: pytz>=2017.3 in /usr/local/lib/python3.7/dist-packages (from pandas>=0.17.0->pyLDAvis==2.1.2) (2018.9)\n",
            "Requirement already satisfied: python-dateutil>=2.7.3 in /usr/local/lib/python3.7/dist-packages (from pandas>=0.17.0->pyLDAvis==2.1.2) (2.8.2)\n",
            "Requirement already satisfied: six>=1.5 in /usr/local/lib/python3.7/dist-packages (from python-dateutil>=2.7.3->pandas>=0.17.0->pyLDAvis==2.1.2) (1.15.0)\n",
            "Requirement already satisfied: packaging in /usr/local/lib/python3.7/dist-packages (from numexpr->pyLDAvis==2.1.2) (21.3)\n",
            "Requirement already satisfied: pyparsing!=3.0.5,>=2.0.2 in /usr/local/lib/python3.7/dist-packages (from packaging->numexpr->pyLDAvis==2.1.2) (3.0.7)\n",
            "Requirement already satisfied: pluggy<0.8,>=0.5 in /usr/local/lib/python3.7/dist-packages (from pytest->pyLDAvis==2.1.2) (0.7.1)\n",
            "Requirement already satisfied: more-itertools>=4.0.0 in /usr/local/lib/python3.7/dist-packages (from pytest->pyLDAvis==2.1.2) (8.12.0)\n",
            "Requirement already satisfied: setuptools in /usr/local/lib/python3.7/dist-packages (from pytest->pyLDAvis==2.1.2) (57.4.0)\n",
            "Requirement already satisfied: py>=1.5.0 in /usr/local/lib/python3.7/dist-packages (from pytest->pyLDAvis==2.1.2) (1.11.0)\n",
            "Requirement already satisfied: atomicwrites>=1.0 in /usr/local/lib/python3.7/dist-packages (from pytest->pyLDAvis==2.1.2) (1.4.0)\n",
            "Requirement already satisfied: attrs>=17.4.0 in /usr/local/lib/python3.7/dist-packages (from pytest->pyLDAvis==2.1.2) (21.4.0)\n",
            "Building wheels for collected packages: pyLDAvis\n",
            "  Building wheel for pyLDAvis (setup.py) ... \u001b[?25l\u001b[?25hdone\n",
            "  Created wheel for pyLDAvis: filename=pyLDAvis-2.1.2-py2.py3-none-any.whl size=97738 sha256=5442fcfbc1d8cb13257257f65de82e1bb77c2d0639c06bb04404ef80cb358327\n",
            "  Stored in directory: /root/.cache/pip/wheels/3b/fb/41/e32e5312da9f440d34c4eff0d2207b46dc9332a7b931ef1e89\n",
            "Successfully built pyLDAvis\n",
            "Installing collected packages: funcy, pyLDAvis\n",
            "Successfully installed funcy-1.17 pyLDAvis-2.1.2\n"
          ]
        }
      ],
      "source": [
        "!pip install pyLDAvis==2.1.2"
      ]
    },
    {
      "cell_type": "code",
      "execution_count": null,
      "metadata": {
        "colab": {
          "base_uri": "https://localhost:8080/",
          "height": 1000
        },
        "id": "BHWxs2JHTAfR",
        "outputId": "c3e1a289-af3e-44a3-a054-c9dbad3caa95"
      },
      "outputs": [
        {
          "output_type": "stream",
          "name": "stderr",
          "text": [
            "/usr/local/lib/python3.7/dist-packages/past/types/oldstr.py:5: DeprecationWarning: Using or importing the ABCs from 'collections' instead of from 'collections.abc' is deprecated since Python 3.3,and in 3.9 it will stop working\n",
            "  from collections import Iterable\n",
            "/usr/local/lib/python3.7/dist-packages/past/builtins/misc.py:4: DeprecationWarning: Using or importing the ABCs from 'collections' instead of from 'collections.abc' is deprecated since Python 3.3,and in 3.9 it will stop working\n",
            "  from collections import Mapping\n",
            "/usr/local/lib/python3.7/dist-packages/sklearn/utils/deprecation.py:87: FutureWarning: Function get_feature_names is deprecated; get_feature_names is deprecated in 1.0 and will be removed in 1.2. Please use get_feature_names_out instead.\n",
            "  warnings.warn(msg, category=FutureWarning)\n",
            "/usr/local/lib/python3.7/dist-packages/pyLDAvis/_prepare.py:232: FutureWarning: In a future version of pandas all arguments of DataFrame.drop except for the argument 'labels' will be keyword-only\n",
            "  head(R).drop('saliency', 1)\n"
          ]
        },
        {
          "output_type": "execute_result",
          "data": {
            "text/plain": [
              "<IPython.core.display.HTML object>"
            ],
            "text/html": [
              "\n",
              "<link rel=\"stylesheet\" type=\"text/css\" href=\"https://cdn.rawgit.com/bmabey/pyLDAvis/files/ldavis.v1.0.0.css\">\n",
              "\n",
              "\n",
              "<div id=\"ldavis_el591398034707642409275149855\"></div>\n",
              "<script type=\"text/javascript\">\n",
              "\n",
              "var ldavis_el591398034707642409275149855_data = {\"mdsDat\": {\"x\": [-0.10403486853679712, 0.1412998998928432, -0.0621637372302952, -0.10091386066014675, -0.13513330153635758, 0.0620073663027991, 0.05687115522442785, 0.14206734654352626], \"y\": [0.011460694206219537, -0.05068088960510051, 0.020844763514411384, 0.032472385784031665, 0.01155528089343047, -0.057745465418673786, -0.1585630274840402, 0.1906562581097217], \"topics\": [1, 2, 3, 4, 5, 6, 7, 8], \"cluster\": [1, 1, 1, 1, 1, 1, 1, 1], \"Freq\": [21.68045484814957, 17.540507733025347, 15.80881571656764, 13.862103688294555, 10.906352899208475, 8.526515375576972, 6.57722240865217, 5.098027330525274]}, \"tinfo\": {\"Term\": [\"oil\", \"russian\", \"russia\", \"price\", \"painting\", \"olive\", \"juststop_oil\", \"gas\", \"company\", \"ukraine\", \"amp\", \"s\", \"biden\", \"stew\", \"tomato\", \"profit\", \"pepper\", \"onion\", \"u\", \"cook\", \"1\", \"canvas\", \"na\", \"t\", \"close\", \"art\", \"save\", \"car\", \"embargo\", \"100\", \"importing\", \"imported\", \"iraq\", \"irish\", \"deliver\", \"johnfugelsang\", \"embassy\", \"secblinken\", \"banned\", \"jbteleprompter\", \"exporting\", \"timjhanrahan\", \"suffering\", \"wage\", \"heavily\", \"refused\", \"humanitarian\", \"samramani2\", \"khcambron\", \"rosapren\", \"sen_joemanchin\", \"chipe\", \"funding\", \"dependency\", \"olaplex\", \"headline\", \"exported\", \"calltoactivism\", \"tar\", \"snk\", \"india\", \"kyivindependent\", \"invasion\", \"europe\", \"eu\", \"usa\", \"france\", \"russian\", \"sanction\", \"import\", \"country\", \"russia\", \"amp\", \"china\", \"fund\", \"domestic\", \"war\", \"iran\", \"stop\", \"other\", \"gas\", \"potus\", \"germany\", \"supply\", \"nt\", \"oil\", \"ha\", \"no\", \"pipeline\", \"u\", \"would\", \"wa\", \"all\", \"s\", \"not\", \"more\", \"now\", \"energy\", \"so\", \"will\", \"ukraine\", \"can\", \"when\", \"na\", \"woman\", \"liter\", \"butter\", \"fry\", \"treat\", \"wan\", \"distributed\", \"wfp\", \"cereal\", \"malnourished\", \"pulse\", \"fortified\", \"repbrianfitz\", \"braun4indiana\", \"supporthr6600\", \"exhausted\", \"nutritionally\", \"supports3199\", \"reprickallen\", \"truffle\", \"trichesfaucons\", \"sauce\", \"frying\", \"gon\", \"peanut\", \"cheese\", \"eat\", \"sesame\", \"wey\", \"olive\", \"litre\", \"cook\", \"dey\", \"stew\", \"2k\", \"food\", \"child\", \"onion\", \"1\", \"oil\", \"use\", \"cooking\", \"week\", \"chicken\", \"last\", \"go\", \"some\", \"like\", \"one\", \"no\", \"just\", \"good\", \"s\", \"will\", \"too\", \"make\", \"all\", \"so\", \"not\", \"now\", \"t\", \"nt\", \"can\", \"engine\", \"marketer\", \"ain\", \"aren\", \"print\", \"cruz\", \"car\", \"mv\", \"affecting\", \"lowering\", \"driving\", \"tedcruz\", \"mvo\", \"subsidize\", \"lied\", \"gaspricewizard\", \"accountable\", \"replacement\", \"ted\", \"age\", \"cr\", \"gaslighting\", \"ewarren\", \"jamilastwocents\", \"pad\", \"muellershewrote\", \"mayonnaise\", \"teddy\", \"waihigamwaura\", \"starve\", \"distribution\", \"r\", \"clean\", \"vehicle\", \"mbadi\", \"congress\", \"wheel\", \"0\", \"sentedcruz\", \"gasoline\", \"senator\", \"repstefanik\", \"burning\", \"company\", \"t\", \"trust\", \"pump\", \"rokhanna\", \"change\", \"gouging\", \"drill\", \"big\", \"doe\", \"tax\", \"don\", \"pay\", \"oil\", \"making\", \"profit\", \"s\", \"price\", \"look\", \"money\", \"know\", \"like\", \"not\", \"much\", \"get\", \"demand\", \"need\", \"just\", \"year\", \"how\", \"gas\", \"all\", \"nt\", \"more\", \"now\", \"can\", \"why\", \"so\", \"u\", \"wa\", \"exxon\", \"democrat\", \"quarterly\", \"dems\", \"kwasikwarteng\", \"releasing\", \"exxonmobil\", \"common\", \"clock\", \"hearing\", \"ticking\", \"stopnewfields\", \"prioritise\", \"rake\", \"neil\", \"jeffries\", \"s_guilbeault\", \"reducing\", \"reprokhanna\", \"nl\", \"cavuto\", \"jonathanwnv\", \"cafreeland\", \"cleanser\", \"pricegouging\", \"spectatorindex\", \"tapping\", \"reject\", \"gop\", \"northbay\", \"exec\", \"petroleum\", \"renewable\", \"driven\", \"listen\", \"strategic\", \"justinbaragona\", \"blame\", \"joe\", \"federal\", \"subsidy\", \"record\", \"gt\", \"thehill\", \"profit\", \"biden\", \"price\", \"fossil\", \"fault\", \"reserve\", \"foxnews\", \"signal\", \"gas\", \"president\", \"oil\", \"fuel\", \"people\", \"more\", \"high\", \"energy\", \"industry\", \"company\", \"future\", \"u\", \"s\", \"will\", \"world\", \"not\", \"big\", \"amp\", \"can\", \"than\", \"when\", \"so\", \"how\", \"just\", \"there\", \"bucha\", \"code\", \"merkel\", \"desperate\", \"pin20\", \"monster\", \"tincture\", \"consequence\", \"sponsor\", \"tcocseydaidiq\", \"cbdoil\", \"anxiety\", \"eth\", \"zerohedge\", \"tightening\", \"emmanuelmacron\", \"truly\", \"promo\", \"kriegsverbrecher\", \"frau\", \"resurrect\", \"terrorism\", \"cbdhealth\", \"ro\", \"bitcoin\", \"defeat\", \"expected\", \"awaited\", \"pro\", \"inhuman\", \"settled\", \"test\", \"become\", \"considering\", \"canada\", \"xl\", \"nation\", \"crime\", \"gold\", \"canadian\", \"fed\", \"keystone\", \"ukrainian\", \"drilling\", \"should\", \"commodity\", \"club\", \"russian\", \"putin\", \"pipeline\", \"u\", \"oil\", \"want\", \"biden\", \"world\", \"will\", \"ukraine\", \"all\", \"buying\", \"gas\", \"ha\", \"not\", \"russia\", \"why\", \"price\", \"crude\", \"nt\", \"money\", \"new\", \"s\", \"market\", \"more\", \"need\", \"can\", \"300\", \"1k\", \"maggi\", \"tackle\", \"200\", \"p_fiala\", \"600\", \"ponmo\", \"khanofkhans11_\", \"crayfish\", \"titus\", \"1500\", \"alarkaris\", \"700\", \"vegan\", \"lt\", \"clove\", \"36\", \"kenyan\", \"zen_firee\", \"kilo\", \"borutpahor\", \"tcokhf7ddbylb\", \"n200\", \"000kwh\", \"invstr\", \"2defray\", \"2b\", \"ebrd\", \"4eumemo\", \"spedup\", \"72021provokn\", \"diffuser\", \"150\", \"aramco\", \"100\", \"slave\", \"paste\", \"fish\", \"tomato\", \"ipcc\", \"youtube\", \"spice\", \"meat\", \"save\", \"pepper\", \"sachet\", \"impose\", \"depends\", \"mariupol\", \"sky\", \"close\", \"embargo\", \"1000\", \"naira\", \"ukraine\", \"500\", \"oil\", \"change\", \"can\", \"s\", \"onion\", \"ve\", \"russia\", \"gas\", \"amp\", \"so\", \"wa\", \"there\", \"get\", \"one\", \"not\", \"price\", \"nt\", \"juststop_oil\", \"xrebellionuk\", \"talkradio\", \"ipcc_ch\", \"iea\", \"antonioguterres\", \"nasa\", \"juliahb1\", \"tttmediaxr\", \"fuzzysemi\", \"keira_churchill\", \"hemp\", \"thelukass71\", \"fueloilnews\", \"kennedy\", \"sen\", \"karinkmacdee\", \"rudeboy_dwight\", \"josepborrellf\", \"nfts\", \"6th\", \"network\", \"huis\", \"0000\", \"tot\", \"blockchain\", \"eucopresident\", \"pastel\", \"robotics\", \"drone\", \"schoolacademy\", \"pizza\", \"coop\", \"thegeomadao\", \"except\", \"cbd\", \"focus\", \"close\", \"massage\", \"starting\", \"sky\", \"impose\", \"mariupol\", \"save\", \"embargo\", \"s\", \"life\", \"oil\", \"body\", \"seed\", \"work\", \"anything\", \"ukraine\", \"gas\", \"not\", \"real\", \"russia\", \"nt\", \"just\", \"will\", \"no\", \"re\", \"climate\", \"painting\", \"canvas\", \"art\", \"oilpainting\", \"spring\", \"inch\", \"icelandfoods\", \"cm\", \"w7voa\", \"portrait\", \"ipccreport\", \"1kilo\", \"intelcrab\", \"certified\", \"sourcing\", \"hole\", \"x\", \"saveorangutans\", \"artfinder\", \"irunnia_\", \"artist\", \"palmfree\", \"reluctantly\", \"ngo\", \"engaged\", \"liveable\", \"canpoli\", \"leadnowca\", \"gallery\", \"breakfast\", \"etsy\", \"amazon\", \"link\", \"cup\", \"paint\", \"landscape\", \"sustainable\", \"43\", \"palm\", \"piece\", \"thanks\", \"latest\", \"oil\", \"via\", \"cap\", \"30\", \"12\", \"2022\", \"water\", \"amp\", \"one\", \"wa\", \"expert\", \"now\", \"s\", \"2\", \"day\", \"1\", \"come\", \"still\", \"ha\", \"right\", \"another\", \"need\", \"would\", \"see\", \"just\"], \"Freq\": [6420.0, 403.0, 492.0, 714.0, 110.0, 227.0, 117.0, 1130.0, 439.0, 313.0, 604.0, 1444.0, 291.0, 177.0, 128.0, 226.0, 139.0, 165.0, 587.0, 142.0, 300.0, 67.0, 117.0, 400.0, 100.0, 64.0, 108.0, 127.0, 111.0, 94.0, 27.150801253033478, 23.221084561713475, 20.393245641202586, 20.387394652932155, 19.428299770793604, 19.42804272968289, 16.532193502025862, 14.601433825683227, 13.631604220865768, 12.670663371967478, 12.67057998095444, 12.6705200071489, 12.670484786014923, 12.667036100204607, 12.61063695430968, 11.705136718758837, 11.704836957434255, 16.198694600694477, 10.739901653907628, 10.739901653907628, 10.739719285116855, 9.774519692883961, 32.82442787403914, 9.758404466701315, 8.808985307731465, 8.80893650566732, 8.808705400550881, 7.843731881884068, 7.843717783381626, 7.843692950594704, 88.78177294663404, 17.36913901376146, 26.22220352707754, 98.85037802444495, 86.27076347744705, 54.059058896356504, 16.939602352277763, 265.6882114648011, 104.39487408646643, 84.29446788167351, 156.61888038247912, 293.4375480373193, 328.37067527264605, 54.17194404314715, 33.86523145135811, 24.420517613748498, 125.56112677306157, 19.411588708014015, 119.12657559158079, 100.48518820357421, 398.69734639918863, 54.86162545131494, 53.569726511205985, 84.04250481899953, 225.75637740077494, 1181.7030308280803, 152.28764779205682, 173.3387665482414, 78.29455173681883, 197.05527329484246, 125.09626174349015, 158.00426419998976, 171.43597466204835, 321.308516648934, 229.57823252688183, 161.70822437476377, 138.41233013440336, 115.87953378257272, 136.15590562004454, 150.22232406809215, 101.11314533970922, 97.72803639560355, 87.33598394465612, 116.70758164620032, 85.42954222052673, 78.66575977758696, 58.8903063753031, 57.942367757311466, 55.09867959435805, 52.25471754988842, 51.30690140357345, 50.35902169022739, 50.35902169022739, 50.359021690227365, 50.359021690227365, 50.359021690227365, 50.359021690227365, 50.359021690227365, 50.359021690227365, 50.35902169022739, 50.359021690227365, 50.359021690227365, 50.359021690227365, 50.33812227241848, 47.5151504829506, 29.504310418386698, 27.608458672405433, 30.36318436390275, 25.712418657748472, 24.759236314714318, 33.79700478438945, 20.972977831970397, 20.97296424718604, 216.12690233754157, 88.63775691056709, 134.36334575425172, 74.57842423653459, 153.40738023378287, 53.614358691227956, 128.59941804534577, 64.55900558967686, 116.59955567405868, 182.0769279678484, 1444.4266950970473, 137.4780864872351, 88.72169642588702, 92.93802316922734, 85.1691666777835, 93.12254229030188, 114.85651414603127, 127.54433285007862, 161.74488830978143, 118.51442761737098, 136.35068227487577, 137.52254330815921, 91.87523634984416, 198.70981260878082, 133.38263566320177, 76.41151416231546, 92.33885811176485, 111.00972567699296, 103.00791486357235, 119.91637379551051, 99.65700135870551, 96.92003282884592, 101.2784588744113, 89.52305963561149, 41.69528193577333, 14.622951944280013, 12.674153267248403, 12.579540097057443, 10.7556416010706, 9.787677926254768, 115.42412532910546, 7.85578449626589, 7.85564370219407, 7.855499062119396, 18.211817895241957, 13.7918218539171, 6.888914462665391, 6.888786595491435, 6.888062102249196, 6.886979061051121, 14.623838386199093, 9.42327906302504, 13.563123598803264, 7.625534883154092, 5.922055200620574, 5.921976402619091, 5.9219400122297685, 5.9219326105592955, 5.921811610709997, 5.9216358853688105, 5.921262249331398, 5.919178144587711, 13.508535985655891, 5.8975052376576755, 11.677838577111556, 18.16357787329398, 39.50553366468871, 24.53242431281957, 11.50887934256597, 30.26554771240474, 10.645051116579365, 12.027782080834843, 50.70483897567436, 19.960627141473694, 14.943817963763586, 14.1121386976982, 22.693993095622854, 235.31764062714032, 206.78269164912865, 20.40163869686746, 48.57809083706112, 22.575278584439086, 120.12401901371992, 36.11951992316743, 28.336457279432278, 128.84755832957097, 91.88009176999947, 68.61808296820966, 80.99431760386439, 47.104386343680524, 1120.0798969298799, 48.6638585004535, 89.36587367195153, 318.77675632327976, 194.93203433719756, 45.525784000443124, 85.35087061592124, 84.13916565712049, 125.50597611353803, 193.0780279808361, 68.37114685380041, 97.54246730518878, 40.92343848610426, 80.98369401950704, 101.73115505438705, 65.12941439926256, 79.71432601274084, 130.31614567379702, 93.42338670416177, 92.9695398755571, 88.31363799627108, 79.22434867344737, 80.99253705247494, 65.98770374873766, 74.96885428478734, 76.97284633737496, 66.55299687503596, 36.69235824864145, 43.827294633501445, 23.218536323964933, 19.368632410973543, 16.481436943360322, 14.556590533056154, 11.669328929203921, 10.706482593931742, 9.744544457385627, 9.744372710125438, 8.782154610003776, 8.782154610003776, 8.782154610003776, 8.782016535781288, 8.763630218015932, 7.819698595065489, 7.819595594889645, 7.819490461632092, 7.817967163920411, 7.809595215499667, 7.785283370957583, 6.857277674801311, 6.8572562137480775, 6.857241060612677, 6.857209824045116, 6.857137203544528, 6.857042479151379, 6.856818807125191, 46.978147934731794, 5.89487089146562, 31.839163702395215, 39.57647117765633, 25.424608707565373, 11.669357019931821, 16.377688796137242, 28.273795008345182, 23.201448718446308, 45.22296760429282, 23.704349717053994, 22.320610675950046, 31.62292418430629, 71.97909243283802, 30.016726877806246, 17.286069412508372, 121.14093170055422, 148.03757836019957, 297.10412180006614, 53.77244153699573, 17.06553115311183, 55.49307729024204, 26.975208060701156, 22.17379005872136, 299.2623585042407, 41.189225954626195, 852.1269142897713, 72.22428645103562, 93.68511767019184, 144.81404701958363, 61.85159067154005, 105.03273787133135, 63.831109932953645, 116.4705291912893, 42.44263460270861, 117.83479517096752, 177.84642160648627, 100.54342477265618, 58.30978109157247, 110.94369223216029, 66.55468251079698, 84.21438802727741, 75.2324985372051, 56.93500974099514, 58.500441635691395, 63.28802323607337, 57.798975537039716, 55.19105388446794, 48.74164673107455, 25.529598807852473, 23.646964333649098, 19.88256032414144, 19.8824389380712, 18.000213074149524, 17.05898892210651, 14.235341581747429, 12.352944121727978, 11.411794695170526, 10.470709707775086, 11.309098146649811, 9.529467743423776, 9.52942587840803, 9.529362727056053, 9.529311056581538, 9.529149037062675, 9.507422223050563, 18.000360153333524, 7.647164003594749, 7.647164003594749, 7.647159591452179, 7.6471241046661245, 7.647102277122339, 7.646876483721052, 15.125866311314745, 6.705953423402887, 6.705852300520926, 6.705728593855073, 14.925339670112221, 5.764785168104996, 5.764785168104996, 19.407952391476023, 33.5850925147977, 19.98550089879512, 80.55981537035818, 40.31351210129762, 28.606900991955413, 27.95585161333617, 39.19337154666099, 45.587019942508626, 25.56749815194563, 49.59568300387966, 26.924876417173117, 43.84935162514415, 86.68363581409797, 26.191474741554476, 36.43345221302609, 129.46900276108133, 63.47280290525509, 61.410082255997025, 146.98713457105447, 655.1097550587282, 80.32978502307223, 79.2058574747545, 57.81659385714831, 98.89874498576748, 70.57706048540368, 90.37775114774865, 45.64906598265618, 113.67197206247623, 70.37189733545756, 100.62795909629169, 76.29197173165049, 58.20816104902314, 84.53496644898487, 43.07969029048392, 72.8843709382708, 51.731629782812895, 48.04887151822568, 89.31611539253835, 44.49798745310717, 52.18876080143548, 47.78958446959888, 50.099107725200454, 32.470831498220576, 26.000817288103075, 19.529578543942485, 18.60434680460148, 63.53585281864202, 12.133795554685335, 11.189244395437074, 10.284495787793592, 10.283069362798635, 9.360192154153474, 9.358822408566093, 14.342095545028338, 8.435843096308846, 17.642704784078706, 11.719017308061563, 7.511340605194786, 7.511319663752343, 7.511278144809498, 7.510722851280549, 7.502082882449854, 26.42902736328226, 6.5869175729021885, 6.5869066075839635, 6.586845401727863, 5.662437928270166, 5.662424995334845, 5.662424995334845, 5.662424995334845, 5.662424995334845, 5.662424995334845, 5.662424995334845, 5.662424995334845, 15.8275646339134, 15.716749267899312, 7.981470529675239, 71.92814501977524, 7.901911448231361, 18.826656051370907, 34.022937663575064, 79.98161749008696, 23.759697973259623, 17.1655433681817, 25.40858748800349, 25.947634163935422, 57.119341038507834, 68.87024672575714, 11.257836691500122, 47.39445249355695, 15.657521013696202, 42.28608460270369, 44.108175777883346, 48.30052112907738, 51.3923763910328, 24.456442326270594, 18.799399828226033, 87.915469357377, 45.256635595113046, 499.87026593396473, 62.280079120623036, 86.77912529260712, 135.98973093335803, 46.473989250448454, 37.8100556045953, 74.33849266724296, 106.26472570464908, 60.92529450268324, 55.4134624727002, 52.16355231298924, 40.957289814577116, 43.73084526807751, 40.65323354127264, 44.47085531028602, 43.04903449205001, 39.62875910701627, 116.39624712312639, 51.23558919825021, 48.395796702197366, 36.0897089558732, 33.24986452683043, 32.303248168338406, 32.260766226757355, 42.27240087053517, 26.623616211784874, 26.623616211784885, 17.157440181485875, 17.156845644490303, 16.210806453826827, 16.210767939048928, 16.21071363097116, 16.21020068079973, 14.317579063849285, 14.31750406652704, 12.42430614413745, 12.424299871871506, 12.424268035448696, 11.477654179755781, 10.5311283497465, 10.5311283497465, 10.5311283497465, 10.5311153477524, 10.530919163831635, 10.52597198187024, 9.584508459551744, 9.584508459551744, 9.584508459551744, 13.006305114126897, 9.584508459551744, 9.584508459551744, 26.640773715385922, 44.73570421413398, 18.776638151679116, 51.12076996128358, 15.966861423661003, 17.41105250542627, 40.26770830659508, 41.635769732249265, 37.40046964223813, 42.92332506198847, 42.519153037356915, 153.69864318952904, 33.893368575622546, 285.03651917845684, 24.437131139419606, 26.16524582995949, 33.150905609808156, 28.2742544716498, 44.540536887548285, 67.7145066407183, 59.70805526984089, 26.45896452919115, 44.54349034326981, 44.110138651903824, 32.170908551038025, 32.0718862029284, 29.191008227824632, 27.777175371702906, 27.185705353939078, 109.65134379326626, 67.1546452023564, 63.38545362586963, 16.167502389974157, 14.27463021703967, 15.082285575649141, 10.505939057051236, 10.505791927894048, 10.503863165866804, 9.561530458027082, 9.561319812656148, 9.560814636618291, 9.560468142158186, 8.617139286193462, 7.67286182247627, 7.672256242694177, 28.033247071843455, 6.728548928133518, 6.728526309573761, 6.727898783945255, 13.445571451038976, 5.784191190014546, 5.784191190014546, 5.784191190014546, 5.784191190014546, 5.784191188967776, 5.784191188967776, 5.784191188967776, 5.784140106219737, 5.784096115117076, 10.703236087968097, 12.298361437161834, 16.864557083995866, 27.86073928883704, 15.603826675614071, 8.58202970728602, 29.86555549529853, 10.847601345742236, 46.81021016914267, 15.105931274498774, 18.451590232992935, 10.991931966292285, 381.9475203243719, 30.821179125468394, 10.49558660988227, 16.349219225146943, 16.331839743864972, 16.639784940931683, 23.65742353963099, 45.17336939224178, 34.58920411075621, 36.69607469232429, 14.026578488266994, 33.44575799858323, 48.81941127925071, 23.232992231391083, 24.914247616319265, 27.76163050541918, 19.51441200611548, 21.489996848390568, 24.48030682406602, 21.057177059483646, 17.60389187845424, 21.095077655000473, 18.760330196407867, 17.209567325041657, 17.225385264531443], \"Total\": [6420.0, 403.0, 492.0, 714.0, 110.0, 227.0, 117.0, 1130.0, 439.0, 313.0, 604.0, 1444.0, 291.0, 177.0, 128.0, 226.0, 139.0, 165.0, 587.0, 142.0, 300.0, 67.0, 117.0, 400.0, 100.0, 64.0, 108.0, 127.0, 111.0, 94.0, 27.98079502787633, 24.117238144359536, 21.223067356789603, 21.22295308261621, 20.25768749846984, 20.257678309553395, 17.36152079635503, 15.430742340636717, 14.465243601733913, 13.499964755388994, 13.499964770219801, 13.499961900416055, 13.499961084413572, 13.499936691101698, 13.498463521633584, 12.534576106918685, 12.534570525754779, 17.360494772936555, 11.569187197896897, 11.569187197896897, 11.569183198424113, 10.603797743907338, 35.6525216605079, 10.60351068554123, 9.638405964343841, 9.638405987169659, 9.638399433827171, 8.67301895467024, 8.673018841323518, 8.673018283799818, 98.32106556285135, 19.264878659142543, 29.790385739249402, 117.30873114901647, 102.87572581893654, 65.50050579001054, 19.2541113371101, 403.99938827432186, 144.42531950182445, 116.06293630433873, 237.2321256796199, 492.9539840999182, 604.0523760664472, 77.83819413405692, 44.25072903344795, 29.90491293552083, 226.62426196328136, 23.041792461951182, 231.08832513912935, 187.78094081085158, 1130.126661986199, 87.5535896296127, 85.11994308599415, 155.33370147399117, 602.8522851690454, 6420.3005976403, 383.1131196051016, 463.89879511375915, 150.85169373945513, 587.5697328052478, 302.03957717205583, 461.7026721368409, 537.3382899737093, 1444.465407982157, 869.3005755199599, 521.9474877680019, 441.9426870347709, 328.5937144906273, 464.0572680125459, 582.6686085018697, 313.88785929344726, 497.6542642418002, 316.73556563945385, 117.54583631156274, 86.26406395470843, 79.6282491390721, 59.72184842228105, 58.77391286088833, 55.93011032794641, 53.0863074712964, 52.13837320691201, 51.19043774550463, 51.19043774550463, 51.19043774550461, 51.19043774550461, 51.19043774550461, 51.19043774550461, 51.19043774550461, 51.19043774550461, 51.19043774550463, 51.19043774550461, 51.19043774550461, 51.19043774550461, 51.19040891273326, 48.34663440003031, 30.335877866206594, 28.44000787380381, 31.283732419368544, 26.544139846195193, 25.596069635134825, 35.06530816878973, 21.804466936210236, 21.804465929179194, 227.48105495298756, 92.90569025238405, 142.94349574181672, 79.52409472366982, 177.62050914127843, 59.59882287123366, 171.7131916043466, 76.97617482494019, 165.65522910502574, 300.77658539112025, 6420.3005976403, 228.3322090240104, 122.15329862822563, 135.165933117452, 118.68048657880588, 146.39259101619473, 211.6001013880936, 259.74612197514546, 441.74017475374984, 318.6181389426396, 463.89879511375915, 486.4470998291409, 196.4017646827349, 1444.465407982157, 582.6686085018697, 152.6015334116273, 285.9827505075406, 537.3382899737093, 464.0572680125459, 869.3005755199599, 441.9426870347709, 400.2205121511088, 602.8522851690454, 497.6542642418002, 42.525135134033135, 15.452862544642809, 13.51879768591821, 13.514327531250494, 11.585423006140193, 10.618565846139662, 127.37658209006383, 8.68483697918076, 8.684836238631878, 8.684833284596646, 20.266979238880047, 15.430805089977781, 7.717970650814401, 7.717968777718685, 7.71796156691968, 7.717951301681755, 16.39725866530119, 10.610989720729549, 15.428207566969302, 8.684151971970454, 6.751104794184494, 6.751103182261227, 6.751103413188362, 6.751101941792773, 6.751098834177965, 6.751099679894104, 6.751085805161603, 6.7510915870124615, 15.426933457347149, 6.750634276029348, 13.497968958185323, 21.20943951503481, 48.23241291244968, 29.88928225100002, 13.489523127778066, 37.59247773571031, 12.547348939011052, 14.4146215416538, 68.57893096535386, 25.067534149936787, 18.333605722508455, 17.327118815675462, 29.900466893129725, 439.6152754165227, 400.2205121511088, 27.020586523524027, 77.2110432676621, 30.764229697927384, 237.85261745377375, 55.01171484988354, 41.49479345553665, 281.641444656336, 187.01345510285353, 129.02969640928387, 160.6769913718915, 84.00498184717789, 6420.3005976403, 91.14298206578124, 226.34213573178974, 1444.465407982157, 714.3010315168201, 88.31570697595052, 229.32150211320442, 225.87679149883954, 441.74017475374984, 869.3005755199599, 182.47601301021274, 370.2858890671546, 83.52935497305951, 301.0386998653453, 486.4470998291409, 215.1404183877935, 326.55416380916097, 1130.126661986199, 537.3382899737093, 602.8522851690454, 521.9474877680019, 441.9426870347709, 497.6542642418002, 269.5980962465698, 464.0572680125459, 587.5697328052478, 461.7026721368409, 37.52216712563772, 45.210672558069774, 24.048177054675854, 20.19846333077226, 17.311179613336016, 15.386324700043135, 12.49904203214417, 11.536610072919165, 10.57418628514612, 10.574183815731923, 9.611758986636717, 9.611758986636717, 9.611758986636717, 9.611759311417249, 9.611810670204664, 8.649330473735011, 8.649328675587624, 8.649328866845702, 8.6493331858808, 8.649377802667006, 8.649484567844356, 7.686902711072897, 7.686903308032926, 7.686902212391535, 7.68690356969953, 7.686900209422306, 7.686901721560437, 7.6868993139380795, 52.78865559580195, 6.724475272474165, 36.473780381066646, 47.142208961043636, 29.839193692681455, 13.445659877893545, 19.22514403183372, 35.52452654522151, 28.753764737138322, 59.42408630456565, 29.691780301686954, 27.799303797824525, 41.41300879411351, 108.80879451642183, 40.30066783811854, 21.983067908568383, 226.34213573178974, 291.5811893887388, 714.3010315168201, 91.49781015003099, 22.142097917724897, 101.17665095743774, 40.395307748078714, 31.554638227255055, 1130.126661986199, 78.54916902504188, 6420.3005976403, 179.3002498367399, 267.06062753404285, 521.9474877680019, 144.9105786987745, 328.5937144906273, 152.60803387874475, 439.6152754165227, 83.15057309112785, 587.5697328052478, 1444.465407982157, 582.6686085018697, 191.235490204653, 869.3005755199599, 281.641444656336, 604.0523760664472, 497.6542642418002, 253.10886314340823, 316.73556563945385, 464.0572680125459, 326.55416380916097, 486.4470998291409, 282.6975337757144, 26.362025983988822, 24.479651346115485, 20.71488706175181, 20.71488818808589, 18.83250668195765, 17.891319200481444, 15.067750322380396, 13.185373350841253, 12.244183151614319, 11.302991621204898, 12.244918656991668, 10.361802091992105, 10.361803026637201, 10.361805257804521, 10.36180623258929, 10.361806718588245, 10.362392035292721, 19.77912393888, 8.479423184257138, 8.479423184257138, 8.479423289130153, 8.479423636901455, 8.479423156026053, 8.479427573423251, 16.977189262698005, 7.538234204405201, 7.538236437849505, 7.53823499154401, 16.958683880437583, 6.5970443494075885, 6.5970443494075885, 22.60536069200344, 40.489561627741374, 23.54761724997337, 112.78312777357297, 54.891107487642856, 39.61646428375851, 38.63996392539587, 61.3082730896303, 78.93952730433054, 38.63655833831684, 90.28684804197404, 41.77248379178165, 81.78283096000516, 208.28980913254753, 40.78206651224365, 64.68372465023309, 403.99938827432186, 154.8910839312527, 150.85169373945513, 587.5697328052478, 6420.3005976403, 267.0634445561349, 291.5811893887388, 191.235490204653, 582.6686085018697, 313.88785929344726, 537.3382899737093, 139.25671061909128, 1130.126661986199, 383.1131196051016, 869.3005755199599, 492.9539840999182, 269.5980962465698, 714.3010315168201, 131.513764938918, 602.8522851690454, 229.32150211320442, 184.2584857729534, 1444.465407982157, 148.547529914471, 521.9474877680019, 301.0386998653453, 497.6542642418002, 33.30673088039671, 26.835343103596088, 20.363982166950468, 19.439536656145773, 66.6417547699719, 12.968143471173203, 12.044096698089971, 11.11919279205081, 11.119229041394014, 10.194708565427492, 10.194737826746957, 15.755920722189103, 9.270225626666585, 19.460285499239777, 12.98516359151795, 8.345746970167498, 8.345747164823996, 8.34574980987826, 8.34576685110515, 8.34598146704526, 29.668282336124737, 7.421265490143176, 7.421265940466119, 7.421267312267244, 6.496785826105986, 6.496786356959472, 6.496786356959472, 6.496786356959472, 6.496786356959472, 6.496786356959472, 6.496786356959472, 6.496786356959472, 18.59998294293079, 18.5505270068413, 9.290326288655415, 94.99721498369188, 9.291916984429468, 24.173554181899394, 47.485506664815354, 128.78922357529368, 32.541747249666116, 22.342589615626686, 36.32971418479425, 38.20915035891818, 108.54095667320922, 139.49858904103542, 13.938301718257428, 89.74645436572946, 21.46158588434937, 80.40259994303577, 85.0920579376733, 100.13755832777393, 111.62636420898934, 39.40034818024445, 27.965984334460515, 313.88785929344726, 116.39466824629477, 6420.3005976403, 237.85261745377375, 497.6542642418002, 1444.465407982157, 165.65522910502574, 112.38926333680061, 492.9539840999182, 1130.126661986199, 604.0523760664472, 464.0572680125459, 461.7026721368409, 282.6975337757144, 370.2858890671546, 318.6181389426396, 869.3005755199599, 714.3010315168201, 602.8522851690454, 117.3835636503912, 52.06729531462956, 49.22744069004109, 36.92140249238664, 34.08154758264944, 33.13492988539105, 33.1339343458455, 43.54518696845315, 27.455219873631282, 27.455219873631293, 17.98903704851483, 17.989035153134356, 17.04241883533783, 17.042419574266486, 17.04242083365939, 17.04243110478211, 15.149182178293541, 15.149183185837341, 13.255945831293806, 13.255945716292123, 13.255945849123185, 12.309327539622592, 11.362708926302325, 11.362708926302325, 11.362708926302325, 11.362708933921187, 11.362710099752386, 11.36271716134421, 10.416090636879916, 10.416090636879916, 10.416090636879916, 14.209787908221713, 10.416090636879916, 10.416090636879916, 33.21061160411227, 69.9126183589641, 24.680099309293787, 100.13755832777393, 20.8575823560723, 23.71833849766071, 85.0920579376733, 89.74645436572946, 80.40259994303577, 108.54095667320922, 111.62636420898934, 1444.465407982157, 85.92110167036415, 6420.3005976403, 49.33245881743321, 62.50331857133001, 129.79056328683703, 82.97498357392953, 313.88785929344726, 1130.126661986199, 869.3005755199599, 76.39317449074272, 492.9539840999182, 602.8522851690454, 486.4470998291409, 582.6686085018697, 463.89879511375915, 223.66251335182193, 123.53799684374295, 110.49543605659302, 67.99961120564738, 64.22189150271547, 17.004000772169206, 15.115312472072109, 16.06005055721144, 11.337842354377239, 11.337845833967153, 11.337887993645287, 10.393485671371495, 10.393483923714879, 10.393471810838948, 10.393508572590733, 9.449129422544203, 8.504770582889973, 8.504779376232731, 31.224275006441236, 7.5604120676248785, 7.56041211326813, 7.560412589712086, 15.117288716026856, 6.616054321479416, 6.616054321479416, 6.616054321479416, 6.616054321479416, 6.616054321483112, 6.616054321483112, 6.616054321483112, 6.616054855517106, 6.616054492480961, 12.283988355426422, 14.194162776565774, 19.887696313267362, 34.85684099093728, 19.849946124589145, 10.390202753539633, 44.6218327921912, 14.189033762128092, 90.21749352603604, 23.492643594204605, 35.04227419027236, 16.153424073589875, 6420.3005976403, 99.96533860414446, 15.175424483824077, 38.78788446623113, 39.1752138339137, 43.85302030829054, 106.81067715828661, 604.0523760664472, 318.6181389426396, 461.7026721368409, 30.326826557520608, 441.9426870347709, 1444.465407982157, 145.59711035898133, 198.53676446708783, 300.77658539112025, 104.93600595509608, 174.9988509339326, 383.1131196051016, 163.80579336823655, 68.46631645938542, 301.0386998653453, 302.03957717205583, 151.89562136262262, 486.4470998291409], \"Category\": [\"Default\", \"Default\", \"Default\", \"Default\", \"Default\", \"Default\", \"Default\", \"Default\", \"Default\", \"Default\", \"Default\", \"Default\", \"Default\", \"Default\", \"Default\", \"Default\", \"Default\", \"Default\", \"Default\", \"Default\", \"Default\", \"Default\", \"Default\", \"Default\", \"Default\", \"Default\", \"Default\", \"Default\", \"Default\", \"Default\", \"Topic1\", \"Topic1\", \"Topic1\", \"Topic1\", \"Topic1\", \"Topic1\", \"Topic1\", \"Topic1\", \"Topic1\", \"Topic1\", \"Topic1\", \"Topic1\", \"Topic1\", \"Topic1\", \"Topic1\", \"Topic1\", \"Topic1\", \"Topic1\", \"Topic1\", \"Topic1\", \"Topic1\", \"Topic1\", \"Topic1\", \"Topic1\", \"Topic1\", \"Topic1\", \"Topic1\", \"Topic1\", \"Topic1\", \"Topic1\", \"Topic1\", \"Topic1\", \"Topic1\", \"Topic1\", \"Topic1\", \"Topic1\", \"Topic1\", \"Topic1\", \"Topic1\", \"Topic1\", \"Topic1\", \"Topic1\", \"Topic1\", \"Topic1\", \"Topic1\", \"Topic1\", \"Topic1\", \"Topic1\", \"Topic1\", \"Topic1\", \"Topic1\", \"Topic1\", \"Topic1\", \"Topic1\", \"Topic1\", \"Topic1\", \"Topic1\", \"Topic1\", \"Topic1\", \"Topic1\", \"Topic1\", \"Topic1\", \"Topic1\", \"Topic1\", \"Topic1\", \"Topic1\", \"Topic1\", \"Topic1\", \"Topic1\", \"Topic1\", \"Topic1\", \"Topic1\", \"Topic1\", \"Topic2\", \"Topic2\", \"Topic2\", \"Topic2\", \"Topic2\", \"Topic2\", \"Topic2\", \"Topic2\", \"Topic2\", \"Topic2\", \"Topic2\", \"Topic2\", \"Topic2\", \"Topic2\", \"Topic2\", \"Topic2\", \"Topic2\", \"Topic2\", \"Topic2\", \"Topic2\", \"Topic2\", \"Topic2\", \"Topic2\", \"Topic2\", \"Topic2\", \"Topic2\", \"Topic2\", \"Topic2\", \"Topic2\", \"Topic2\", \"Topic2\", \"Topic2\", \"Topic2\", \"Topic2\", \"Topic2\", \"Topic2\", \"Topic2\", \"Topic2\", \"Topic2\", \"Topic2\", \"Topic2\", \"Topic2\", \"Topic2\", \"Topic2\", \"Topic2\", \"Topic2\", \"Topic2\", \"Topic2\", \"Topic2\", \"Topic2\", \"Topic2\", \"Topic2\", \"Topic2\", \"Topic2\", \"Topic2\", \"Topic2\", \"Topic2\", \"Topic2\", \"Topic2\", \"Topic2\", \"Topic2\", \"Topic2\", \"Topic2\", \"Topic2\", \"Topic3\", \"Topic3\", \"Topic3\", \"Topic3\", \"Topic3\", \"Topic3\", \"Topic3\", \"Topic3\", \"Topic3\", \"Topic3\", \"Topic3\", \"Topic3\", \"Topic3\", \"Topic3\", \"Topic3\", \"Topic3\", \"Topic3\", \"Topic3\", \"Topic3\", \"Topic3\", \"Topic3\", \"Topic3\", \"Topic3\", \"Topic3\", \"Topic3\", \"Topic3\", \"Topic3\", \"Topic3\", \"Topic3\", \"Topic3\", \"Topic3\", \"Topic3\", \"Topic3\", \"Topic3\", \"Topic3\", \"Topic3\", \"Topic3\", \"Topic3\", \"Topic3\", \"Topic3\", \"Topic3\", \"Topic3\", \"Topic3\", \"Topic3\", \"Topic3\", \"Topic3\", \"Topic3\", \"Topic3\", \"Topic3\", \"Topic3\", \"Topic3\", \"Topic3\", \"Topic3\", \"Topic3\", \"Topic3\", \"Topic3\", \"Topic3\", \"Topic3\", \"Topic3\", \"Topic3\", \"Topic3\", \"Topic3\", \"Topic3\", \"Topic3\", \"Topic3\", \"Topic3\", \"Topic3\", \"Topic3\", \"Topic3\", \"Topic3\", \"Topic3\", \"Topic3\", \"Topic3\", \"Topic3\", \"Topic3\", \"Topic3\", \"Topic3\", \"Topic3\", \"Topic3\", \"Topic3\", \"Topic3\", \"Topic3\", \"Topic3\", \"Topic4\", \"Topic4\", \"Topic4\", \"Topic4\", \"Topic4\", \"Topic4\", \"Topic4\", \"Topic4\", \"Topic4\", \"Topic4\", \"Topic4\", \"Topic4\", \"Topic4\", \"Topic4\", \"Topic4\", \"Topic4\", \"Topic4\", \"Topic4\", \"Topic4\", \"Topic4\", \"Topic4\", \"Topic4\", \"Topic4\", \"Topic4\", \"Topic4\", \"Topic4\", \"Topic4\", \"Topic4\", \"Topic4\", \"Topic4\", \"Topic4\", \"Topic4\", \"Topic4\", \"Topic4\", \"Topic4\", \"Topic4\", \"Topic4\", \"Topic4\", \"Topic4\", \"Topic4\", \"Topic4\", \"Topic4\", \"Topic4\", \"Topic4\", \"Topic4\", \"Topic4\", \"Topic4\", \"Topic4\", \"Topic4\", \"Topic4\", \"Topic4\", \"Topic4\", \"Topic4\", \"Topic4\", \"Topic4\", \"Topic4\", \"Topic4\", \"Topic4\", \"Topic4\", \"Topic4\", \"Topic4\", \"Topic4\", \"Topic4\", \"Topic4\", \"Topic4\", \"Topic4\", \"Topic4\", \"Topic4\", \"Topic4\", \"Topic4\", \"Topic4\", \"Topic4\", \"Topic4\", \"Topic4\", \"Topic4\", \"Topic4\", \"Topic4\", \"Topic5\", \"Topic5\", \"Topic5\", \"Topic5\", \"Topic5\", \"Topic5\", \"Topic5\", \"Topic5\", \"Topic5\", \"Topic5\", \"Topic5\", \"Topic5\", \"Topic5\", \"Topic5\", \"Topic5\", \"Topic5\", \"Topic5\", \"Topic5\", \"Topic5\", \"Topic5\", \"Topic5\", \"Topic5\", \"Topic5\", \"Topic5\", \"Topic5\", \"Topic5\", \"Topic5\", \"Topic5\", \"Topic5\", \"Topic5\", \"Topic5\", \"Topic5\", \"Topic5\", \"Topic5\", \"Topic5\", \"Topic5\", \"Topic5\", \"Topic5\", \"Topic5\", \"Topic5\", \"Topic5\", \"Topic5\", \"Topic5\", \"Topic5\", \"Topic5\", \"Topic5\", \"Topic5\", \"Topic5\", \"Topic5\", \"Topic5\", \"Topic5\", \"Topic5\", \"Topic5\", \"Topic5\", \"Topic5\", \"Topic5\", \"Topic5\", \"Topic5\", \"Topic5\", \"Topic5\", \"Topic5\", \"Topic5\", \"Topic5\", \"Topic5\", \"Topic5\", \"Topic5\", \"Topic5\", \"Topic5\", \"Topic5\", \"Topic5\", \"Topic5\", \"Topic5\", \"Topic5\", \"Topic5\", \"Topic6\", \"Topic6\", \"Topic6\", \"Topic6\", \"Topic6\", \"Topic6\", \"Topic6\", \"Topic6\", \"Topic6\", \"Topic6\", \"Topic6\", \"Topic6\", \"Topic6\", \"Topic6\", \"Topic6\", \"Topic6\", \"Topic6\", \"Topic6\", \"Topic6\", \"Topic6\", \"Topic6\", \"Topic6\", \"Topic6\", \"Topic6\", \"Topic6\", \"Topic6\", \"Topic6\", \"Topic6\", \"Topic6\", \"Topic6\", \"Topic6\", \"Topic6\", \"Topic6\", \"Topic6\", \"Topic6\", \"Topic6\", \"Topic6\", \"Topic6\", \"Topic6\", \"Topic6\", \"Topic6\", \"Topic6\", \"Topic6\", \"Topic6\", \"Topic6\", \"Topic6\", \"Topic6\", \"Topic6\", \"Topic6\", \"Topic6\", \"Topic6\", \"Topic6\", \"Topic6\", \"Topic6\", \"Topic6\", \"Topic6\", \"Topic6\", \"Topic6\", \"Topic6\", \"Topic6\", \"Topic6\", \"Topic6\", \"Topic6\", \"Topic6\", \"Topic6\", \"Topic6\", \"Topic6\", \"Topic6\", \"Topic6\", \"Topic6\", \"Topic6\", \"Topic6\", \"Topic6\", \"Topic6\", \"Topic7\", \"Topic7\", \"Topic7\", \"Topic7\", \"Topic7\", \"Topic7\", \"Topic7\", \"Topic7\", \"Topic7\", \"Topic7\", \"Topic7\", \"Topic7\", \"Topic7\", \"Topic7\", \"Topic7\", \"Topic7\", \"Topic7\", \"Topic7\", \"Topic7\", \"Topic7\", \"Topic7\", \"Topic7\", \"Topic7\", \"Topic7\", \"Topic7\", \"Topic7\", \"Topic7\", \"Topic7\", \"Topic7\", \"Topic7\", \"Topic7\", \"Topic7\", \"Topic7\", \"Topic7\", \"Topic7\", \"Topic7\", \"Topic7\", \"Topic7\", \"Topic7\", \"Topic7\", \"Topic7\", \"Topic7\", \"Topic7\", \"Topic7\", \"Topic7\", \"Topic7\", \"Topic7\", \"Topic7\", \"Topic7\", \"Topic7\", \"Topic7\", \"Topic7\", \"Topic7\", \"Topic7\", \"Topic7\", \"Topic7\", \"Topic7\", \"Topic7\", \"Topic7\", \"Topic7\", \"Topic7\", \"Topic7\", \"Topic7\", \"Topic8\", \"Topic8\", \"Topic8\", \"Topic8\", \"Topic8\", \"Topic8\", \"Topic8\", \"Topic8\", \"Topic8\", \"Topic8\", \"Topic8\", \"Topic8\", \"Topic8\", \"Topic8\", \"Topic8\", \"Topic8\", \"Topic8\", \"Topic8\", \"Topic8\", \"Topic8\", \"Topic8\", \"Topic8\", \"Topic8\", \"Topic8\", \"Topic8\", \"Topic8\", \"Topic8\", \"Topic8\", \"Topic8\", \"Topic8\", \"Topic8\", \"Topic8\", \"Topic8\", \"Topic8\", \"Topic8\", \"Topic8\", \"Topic8\", \"Topic8\", \"Topic8\", \"Topic8\", \"Topic8\", \"Topic8\", \"Topic8\", \"Topic8\", \"Topic8\", \"Topic8\", \"Topic8\", \"Topic8\", \"Topic8\", \"Topic8\", \"Topic8\", \"Topic8\", \"Topic8\", \"Topic8\", \"Topic8\", \"Topic8\", \"Topic8\", \"Topic8\", \"Topic8\", \"Topic8\", \"Topic8\", \"Topic8\", \"Topic8\", \"Topic8\", \"Topic8\", \"Topic8\", \"Topic8\"], \"logprob\": [30.0, 29.0, 28.0, 27.0, 26.0, 25.0, 24.0, 23.0, 22.0, 21.0, 20.0, 19.0, 18.0, 17.0, 16.0, 15.0, 14.0, 13.0, 12.0, 11.0, 10.0, 9.0, 8.0, 7.0, 6.0, 5.0, 4.0, 3.0, 2.0, 1.0, -6.7085, -6.8649, -6.9947, -6.995, -7.0432, -7.0432, -7.2046, -7.3288, -7.3975, -7.4706, -7.4706, -7.4706, -7.4706, -7.4709, -7.4754, -7.5499, -7.5499, -7.225, -7.6359, -7.6359, -7.636, -7.7301, -6.5187, -7.7318, -7.8341, -7.8341, -7.8342, -7.9502, -7.9502, -7.9502, -5.5237, -7.1552, -6.7433, -5.4163, -5.5524, -6.0198, -7.1803, -4.4276, -5.3617, -5.5756, -4.9561, -4.3282, -4.2158, -6.0177, -6.4875, -6.8145, -5.1771, -7.044, -5.2297, -5.3999, -4.0217, -6.0051, -6.0289, -5.5786, -4.5905, -2.9352, -4.9841, -4.8547, -5.6494, -4.7264, -5.1808, -4.9473, -4.8657, -4.2375, -4.5737, -4.9241, -5.0797, -5.2574, -5.0961, -4.9978, -5.3937, -5.4277, -5.5401, -5.0383, -5.3503, -5.4328, -5.7223, -5.7386, -5.7889, -5.8419, -5.8602, -5.8788, -5.8788, -5.8788, -5.8788, -5.8788, -5.8788, -5.8788, -5.8788, -5.8788, -5.8788, -5.8788, -5.8788, -5.8793, -5.937, -6.4135, -6.4799, -6.3848, -6.551, -6.5888, -6.2776, -6.7548, -6.7548, -4.4221, -5.3135, -4.8975, -5.4862, -4.7649, -5.8162, -4.9413, -5.6304, -5.0393, -4.5936, -2.5225, -4.8745, -5.3125, -5.2661, -5.3534, -5.2641, -5.0543, -4.9495, -4.712, -5.023, -4.8828, -4.8742, -5.2776, -4.5062, -4.9048, -5.4619, -5.2725, -5.0884, -5.1632, -5.0112, -5.1963, -5.2241, -5.1801, -5.3035, -5.9637, -7.0115, -7.1545, -7.162, -7.3186, -7.4129, -4.9455, -7.6328, -7.6328, -7.6329, -6.792, -7.07, -7.7642, -7.7642, -7.7643, -7.7644, -7.0114, -7.4509, -7.0867, -7.6626, -7.9154, -7.9154, -7.9154, -7.9154, -7.9154, -7.9155, -7.9155, -7.9159, -7.0907, -7.9195, -7.2364, -6.7947, -6.0176, -6.4941, -7.2509, -6.2841, -7.329, -7.2068, -5.768, -6.7003, -6.9898, -7.047, -6.572, -4.2331, -4.3624, -6.6785, -5.8109, -6.5772, -4.9055, -6.1072, -6.3499, -4.8354, -5.1736, -5.4655, -5.2997, -5.8417, -2.6729, -5.8091, -5.2013, -3.9296, -4.4214, -5.8758, -5.2473, -5.2616, -4.8617, -4.431, -5.4691, -5.1138, -5.9824, -5.2998, -5.0717, -5.5177, -5.3156, -4.8241, -5.1569, -5.1618, -5.2132, -5.3218, -5.2997, -5.5046, -5.377, -5.3506, -5.4961, -5.9601, -5.7824, -6.4177, -6.599, -6.7604, -6.8846, -7.1057, -7.1918, -7.286, -7.286, -7.3899, -7.3899, -7.3899, -7.39, -7.392, -7.506, -7.506, -7.506, -7.5062, -7.5073, -7.5104, -7.6373, -7.6374, -7.6374, -7.6374, -7.6374, -7.6374, -7.6374, -5.713, -7.7886, -6.102, -5.8844, -6.3269, -7.1057, -6.7667, -6.2207, -6.4184, -5.7511, -6.397, -6.4571, -6.1088, -5.2863, -6.1609, -6.7128, -4.7657, -4.5652, -3.8686, -5.5779, -6.7256, -5.5464, -6.2677, -6.4637, -3.8613, -5.8445, -2.8149, -5.2829, -5.0227, -4.5872, -5.4379, -4.9084, -5.4064, -4.805, -5.8145, -4.7934, -4.3817, -4.9521, -5.4969, -4.8536, -5.3646, -5.1293, -5.2421, -5.5207, -5.4936, -5.415, -5.5057, -5.5519, -5.6761, -6.083, -6.1596, -6.333, -6.333, -6.4325, -6.4862, -6.6671, -6.809, -6.8882, -6.9743, -6.8972, -7.0685, -7.0685, -7.0685, -7.0685, -7.0685, -7.0708, -6.4325, -7.2885, -7.2885, -7.2885, -7.2885, -7.2885, -7.2885, -6.6064, -7.4199, -7.4199, -7.4199, -6.6198, -7.5711, -7.5711, -6.3572, -5.8088, -6.3278, -4.9338, -5.6262, -5.9692, -5.9922, -5.6543, -5.5032, -6.0815, -5.4189, -6.0298, -5.5421, -4.8606, -6.0574, -5.7274, -4.4594, -5.1722, -5.2053, -4.3325, -2.838, -4.9367, -4.9508, -5.2656, -4.7287, -5.0661, -4.8188, -5.5019, -4.5895, -5.0691, -4.7114, -4.9883, -5.2588, -4.8857, -5.5598, -5.034, -5.3768, -5.4506, -4.8307, -5.5274, -5.368, -5.456, -5.4088, -5.5963, -5.8186, -6.1048, -6.1533, -4.9251, -6.5807, -6.6617, -6.746, -6.7462, -6.8402, -6.8404, -6.4135, -6.9442, -6.2064, -6.6155, -7.0603, -7.0603, -7.0603, -7.0604, -7.0615, -5.8022, -7.1916, -7.1916, -7.1916, -7.3428, -7.3428, -7.3428, -7.3428, -7.3428, -7.3428, -7.3428, -7.3428, -6.3149, -6.322, -6.9996, -4.801, -7.0096, -6.1414, -5.5496, -4.6949, -5.9087, -6.2338, -5.8416, -5.8206, -5.0315, -4.8445, -6.6556, -5.2182, -6.3257, -5.3322, -5.29, -5.1992, -5.1372, -5.8798, -6.1429, -4.6003, -5.2643, -2.8623, -4.945, -4.6133, -4.1641, -5.2378, -5.4441, -4.7681, -4.4107, -4.967, -5.0619, -5.1223, -5.3642, -5.2986, -5.3716, -5.2818, -5.3143, -5.3971, -4.0601, -4.8807, -4.9377, -5.2311, -5.3131, -5.3419, -5.3433, -5.073, -5.5353, -5.5353, -5.9747, -5.9747, -6.0314, -6.0314, -6.0314, -6.0315, -6.1556, -6.1556, -6.2975, -6.2975, -6.2975, -6.3767, -6.4628, -6.4628, -6.4628, -6.4628, -6.4628, -6.4633, -6.557, -6.557, -6.557, -6.2517, -6.557, -6.557, -5.5347, -5.0163, -5.8845, -4.8829, -6.0466, -5.96, -5.1216, -5.0882, -5.1954, -5.0577, -5.0672, -3.7821, -5.2939, -3.1645, -5.621, -5.5527, -5.316, -5.4752, -5.0207, -4.6018, -4.7276, -5.5415, -5.0206, -5.0304, -5.3461, -5.3491, -5.4433, -5.4929, -5.5144, -3.865, -4.3554, -4.4131, -5.7794, -5.9039, -5.8488, -6.2104, -6.2104, -6.2106, -6.3046, -6.3046, -6.3047, -6.3047, -6.4086, -6.5247, -6.5247, -5.229, -6.656, -6.656, -6.6561, -5.9637, -6.8072, -6.8072, -6.8072, -6.8072, -6.8072, -6.8072, -6.8072, -6.8072, -6.8072, -6.1918, -6.0529, -5.7371, -5.2351, -5.8148, -6.4127, -5.1656, -6.1784, -4.7163, -5.8473, -5.6472, -6.1652, -2.6171, -5.1342, -6.2114, -5.7682, -5.7692, -5.7506, -5.3987, -4.7518, -5.0188, -4.9597, -5.9214, -5.0524, -4.6742, -5.4168, -5.3469, -5.2387, -5.5912, -5.4948, -5.3645, -5.5151, -5.6942, -5.5133, -5.6306, -5.7169, -5.716], \"loglift\": [30.0, 29.0, 28.0, 27.0, 26.0, 25.0, 24.0, 23.0, 22.0, 21.0, 20.0, 19.0, 18.0, 17.0, 16.0, 15.0, 14.0, 13.0, 12.0, 11.0, 10.0, 9.0, 8.0, 7.0, 6.0, 5.0, 4.0, 3.0, 2.0, 1.0, 1.4986, 1.4909, 1.4889, 1.4886, 1.487, 1.4869, 1.4798, 1.4735, 1.4694, 1.4654, 1.4654, 1.4654, 1.4653, 1.4651, 1.4607, 1.4603, 1.4603, 1.4595, 1.4544, 1.4544, 1.4544, 1.4473, 1.4461, 1.4457, 1.4388, 1.4388, 1.4387, 1.4283, 1.4283, 1.4283, 1.4267, 1.4252, 1.4012, 1.3576, 1.3527, 1.3368, 1.4007, 1.1097, 1.2042, 1.2089, 1.1135, 1.01, 0.9192, 1.1663, 1.2613, 1.3262, 0.9383, 1.3573, 0.8661, 0.9035, 0.4869, 1.0613, 1.0657, 0.9145, 0.5465, -0.1637, 0.6062, 0.5443, 0.8729, 0.4362, 0.6473, 0.4565, 0.3863, 0.0257, 0.1973, 0.357, 0.3678, 0.4865, 0.3026, 0.1733, 0.396, -0.099, 0.2405, 1.7335, 1.7309, 1.7285, 1.7266, 1.7264, 1.7257, 1.7249, 1.7246, 1.7243, 1.7243, 1.7243, 1.7243, 1.7243, 1.7243, 1.7243, 1.7243, 1.7243, 1.7243, 1.7243, 1.7243, 1.7239, 1.7233, 1.7129, 1.711, 1.7108, 1.7088, 1.7074, 1.7038, 1.7018, 1.7018, 1.6895, 1.6936, 1.6788, 1.6764, 1.5941, 1.6348, 1.4515, 1.5647, 1.3895, 1.2387, 0.2489, 1.2333, 1.4209, 1.3661, 1.4089, 1.2883, 1.1296, 1.0294, 0.736, 0.7517, 0.5162, 0.4773, 0.9809, -0.243, 0.2663, 1.049, 0.6102, 0.1636, 0.2355, -0.2402, 0.2512, 0.3225, -0.0431, 0.0252, 1.8249, 1.7894, 1.7801, 1.7729, 1.7703, 1.7631, 1.7461, 1.7443, 1.7443, 1.7442, 1.7377, 1.7323, 1.731, 1.7309, 1.7308, 1.7307, 1.7301, 1.7259, 1.7158, 1.7146, 1.7136, 1.7136, 1.7136, 1.7136, 1.7135, 1.7135, 1.7134, 1.7131, 1.7118, 1.7095, 1.6998, 1.6896, 1.645, 1.6471, 1.6858, 1.6278, 1.6802, 1.6636, 1.5426, 1.6168, 1.6402, 1.6394, 1.5688, 1.2196, 1.1843, 1.5636, 1.3812, 1.5351, 1.1615, 1.4239, 1.4632, 1.0626, 1.1339, 1.2131, 1.1596, 1.2661, 0.0985, 1.2171, 0.9153, 0.3336, 0.5459, 1.182, 0.8562, 0.8571, 0.5862, 0.34, 0.8629, 0.5106, 1.1311, 0.5316, 0.2798, 0.6497, 0.4345, -0.3155, 0.0951, -0.0248, 0.0679, 0.1257, 0.0291, 0.4371, 0.0217, -0.1879, -0.0923, 1.9536, 1.9449, 1.9409, 1.9341, 1.9269, 1.9206, 1.9073, 1.9013, 1.8943, 1.8943, 1.8857, 1.8857, 1.8857, 1.8857, 1.8836, 1.8752, 1.8752, 1.8751, 1.875, 1.8739, 1.8707, 1.8618, 1.8618, 1.8618, 1.8618, 1.8618, 1.8618, 1.8617, 1.8594, 1.8443, 1.8401, 1.8011, 1.8159, 1.8343, 1.8157, 1.7477, 1.7615, 1.7029, 1.7508, 1.7565, 1.7063, 1.5628, 1.6814, 1.7356, 1.3509, 1.2982, 1.0988, 1.4445, 1.7156, 1.3754, 1.5722, 1.6232, 0.6472, 1.3305, -0.0435, 1.0667, 0.9285, 0.6939, 1.1246, 0.8355, 1.1044, 0.6477, 1.3035, 0.3693, -0.1186, 0.219, 0.7883, -0.0827, 0.5334, 0.0057, 0.0867, 0.4841, 0.287, -0.0163, 0.2444, -0.2003, 0.2182, 2.1837, 2.1812, 2.1748, 2.1748, 2.1706, 2.1682, 2.159, 2.1506, 2.1454, 2.1393, 2.1363, 2.1321, 2.1321, 2.1321, 2.1321, 2.1321, 2.1297, 2.1216, 2.1125, 2.1125, 2.1125, 2.1125, 2.1125, 2.1125, 2.1004, 2.0988, 2.0988, 2.0988, 2.0881, 2.081, 2.081, 2.0633, 2.0289, 2.0518, 1.8794, 1.9072, 1.8902, 1.8922, 1.7684, 1.6668, 1.8029, 1.6167, 1.7766, 1.5925, 1.3392, 1.773, 1.6418, 1.0779, 1.3237, 1.3171, 0.8302, -0.0666, 1.0145, 0.9126, 1.0196, 0.4423, 0.7235, 0.4332, 1.1005, -0.0809, 0.5213, 0.0596, 0.35, 0.6829, 0.0817, 1.0998, 0.103, 0.7268, 0.8717, -0.5675, 1.0104, -0.0869, 0.3754, -0.0801, 2.4366, 2.4304, 2.4202, 2.4181, 2.4143, 2.3955, 2.3884, 2.384, 2.3838, 2.3766, 2.3764, 2.368, 2.3677, 2.3639, 2.3594, 2.3567, 2.3566, 2.3566, 2.3566, 2.3554, 2.3464, 2.3427, 2.3427, 2.3427, 2.3245, 2.3245, 2.3245, 2.3245, 2.3245, 2.3245, 2.3245, 2.3245, 2.3006, 2.2962, 2.3101, 2.1838, 2.2999, 2.212, 2.1286, 1.9856, 2.1475, 2.1984, 2.1044, 2.075, 1.82, 1.7562, 2.2484, 1.8235, 2.1467, 1.8194, 1.8049, 1.7329, 1.6863, 1.9851, 2.0648, 1.1893, 1.5174, -0.0909, 1.122, 0.7154, 0.0991, 1.191, 1.3726, 0.5702, 0.0978, 0.168, 0.3368, 0.2815, 0.5301, 0.3258, 0.4031, -0.5109, -0.347, -0.2601, 2.7131, 2.7055, 2.7045, 2.6988, 2.6969, 2.6961, 2.6949, 2.6919, 2.6908, 2.6908, 2.6742, 2.6742, 2.6715, 2.6715, 2.6715, 2.6715, 2.6651, 2.6651, 2.6568, 2.6568, 2.6568, 2.6516, 2.6456, 2.6456, 2.6456, 2.6456, 2.6455, 2.6451, 2.6384, 2.6384, 2.6384, 2.6331, 2.6384, 2.6384, 2.5011, 2.2751, 2.4482, 2.0492, 2.4544, 2.4124, 1.9734, 1.9535, 1.9562, 1.7938, 1.7564, 0.4811, 1.7913, -0.393, 2.0191, 1.8508, 1.3567, 1.645, 0.7689, -0.0932, 0.0433, 1.6613, 0.3176, 0.1066, 0.0055, -0.1781, -0.0442, 0.6356, 1.2077, 2.9686, 2.9638, 2.9632, 2.9259, 2.9191, 2.9135, 2.9001, 2.9001, 2.8999, 2.8929, 2.8929, 2.8928, 2.8928, 2.8841, 2.8734, 2.8733, 2.8685, 2.8598, 2.8597, 2.8597, 2.8591, 2.8419, 2.8419, 2.8419, 2.8419, 2.8419, 2.8419, 2.8419, 2.8419, 2.8419, 2.8386, 2.833, 2.8114, 2.7523, 2.7356, 2.7851, 2.5748, 2.7078, 2.3202, 2.5347, 2.3349, 2.5913, 0.1544, 1.7997, 2.6076, 2.1124, 2.1014, 2.0073, 1.4689, 0.3832, 0.7559, 0.4441, 2.2052, 0.3951, -0.4111, 1.141, 0.9008, 0.5936, 1.2941, 0.8791, 0.2259, 0.9249, 1.6181, 0.3181, 0.1975, 0.7986, -0.3644]}, \"token.table\": {\"Topic\": [3, 6, 7, 6, 1, 2, 3, 4, 5, 6, 8, 1, 6, 8, 1, 2, 3, 4, 6, 1, 3, 7, 8, 5, 6, 2, 6, 6, 8, 1, 2, 3, 4, 5, 6, 7, 8, 6, 8, 1, 4, 5, 7, 8, 6, 6, 2, 6, 1, 2, 3, 4, 5, 6, 8, 6, 6, 2, 3, 8, 6, 2, 6, 8, 6, 7, 6, 8, 6, 3, 8, 3, 3, 3, 6, 1, 2, 3, 4, 5, 6, 7, 1, 8, 1, 2, 3, 4, 5, 6, 7, 8, 1, 2, 4, 5, 6, 8, 7, 5, 1, 2, 3, 4, 5, 6, 7, 1, 6, 3, 8, 8, 7, 8, 5, 1, 5, 6, 7, 8, 1, 3, 4, 5, 6, 7, 1, 2, 3, 4, 5, 6, 7, 8, 3, 5, 1, 2, 3, 4, 5, 6, 7, 7, 1, 2, 4, 6, 7, 8, 6, 2, 8, 5, 1, 3, 4, 5, 2, 1, 2, 3, 5, 6, 8, 4, 1, 1, 2, 3, 4, 5, 6, 7, 8, 1, 3, 4, 5, 1, 5, 8, 8, 4, 5, 8, 2, 3, 4, 6, 4, 5, 7, 5, 5, 2, 8, 1, 2, 3, 4, 5, 6, 7, 8, 2, 2, 6, 8, 1, 2, 4, 1, 3, 4, 5, 6, 1, 1, 2, 3, 4, 1, 3, 4, 5, 6, 7, 8, 4, 6, 7, 6, 1, 2, 3, 4, 5, 8, 5, 1, 2, 3, 4, 6, 7, 8, 1, 2, 4, 5, 4, 1, 3, 4, 5, 6, 7, 1, 3, 8, 5, 5, 8, 2, 6, 1, 2, 3, 6, 7, 8, 7, 1, 3, 4, 5, 6, 8, 3, 6, 1, 4, 5, 6, 1, 3, 4, 5, 6, 3, 2, 6, 8, 1, 2, 3, 4, 5, 6, 7, 8, 5, 1, 1, 2, 3, 4, 5, 8, 4, 5, 4, 1, 2, 3, 4, 6, 5, 2, 6, 3, 6, 2, 3, 7, 1, 2, 3, 4, 5, 6, 7, 8, 1, 3, 4, 2, 3, 5, 8, 1, 3, 4, 7, 8, 1, 3, 4, 5, 6, 8, 4, 7, 1, 3, 6, 7, 2, 6, 6, 1, 5, 6, 7, 1, 5, 1, 3, 4, 5, 6, 8, 3, 5, 7, 8, 1, 5, 7, 1, 5, 3, 1, 5, 7, 4, 5, 2, 5, 2, 4, 5, 7, 8, 1, 1, 4, 4, 3, 4, 4, 5, 6, 4, 6, 8, 2, 6, 7, 3, 6, 7, 1, 2, 3, 4, 5, 6, 7, 2, 1, 3, 4, 8, 1, 3, 4, 7, 1, 5, 5, 2, 2, 1, 3, 4, 5, 8, 7, 1, 3, 4, 5, 8, 1, 5, 1, 2, 3, 4, 5, 8, 7, 8, 1, 2, 3, 4, 5, 6, 7, 8, 3, 1, 3, 5, 7, 3, 1, 5, 1, 2, 3, 4, 5, 6, 7, 8, 1, 2, 3, 4, 5, 6, 7, 1, 2, 4, 5, 6, 7, 8, 2, 1, 2, 3, 4, 6, 7, 8, 3, 4, 6, 3, 4, 1, 4, 8, 1, 2, 3, 4, 5, 6, 7, 8, 1, 4, 1, 7, 1, 2, 3, 4, 5, 6, 7, 8, 1, 2, 3, 4, 5, 6, 7, 8, 7, 1, 8, 7, 1, 4, 5, 1, 1, 6, 7, 8, 1, 3, 5, 1, 3, 4, 5, 6, 7, 8, 5, 8, 1, 6, 6, 5, 6, 8, 7, 8, 1, 6, 1, 1, 8, 3, 1, 4, 1, 4, 6, 8, 1, 4, 7, 5, 7, 1, 2, 3, 4, 5, 6, 7, 8, 4, 5, 7, 7, 7, 7, 6, 1, 5, 7, 8, 6, 1, 2, 6, 1, 2, 3, 4, 5, 6, 7, 8, 5, 4, 1, 5, 5, 8, 1, 2, 3, 4, 5, 6, 8, 1, 3, 4, 8, 8, 3, 1, 2, 3, 4, 7, 8, 1, 2, 3, 4, 5, 6, 7, 3, 8, 3, 4, 7, 2, 2, 3, 8, 8, 1, 2, 3, 4, 5, 6, 7, 3, 6, 6, 1, 2, 3, 4, 5, 6, 7, 8, 1, 2, 3, 4, 5, 6, 8, 2, 6, 7, 1, 2, 3, 4, 5, 6, 7, 3, 4, 6, 7, 3, 3, 7, 2, 6, 7, 5, 1, 2, 3, 4, 5, 6, 8, 5, 1, 2, 3, 4, 5, 6, 7, 8, 1, 2, 3, 4, 5, 6, 7, 8, 3, 3, 3, 6, 2, 2, 6, 7, 4, 5, 6, 7, 1, 2, 3, 4, 5, 6, 7, 8, 4, 7, 1, 2, 3, 4, 5, 7, 8, 7, 8, 4, 1, 2, 3, 4, 5, 6, 7, 8, 4, 1, 2, 3, 4, 5, 6, 7, 8, 1, 2, 3, 4, 5, 6, 7, 8, 1, 2, 3, 4, 5, 6, 7, 2, 1, 2, 3, 4, 5, 6, 7, 8, 8, 1, 2, 7, 8, 1, 2, 3, 4, 5, 6, 7, 8, 2, 6, 8, 1, 2, 3, 4, 5, 6, 7, 6, 3, 2, 8, 8, 2, 4, 6, 8, 8, 2, 6, 7, 1, 3, 4, 2, 1, 2, 3, 4, 5, 6, 7, 8, 2, 6, 1, 3, 4, 5, 1, 6, 8, 5, 1, 4, 5, 7, 8, 7, 6, 8, 1, 3, 4, 5, 6, 1, 3, 4, 5, 6, 8, 1, 2, 3, 4, 5, 6, 7, 4, 3, 4, 2, 5, 1, 3, 4, 5, 6, 5, 7, 2, 1, 3, 4, 5, 1, 3, 5, 6, 4, 2, 3, 4, 1, 2, 3, 4, 5, 6, 7, 8, 1, 2, 3, 4, 5, 7, 1, 3, 4, 5, 4, 1, 4, 4, 8, 3, 4, 2, 3, 2, 4, 3, 5, 7, 1, 3, 4, 5, 6, 7, 5, 1, 2, 3, 4, 5, 6, 7, 8, 5, 7, 1, 3, 5, 1, 7, 1, 4, 5, 6, 7, 1, 4, 5, 8, 1, 2, 3, 4, 5, 6, 7, 8, 4, 2, 6, 1, 1, 5, 6, 2, 4, 6, 7, 8, 8, 7, 1, 1, 2, 3, 4, 5, 6, 7, 8, 2, 5, 6, 7, 7, 1, 1, 3, 4, 8, 1, 3, 4, 2, 5, 1, 2, 3, 4, 5, 6, 7, 8, 4, 5, 6, 7, 4, 6, 1, 1, 2, 3, 4, 5, 6, 7, 8, 1, 2, 3, 4, 5, 6, 7, 8, 4, 6, 2, 6, 5, 8, 2, 3, 4, 6, 7, 3, 2, 6, 1, 2, 3, 5, 6, 7, 8, 1, 3, 4, 5, 6, 7, 8, 4, 1, 4, 5, 7, 3, 3, 4, 1, 1, 2, 3, 4, 5, 6, 7, 2, 2, 4, 5, 8, 2, 3, 4, 5, 6, 7, 8, 6, 7, 4, 1, 1, 3, 4, 6, 5, 6, 3, 8, 3, 5, 3, 5, 5, 8, 1, 2, 3, 4, 5, 6, 7, 8, 4, 5, 6, 8, 7, 4, 5, 6, 7, 1, 2, 3, 4, 5, 6, 7, 4, 5, 1, 5, 6, 2, 6, 1, 2, 3, 4, 5, 6, 7, 8, 7, 2, 2, 2, 5, 1, 3, 8, 7, 1, 2, 3, 4, 5, 6, 7, 8, 1, 4, 5, 6, 7, 1, 5, 1, 2, 3, 6, 1, 2, 3, 4, 5, 6, 7, 1, 2, 3, 4, 5, 6, 7, 8, 4, 6, 3, 4, 6, 1, 3, 4, 5, 6, 7, 8, 8, 1, 2, 3, 4, 5, 6, 7, 8, 1, 3, 8, 2, 1, 2, 3, 4, 5, 6, 7, 1, 3, 4, 5, 6, 1, 2, 3, 4, 7, 8, 1, 2, 3, 4, 5, 2, 2, 3, 4, 1, 2, 3, 4, 5, 6, 7, 8, 1, 2, 3, 4, 5, 7, 8, 1, 2, 3, 4, 5, 6, 7, 8, 2, 1, 2, 3, 4, 5, 6, 7, 8, 1, 2, 3, 4, 5, 6, 7, 8, 1, 2, 3, 4, 5, 6, 7, 8, 3, 8, 1, 5, 7, 8, 7, 1, 2, 3, 4, 5, 6, 7, 8, 1, 2, 6, 6, 5], \"Freq\": [0.8324880376029097, 0.1387480062671516, 0.9680790092701637, 0.9235335996286417, 0.08644289902483743, 0.605100293173862, 0.043221449512418714, 0.023273088198994693, 0.12966434853725614, 0.01994836131342402, 0.09309235279597877, 0.10526624387585147, 0.7579169559061305, 0.1368461170386069, 0.10152194548386306, 0.0761414591128973, 0.12690243185482883, 0.0761414591128973, 0.6091316729031784, 0.2297370995384016, 0.2807897883247131, 0.051052688786311466, 0.40842151029049173, 0.10781364859674415, 0.8625091887739532, 0.06346820459636468, 0.8885548643491056, 0.9688715325765986, 0.9621424084271233, 0.24038938625708092, 0.24725765443585465, 0.14423363175424855, 0.034341340893868706, 0.05494614543018993, 0.10989229086037985, 0.006868268178773741, 0.15797016811179604, 0.960358865412676, 0.030011214544146125, 0.06841033933146998, 0.41046203598881986, 0.06841033933146998, 0.045606892887646654, 0.38765858954499655, 0.9235335241665588, 0.9235335241665588, 0.9060581635424209, 0.083894274402076, 0.10312498490301565, 0.051562492451507826, 0.051562492451507826, 0.12890623112876956, 0.10312498490301565, 0.15468747735452346, 0.4124999396120626, 0.9607667625775363, 0.9585717499619961, 0.1409539249485891, 0.07047696247429455, 0.77524658721724, 0.9235335241665588, 0.592810659110208, 0.38661564724578784, 0.01718291765536835, 0.9133105018780238, 0.9052541505964088, 0.924960736095222, 0.05138670756084567, 0.9235335241665588, 0.9147870571647455, 0.060985803810983036, 0.9211457510752373, 0.9212183326387345, 0.9616239773705162, 0.8629779168467406, 0.3182352778328279, 0.2065737768388532, 0.17307532654066077, 0.0744410006626498, 0.16749225149096203, 0.01861025016566245, 0.04094255036445739, 0.07045149585370236, 0.8454179502444283, 0.5429992712484906, 0.07946330798758398, 0.03973165399379199, 0.13906078897827198, 0.009932913498447998, 0.10098462056755465, 0.011588399081522665, 0.07449685123835999, 0.24829727783127473, 0.04381716667610731, 0.146057222253691, 0.292114444507382, 0.014605722225369102, 0.2629030000566438, 0.9657482333804052, 0.9650830918425168, 0.1928292035845265, 0.15667372791242778, 0.16872555313646068, 0.06025912612016453, 0.06025912612016453, 0.02410365044806581, 0.33745110627292135, 0.10763884592741571, 0.8611107674193257, 0.9619420551957791, 0.980973909766208, 0.9258754542910913, 0.06614942790236139, 0.8599425627306981, 0.9285993349706168, 0.9678371402139301, 0.8397226009161073, 0.024697723556356094, 0.04939544711271219, 0.07409317066906829, 0.03086618865526718, 0.12346475462106872, 0.5075773245532825, 0.2709365448629008, 0.006859153034503818, 0.06173237731053436, 0.08876534499567511, 0.0035506137998270043, 0.45802918017768357, 0.23789112458840928, 0.0781135035961941, 0.12072086919411815, 0.010651841399481013, 0.007101227599654009, 0.05890256534968266, 0.8835384802452398, 0.050484579344209544, 0.016828193114736514, 0.016828193114736514, 0.7572686901631431, 0.06731277245894605, 0.050484579344209544, 0.03365638622947303, 0.9680790086210526, 0.14189440720774138, 0.24324755521327093, 0.02027062960110591, 0.06081188880331773, 0.48649511042654187, 0.04054125920221182, 0.943235356462763, 0.976744919599576, 0.9068849125742394, 0.9862671410684178, 0.0668885876313705, 0.7692187577607608, 0.133777175262741, 0.03344429381568525, 0.9879131600687071, 0.5026687740131311, 0.09335277231672437, 0.014361964971803748, 0.3303251943514862, 0.021542947457705623, 0.043085894915411246, 0.910639788155641, 0.9224008435600347, 0.1969238626927223, 0.1808484453300511, 0.16276360079704597, 0.15070703777504257, 0.10047135851669504, 0.17482016381904938, 0.02009427170333901, 0.014065990192337306, 0.20393121253185617, 0.02659972337372037, 0.05319944674744074, 0.71819253109045, 0.4053735953679129, 0.5827245433413748, 0.9068849360134921, 0.9852997511614542, 0.1976880451151654, 0.06589601503838848, 0.6589601503838847, 0.04710441983564605, 0.9028347135165492, 0.023552209917823023, 0.01570147327854868, 0.9249106044701318, 0.3432856695020743, 0.6436606303163893, 0.9434604044161492, 0.8983318148642141, 0.9767449195995755, 0.9524686981773529, 0.021021420968687643, 0.016817136774950114, 0.5045141032485034, 0.046247126131112815, 0.0882899680684881, 0.2606656200117268, 0.05045141032485034, 0.008408568387475057, 0.9767124545435436, 0.7162087252107662, 0.25277955007438807, 0.025277955007438804, 0.06495516322253007, 0.844417121892891, 0.07794619586703609, 0.6937468244316979, 0.08993014390781269, 0.06423581707700907, 0.11562447073861631, 0.038541490246205436, 0.9430583496130653, 0.08293178297467108, 0.10366472871833884, 0.8293178297467108, 0.9106399179523544, 0.05666272870567872, 0.21855623929333218, 0.19427221270518416, 0.05666272870567872, 0.1861775371758015, 0.21855623929333218, 0.07285207976444406, 0.9456992462906866, 0.4793406270490902, 0.5092994162396584, 0.9585720537663464, 0.23189759218582578, 0.015459839479055054, 0.15459839479055054, 0.015459839479055054, 0.5565542212459819, 0.9702019379241339, 0.9804061201961687, 0.27635890785103445, 0.21918120277840664, 0.1524738801936742, 0.019059235024209274, 0.04764808756052318, 0.09529617512104636, 0.19059235024209273, 0.04904116370364795, 0.024520581851823976, 0.26972640037006373, 0.6375351281474234, 0.9534863300807233, 0.1524059871134356, 0.5345583130098114, 0.2638670821665452, 0.029571310932457653, 0.011373581127868328, 0.004549432451147331, 0.07980319948823705, 0.7980319948823705, 0.10640426598431607, 0.9100993715308316, 0.8493428353147967, 0.1274014252972195, 0.937433349482579, 0.05596617011836292, 0.008186434678636936, 0.7285926863986874, 0.016372869357273872, 0.04911860807182162, 0.15554225889410178, 0.04093217339318468, 0.9600530898409546, 0.6617990693723633, 0.07165977184286737, 0.10116673671934216, 0.10959729811262069, 0.04215280696639257, 0.01264584208991777, 0.8887434253973502, 0.8828109153135566, 0.02587994134597927, 0.12939970672989634, 0.7246383576874196, 0.12939970672989634, 0.36498080655126675, 0.13686780245672503, 0.06843390122836251, 0.3269619725355098, 0.09884896844096808, 0.9417467617470641, 0.05737754607538866, 0.14344386518847166, 0.8032856450554413, 0.19643716923001014, 0.17125291676462423, 0.08058960788923493, 0.10073700986154367, 0.19140031873693297, 0.10577386035462086, 0.035257953451540286, 0.1259212623269296, 0.9285994319345149, 0.9379155444783697, 0.1676057477579634, 0.02394367825113763, 0.49084540414832145, 0.10774655213011934, 0.1676057477579634, 0.04788735650227526, 0.9732215317851166, 0.022118671176934467, 0.9406656184113568, 0.943083880099808, 0.09318975823955669, 0.046594879119778346, 0.09318975823955669, 0.7455180659164535, 0.96548916018301, 0.9431103901353403, 0.05029922080721815, 0.10752698032769599, 0.8602158426215679, 0.9781663075218255, 0.8890226401597303, 0.07408522001331086, 0.17111068282440245, 0.1176385944417767, 0.4919432131201571, 0.01604162651478773, 0.13368022095656443, 0.010694417676525153, 0.048124879544363196, 0.010694417676525153, 0.8025437175405711, 0.06687864312838092, 0.10031796469257138, 0.3174069887950481, 0.5041169822038999, 0.09957866315138764, 0.07468399736354073, 0.21689468124823572, 0.6747834527722889, 0.048198818055163496, 0.024099409027581748, 0.024099409027581748, 0.012227505312075063, 0.18341257968112595, 0.24455010624150125, 0.5380102337313027, 0.012227505312075063, 0.012227505312075063, 0.8924812994659784, 0.07437344162216487, 0.049341344273033355, 0.8881441969146004, 0.049341344273033355, 0.9600530898409546, 0.969619312522172, 0.028518215074181532, 0.9235335241665588, 0.10750148573802273, 0.044792285724176144, 0.4568813143865966, 0.38521365722791484, 0.9791768935109112, 0.9650826609283116, 0.35301953410709186, 0.19172612628229987, 0.31954354380383315, 0.10347124275552692, 0.030432718457507918, 0.9068849360139988, 0.9876511824741301, 0.9650830047910475, 0.08140678508200087, 0.8954746359020096, 0.8359600801394278, 0.1555274567701261, 0.9680789092946858, 0.8439269526685187, 0.15344126412154885, 0.8887436071974438, 0.1204434307829701, 0.030110857695742524, 0.8129931577850481, 0.8773425640466662, 0.10966782050583328, 0.9767449195995755, 0.9285991568071521, 0.03297410621264013, 0.16487053106320065, 0.09892231863792039, 0.19784463727584078, 0.46163748697696183, 0.9337649950896797, 0.9629654759305227, 0.9860837695251098, 0.9600735775701236, 0.18065135538931806, 0.7677682604046018, 0.1552933350704183, 0.6729377853051459, 0.1552933350704183, 0.791386725365462, 0.03597212388024827, 0.1438884955209931, 0.25270868614089076, 0.7160079440658572, 0.021059057178407566, 0.1620739021294667, 0.04051847553236668, 0.7698510351149668, 0.06406030833871913, 0.7512527068813425, 0.04076565076100308, 0.04076565076100308, 0.023294657577716045, 0.058236643944290116, 0.023294657577716045, 0.976744919599576, 0.2732305828850652, 0.10929223315402607, 0.5901780590317408, 0.021858446630805214, 0.07426605136193538, 0.14853210272387077, 0.6683944622574184, 0.07426605136193538, 0.8829283108607793, 0.10387391892479755, 0.9434604012750262, 0.9868323747183534, 0.9845285600567958, 0.3067480388347463, 0.26213014227696496, 0.40156106902003147, 0.00557723706972266, 0.02230894827889064, 0.9388338275722007, 0.7683489231171831, 0.02259849773874068, 0.06779549321622202, 0.09039399095496271, 0.04519699547748136, 0.9256007278877532, 0.05609701381137898, 0.09621100255355423, 0.01202637531919428, 0.04810550127677712, 0.5051077634061597, 0.2285011310646913, 0.09621100255355423, 0.9834195509733106, 0.9068848628116528, 0.3530577707977945, 0.00176971313683105, 0.11503135389401825, 0.26457211395624197, 0.10087364879936984, 0.09379479625204565, 0.0601702466522557, 0.0106182788209863, 0.8887436375976628, 0.07978447293767997, 0.7978447293767997, 0.039892236468839985, 0.039892236468839985, 0.9069764405580906, 0.6343989204203931, 0.3641919728339294, 0.21604928073694782, 0.23495359280143077, 0.26466036890276107, 0.07021601623950804, 0.043209856147389564, 0.11882710440532131, 0.04591047215660141, 0.008101848027635543, 0.15122866099817753, 0.5434780004622004, 0.11814739140482619, 0.11342149574863314, 0.014177686968579142, 0.04725895656193047, 0.014177686968579142, 0.032622024715589004, 0.08155506178897252, 0.08155506178897252, 0.6361294819539857, 0.08155506178897252, 0.06524404943117801, 0.016311012357794502, 0.9589648574486032, 0.20366415782778496, 0.46842756300390537, 0.09674047496819785, 0.1069236828595871, 0.045824435511251614, 0.010183207891389247, 0.06619085129403011, 0.037886928117924094, 0.8903428107712162, 0.07577385623584819, 0.6544060678391344, 0.3272030339195672, 0.07444045374261611, 0.7444045374261611, 0.14888090748523222, 0.3967496601439173, 0.036542731855360805, 0.15139131768649478, 0.049593707517989666, 0.18271365927680402, 0.05742429291556698, 0.06003448804809275, 0.06264468318061853, 0.9337643602044275, 0.9456994671420719, 0.9630725733462396, 0.9450201111557653, 0.179420993508322, 0.05520645954102215, 0.21392503072146082, 0.42785006144292165, 0.08280968931153322, 0.04140484465576661, 0.006900807442627769, 0.9406475636930246, 0.1684253520409623, 0.1469893981448398, 0.24498233024139968, 0.17761218942501478, 0.09186837384052488, 0.09799293209655988, 0.04593418692026244, 0.02449823302413997, 0.9680790092701637, 0.957352306195382, 0.9702022356796303, 0.9682658899210302, 0.7237452598970638, 0.025848044996323708, 0.24124841996568794, 0.9536747061304434, 0.9649475639666708, 0.523697569248456, 0.46798506188159894, 0.9339945691057961, 0.9051976754982085, 0.03051228119656883, 0.05085380199428138, 0.10484375948852638, 0.27521486865738176, 0.4193750379541055, 0.05242187974426319, 0.019658204904098697, 0.06552734968032899, 0.05897461471229609, 0.909498205895614, 0.9621390053375743, 0.8727647982665933, 0.1007036305692223, 0.9235335241665588, 0.06145951490114042, 0.7375141788136851, 0.18437854470342127, 0.9750442174406393, 0.962141287117685, 0.8245886265738493, 0.13019820419587094, 0.9423708488397026, 0.9423759229992391, 0.9258753959440423, 0.8887438008981811, 0.9629654769884184, 0.924927082424842, 0.033679354684676296, 0.8083045124322312, 0.1010380640540289, 0.033679354684676296, 0.9379159699184145, 0.910639858875354, 0.9052541518139846, 0.022964650507172293, 0.9645153213012363, 0.15212342724623432, 0.2836896345943289, 0.2096836429610257, 0.11306470943976876, 0.07606171362311716, 0.0637273816842333, 0.06578310367404727, 0.03494727382683761, 0.7998952558129974, 0.1738902730028255, 0.9882133102168211, 0.9241422959491409, 0.9450200115855292, 0.9388337581946944, 0.9585697926537016, 0.3655017393525402, 0.5537905141705155, 0.03322743085023093, 0.03322743085023093, 0.8993429277131163, 0.9508014531910793, 0.10111808853683234, 0.8763567673192135, 0.24792277076544053, 0.15495173172840032, 0.3718841561481608, 0.013281577005291458, 0.1018254237072345, 0.05755350035626298, 0.030990346345680066, 0.02213596167548576, 0.9434604012750262, 0.9242582167926949, 0.8824348339163974, 0.05190793140684691, 0.09624451261640007, 0.8662006135476007, 0.061478521129558886, 0.6352780516721085, 0.08880230829825173, 0.12295704225911777, 0.00683094679217321, 0.06830946792173209, 0.01366189358434642, 0.06190637944279289, 0.12381275888558578, 0.06190637944279289, 0.6809701738707218, 0.9068849360134921, 0.9069752342384071, 0.1745787671292603, 0.10474726027755617, 0.09310867580227215, 0.1862173516045443, 0.39571187215965664, 0.04655433790113608, 0.14940909559967466, 0.3667314164719287, 0.28523554614483343, 0.08149587032709527, 0.04074793516354763, 0.020373967581773816, 0.054330580218063515, 0.1005646892679959, 0.8547998587779652, 0.052015214988463135, 0.8322434398154102, 0.052015214988463135, 0.9921102228685846, 0.957960699266385, 0.010763603362543653, 0.03229081008763096, 0.9068849360134921, 0.12455315568039826, 0.1471991839859252, 0.52085865102712, 0.04529205661105391, 0.03396904245829044, 0.011323014152763478, 0.12455315568039826, 0.9211460643912116, 0.9585720761241149, 0.9821261792528384, 0.17133900528279591, 0.32169772420443316, 0.1468620045281108, 0.13287514695400499, 0.06294085908347605, 0.06993428787052894, 0.08042443105110829, 0.013986857574105789, 0.010971771795641525, 0.0877741743651322, 0.5376168179864348, 0.23040720770847203, 0.0438870871825661, 0.06583063077384915, 0.032915315386924576, 0.976744919599576, 0.5223711674716548, 0.46018412372502926, 0.1884918585729532, 0.07405037301080304, 0.20868741484862674, 0.10770963347025896, 0.29620149204321217, 0.0942459292864766, 0.03365926045945593, 0.9706939382050087, 0.14383258561731654, 0.04794419520577218, 0.7671071232923549, 0.8887459251980839, 0.8895792598694026, 0.07413160498911688, 0.2617174133961332, 0.6804652748299462, 0.05234348267922664, 0.9654892126797164, 0.27472347520600177, 0.013082070247904847, 0.37065865702397066, 0.10029587190060382, 0.22675588429701735, 0.004360690082634949, 0.004360690082634949, 0.9501814712211126, 0.31037605084135717, 0.09004737277496164, 0.16859933625950266, 0.27780572451849866, 0.09962688051697884, 0.009579507742017195, 0.02490672012924471, 0.01915901548403439, 0.14796465329658903, 0.24660775549431507, 0.3726517194136317, 0.06028189578749924, 0.01644051703295434, 0.11508361923068038, 0.01644051703295434, 0.01644051703295434, 0.8887440986642512, 0.9211456725298992, 0.9069741667469751, 0.9432351248726891, 0.9953563960350245, 0.2860618065262292, 0.6793967904997943, 0.9657772501747085, 0.10096812202496003, 0.7320188846809602, 0.050484061012480014, 0.12621015253120005, 0.25910289951055937, 0.12955144975527969, 0.2690683956455809, 0.03654015249507889, 0.15944793816034422, 0.03654015249507889, 0.03654015249507889, 0.0697584729451506, 0.9363480314795218, 0.8936312698311109, 0.173669070739195, 0.04884442614539859, 0.2822122399511919, 0.05427158460599844, 0.2605036061087925, 0.09226169383019735, 0.0868345353695975, 0.9052541596674983, 0.9068849360139988, 0.9249220212733946, 0.3729261679965697, 0.29316739218227444, 0.09915955912047518, 0.08407006099344634, 0.0409572092019354, 0.021556425895755474, 0.06251363509769087, 0.02371206848533102, 0.8922629286124796, 0.2645805219471168, 0.13804201145066963, 0.22201756841649364, 0.1276888605918694, 0.11618535963764694, 0.050615404198578864, 0.06902100572533482, 0.012653851049644716, 0.31225768419411026, 0.22627368419863061, 0.17875621051691817, 0.09729768420541117, 0.049780210523698736, 0.0362037894717809, 0.022627368419863063, 0.0746703157855481, 0.37488453732347965, 0.1675368949985462, 0.15426664588975048, 0.04312830960358615, 0.12109102311776111, 0.0663512455439787, 0.07298637009837657, 0.976744919599576, 0.18410352942577626, 0.22491158755568608, 0.17444666070801135, 0.13270406689573722, 0.1020201453247745, 0.07787797353036222, 0.04439044491230646, 0.05949877177719673, 0.9409550266656965, 0.9337643624157823, 0.9495296214651356, 0.02637582281847599, 0.02197985234872999, 0.08160238486824113, 0.3734878384354113, 0.10043370445321985, 0.08160238486824113, 0.08474093813240424, 0.12868068383068793, 0.040801192434120566, 0.10984936424570921, 0.7062861862683596, 0.27768516725080805, 0.012073268141339482, 0.5325354083763391, 0.1171577898427946, 0.1118324357590312, 0.06922960308892408, 0.07988031125645086, 0.06922960308892408, 0.015976062251290172, 0.9253444817814298, 0.8887442099980127, 0.20151188194133157, 0.8060475277653263, 0.9955162305858564, 0.1551805470627458, 0.033252974370588384, 0.28819244454509935, 0.5209632651392181, 0.9068849360139988, 0.20683760287694417, 0.7859828909323878, 0.968078307662346, 0.27379328575823836, 0.5594906274190088, 0.15475272673291732, 0.979500565874498, 0.13105638342566414, 0.17224553250230146, 0.17224553250230146, 0.35198000120035516, 0.05242255337026566, 0.033700212880885067, 0.0786338300553985, 0.011233404293628355, 0.5017971900734318, 0.4946286587866685, 0.021212412868186946, 0.10606206434093474, 0.8484965147274779, 0.021212412868186946, 0.04256651644971492, 0.2979656151480044, 0.6384977467457237, 0.9557941650563583, 0.5170641314423583, 0.04640319128328856, 0.4043706668972289, 0.006629027326184081, 0.013258054652368161, 0.9148623529052298, 0.89934585963372, 0.962141125334368, 0.6281866938028741, 0.09137261000769077, 0.1713236437644202, 0.09137261000769077, 0.011421576250961346, 0.12730879427651168, 0.14003967370416284, 0.5219660565336979, 0.11457791484886051, 0.06365439713825584, 0.012730879427651168, 0.11759747822514799, 0.0013999699788708093, 0.27299414587980786, 0.4157910837246304, 0.1189974482040188, 0.060198709091444806, 0.013999699788708094, 0.9106397571569406, 0.9494690003265377, 0.9363530663339302, 0.05896684005965427, 0.884502600894814, 0.03976281292434562, 0.3932100389185289, 0.5345889293162023, 0.004418090324927291, 0.026508541949563747, 0.9100504175828151, 0.05055835653237862, 0.976744919599576, 0.06475757596833462, 0.6346242444896792, 0.2849333342606723, 0.012951515193666923, 0.3809128227560647, 0.08392994399709901, 0.40673742090901827, 0.12266684122652931, 0.9564134507038632, 0.0942976356627554, 0.8486787209647986, 0.9363530346946396, 0.1743698549012228, 0.23696416178884125, 0.254848249471018, 0.1073045260930602, 0.040239197284897575, 0.040239197284897575, 0.12518861377523688, 0.0178840876821767, 0.2618034940074861, 0.17017227110486594, 0.11781157230336874, 0.06545087350187152, 0.026180349400748607, 0.34034454220973187, 0.009190433589897701, 0.29409387487672645, 0.6617112184726345, 0.036761734359590806, 0.9249272542596124, 0.9573518799232775, 0.9106402613219382, 0.9748916841692512, 0.9068849360139988, 0.13405187959154086, 0.8378242474471304, 0.976744919599576, 0.8481772423563533, 0.976744919599576, 0.9249267923981963, 0.8079819933672129, 0.11542599905245898, 0.05771299952622949, 0.13837184634515545, 0.009883703310368246, 0.5436036820702536, 0.1877903628969967, 0.10872073641405071, 0.009883703310368246, 0.9434603896063627, 0.225877236935227, 0.0366287411246314, 0.2930299289970512, 0.19535328599803414, 0.0366287411246314, 0.06104790187438567, 0.024419160749754268, 0.12820059393620992, 0.9434599129160672, 0.9600530898409546, 0.06501056648054938, 0.747621514526318, 0.19503169944164817, 0.9508014531910793, 0.9241422344861676, 0.5943759650000334, 0.00811434764505165, 0.15417260525598137, 0.15011543143345552, 0.09128641100683106, 0.6584168385408096, 0.014851507636258861, 0.31930741417956554, 0.004950502545419621, 0.22222754399388508, 0.13776723132331195, 0.22084294870420357, 0.12322898078165591, 0.061614490390827954, 0.09415247969834384, 0.10661383730547759, 0.033922584597197415, 0.9249272747120447, 0.14348950398887195, 0.7891922719387957, 0.9216327189558304, 0.7200953431069698, 0.15232786104185897, 0.12463188630697553, 0.9889280320916392, 0.05527867252971208, 0.5251473890322648, 0.3961638197962699, 0.018426224176570694, 0.9258754598807293, 0.9600530898409546, 0.9720854427396949, 0.07241815070981895, 0.30942300757831737, 0.11191896018790201, 0.11191896018790201, 0.2040875156367625, 0.06583468246347178, 0.019750404739041532, 0.11191896018790201, 0.5439711166887649, 0.015999150490846024, 0.015999150490846024, 0.41597791276199664, 0.938833192378897, 0.9508017818836473, 0.054544644143420425, 0.8181696621513064, 0.054544644143420425, 0.054544644143420425, 0.13123564152008738, 0.7436686352804952, 0.11665390357341102, 0.9631054068616429, 0.909498205895614, 0.1392290872067847, 0.08641805412834912, 0.17763711126382875, 0.09121905713547963, 0.4176872616203541, 0.033607021049913546, 0.02880601804278304, 0.02880601804278304, 0.6972033664768079, 0.28521955901323964, 0.5170870356929002, 0.47007912335718194, 0.10762041908851609, 0.8609633527081287, 0.9224009149090648, 0.2930672771971825, 0.22195536434786617, 0.16161798374844624, 0.13575910634869484, 0.019394158049813547, 0.11851985474886058, 0.030168690299709963, 0.017239251599834266, 0.15014661125039558, 0.4927888779500163, 0.10394765394258156, 0.10009774083359706, 0.03464921798086052, 0.08854800150664355, 0.03464921798086052, 0.9406485362573473, 0.9106401552370447, 0.9235335241665588, 0.2752567760135445, 0.6881419400338612, 0.898385777457904, 0.9262130720663022, 0.042161469282455344, 0.12648440784736603, 0.042161469282455344, 0.042161469282455344, 0.7167449778017408, 0.8888053706753519, 0.8613870140317219, 0.12948955112895166, 0.4342885658643114, 0.17142969705170186, 0.14857240411147496, 0.005714323235056729, 0.057143232350567286, 0.057143232350567286, 0.1200007879361913, 0.5149546171506272, 0.06491024585932274, 0.1817486884061037, 0.1904033878540134, 0.017309398895819398, 0.008654699447909699, 0.02163674861977425, 0.9363530663339302, 0.08444869761124338, 0.7881878443716049, 0.08444869761124338, 0.02814956587041446, 0.906974386863106, 0.21732301665749218, 0.7727040592266389, 0.9629657388426991, 0.5407712505586872, 0.0064377529828415145, 0.11587955369114726, 0.10944180070830574, 0.1802570835195624, 0.03862651789704909, 0.012875505965683029, 0.976744919599576, 0.976744919599576, 0.29133720393204005, 0.022410554148618467, 0.672316624458554, 0.24236638816597264, 0.5172148695913025, 0.07995592186918685, 0.0899504121028352, 0.0224876030257088, 0.007495867675236267, 0.03997796093459342, 0.9773895507943182, 0.9750659251662172, 0.9106399760993696, 0.9224008556147891, 0.2557550774615758, 0.5347606165105675, 0.14725292338696785, 0.06200123089977594, 0.8847215264001055, 0.9432352992271748, 0.9074288078657308, 0.06481634341898077, 0.9072760571055958, 0.0648054326503997, 0.8887451640476353, 0.9434603509116988, 0.8405085970037708, 0.08847458915829166, 0.276560840780747, 0.1224769437743308, 0.23705214924064028, 0.22519954177860826, 0.05926303731016007, 0.04741042984812805, 0.007901738308021343, 0.023705214924064025, 0.25683264593878374, 0.11414784263945943, 0.08561088197959457, 0.5136652918775675, 0.9600530898409546, 0.7733224530218494, 0.04548955606010879, 0.13646866818032638, 0.9388338682783484, 0.2440771204418889, 0.15564338115134943, 0.09197108886216103, 0.17333012900945732, 0.12380723500675524, 0.1450313324364847, 0.07074699143243156, 0.9363530663339302, 0.9650827061935051, 0.9629656806364285, 0.92913671254597, 0.8828083814365056, 0.37270199064394466, 0.6211699844065744, 0.12450726788406123, 0.4980290715362449, 0.22935549347063913, 0.019659042297483352, 0.013106028198322236, 0.02621205639664447, 0.045871098694127824, 0.03276507049580559, 0.9680790092701637, 0.983370132429693, 0.9928302268744876, 0.9767454697468307, 0.9650281485145061, 0.1850440957544359, 0.7401763830177436, 0.037008819150887176, 0.983419550973311, 0.33527935324281993, 0.06297124908621492, 0.13104827512536618, 0.2008272268154962, 0.25018307069388085, 0.017019256509787813, 0.0017019256509787815, 0.0017019256509787815, 0.321770966954084, 0.028672660421651053, 0.22619543221524718, 0.2803549019005881, 0.14336330210825526, 0.33514885228716923, 0.6463585008395406, 0.8244211147486364, 0.015267057680530305, 0.10686940376371212, 0.04580117304159091, 0.026277501652730326, 0.6000029544040091, 0.05693458691424904, 0.07883250495819098, 0.08759167217576776, 0.1051100066109213, 0.04379583608788388, 0.14236235317293852, 0.1512600002462472, 0.08897647073308658, 0.09787411780639524, 0.08007882365977792, 0.338110588785729, 0.08007882365977792, 0.026692941219925975, 0.07701096662757571, 0.9241315995309086, 0.8364202187947676, 0.13382723500716281, 0.033456808751790704, 0.0800277387313159, 0.06002080404848692, 0.10003467341414488, 0.1600554774626318, 0.28009708555960566, 0.010003467341414487, 0.3101074875838491, 0.9701983302503369, 0.342211578002675, 0.1776034771912617, 0.14511503624164065, 0.06064508977262595, 0.06281098583593402, 0.11262659529201961, 0.021658960633080697, 0.08013815434239857, 0.962967478845199, 0.9075037523632045, 0.06482169659737175, 0.979536955515624, 0.1198217152227055, 0.20219914443831555, 0.19471028723689646, 0.16475485843122006, 0.29955428805676376, 0.003744428600709547, 0.014977714402838188, 0.555986366633662, 0.017650360845513077, 0.15444065739823942, 0.15444065739823942, 0.114727345495835, 0.1685224780789017, 0.21533427754526327, 0.06553651925290621, 0.18724719786544633, 0.14979775829235706, 0.22469663743853557, 0.14056796384847958, 0.6880431914688737, 0.05918651109409666, 0.05918651109409666, 0.05178819720733458, 0.9631054513423032, 0.9767449195995755, 0.876679213550826, 0.07969811032280237, 0.2746770790465437, 0.2746770790465437, 0.13260272781557284, 0.1862752605028285, 0.11997389659504208, 0.003157207805132686, 0.003157207805132686, 0.006314415610265372, 0.2002981502903957, 0.1743335752527518, 0.24480885035492805, 0.11127675016133093, 0.21513505031190647, 0.037092250053776976, 0.014836900021510792, 0.25743621298849956, 0.22826010884980297, 0.09954200235555316, 0.17334038341225638, 0.1699079005724097, 0.010297448519539983, 0.05491972543754658, 0.006864965679693322, 0.9853465754248245, 0.09245664473679809, 0.13098024671046396, 0.21573217105252887, 0.177208569078863, 0.05393304276313222, 0.03852360197366587, 0.25425577302619473, 0.030818881578932696, 0.198707886069337, 0.041833239172492, 0.026145774482807502, 0.30329098400056703, 0.30329098400056703, 0.115041407724353, 0.010458309793123, 0.0052291548965615, 0.4138530492273672, 0.06952731227019769, 0.11587885378366282, 0.12581132696511962, 0.06621648787637875, 0.10594638060220601, 0.039729892725827255, 0.06290566348255981, 0.06405272819264567, 0.8967381946970393, 0.2003967582996268, 0.7287154847259156, 0.03643577423629578, 0.01821788711814789, 0.9795016178931484, 0.3532576564158622, 0.00464812705810345, 0.3021282587767243, 0.13944381174310352, 0.10690692233637936, 0.0185925082324138, 0.05112939763913795, 0.02324063529051725, 0.044757569162913305, 0.13427270748873993, 0.7608786757695262, 0.9585451431432728, 0.9650827969834688], \"Term\": [\"0\", \"0\", \"0000\", \"000kwh\", \"1\", \"1\", \"1\", \"1\", \"1\", \"1\", \"1\", \"100\", \"100\", \"100\", \"1000\", \"1000\", \"1000\", \"1000\", \"1000\", \"12\", \"12\", \"12\", \"12\", \"150\", \"150\", \"1500\", \"1500\", \"1k\", \"1kilo\", \"2\", \"2\", \"2\", \"2\", \"2\", \"2\", \"2\", \"2\", \"200\", \"200\", \"2022\", \"2022\", \"2022\", \"2022\", \"2022\", \"2b\", \"2defray\", \"2k\", \"2k\", \"30\", \"30\", \"30\", \"30\", \"30\", \"30\", \"30\", \"300\", \"36\", \"43\", \"43\", \"43\", \"4eumemo\", \"500\", \"500\", \"500\", \"600\", \"6th\", \"700\", \"700\", \"72021provokn\", \"accountable\", \"accountable\", \"affecting\", \"age\", \"ain\", \"alarkaris\", \"all\", \"all\", \"all\", \"all\", \"all\", \"all\", \"all\", \"amazon\", \"amazon\", \"amp\", \"amp\", \"amp\", \"amp\", \"amp\", \"amp\", \"amp\", \"amp\", \"another\", \"another\", \"another\", \"another\", \"another\", \"another\", \"antonioguterres\", \"anxiety\", \"anything\", \"anything\", \"anything\", \"anything\", \"anything\", \"anything\", \"anything\", \"aramco\", \"aramco\", \"aren\", \"art\", \"artfinder\", \"artist\", \"artist\", \"awaited\", \"banned\", \"become\", \"become\", \"become\", \"become\", \"biden\", \"biden\", \"biden\", \"biden\", \"biden\", \"biden\", \"big\", \"big\", \"big\", \"big\", \"big\", \"big\", \"big\", \"big\", \"bitcoin\", \"bitcoin\", \"blame\", \"blame\", \"blame\", \"blame\", \"blame\", \"blame\", \"blame\", \"blockchain\", \"body\", \"body\", \"body\", \"body\", \"body\", \"body\", \"borutpahor\", \"braun4indiana\", \"breakfast\", \"bucha\", \"burning\", \"burning\", \"burning\", \"burning\", \"butter\", \"buying\", \"buying\", \"buying\", \"buying\", \"buying\", \"buying\", \"cafreeland\", \"calltoactivism\", \"can\", \"can\", \"can\", \"can\", \"can\", \"can\", \"can\", \"can\", \"canada\", \"canada\", \"canada\", \"canada\", \"canadian\", \"canadian\", \"canpoli\", \"canvas\", \"cap\", \"cap\", \"cap\", \"car\", \"car\", \"car\", \"car\", \"cavuto\", \"cbd\", \"cbd\", \"cbdhealth\", \"cbdoil\", \"cereal\", \"certified\", \"change\", \"change\", \"change\", \"change\", \"change\", \"change\", \"change\", \"change\", \"cheese\", \"chicken\", \"chicken\", \"chicken\", \"child\", \"child\", \"child\", \"china\", \"china\", \"china\", \"china\", \"china\", \"chipe\", \"clean\", \"clean\", \"clean\", \"cleanser\", \"climate\", \"climate\", \"climate\", \"climate\", \"climate\", \"climate\", \"climate\", \"clock\", \"close\", \"close\", \"clove\", \"club\", \"club\", \"club\", \"club\", \"club\", \"cm\", \"code\", \"come\", \"come\", \"come\", \"come\", \"come\", \"come\", \"come\", \"commodity\", \"commodity\", \"commodity\", \"commodity\", \"common\", \"company\", \"company\", \"company\", \"company\", \"company\", \"company\", \"congress\", \"congress\", \"congress\", \"consequence\", \"considering\", \"considering\", \"cook\", \"cook\", \"cooking\", \"cooking\", \"cooking\", \"cooking\", \"cooking\", \"cooking\", \"coop\", \"country\", \"country\", \"country\", \"country\", \"country\", \"country\", \"cr\", \"crayfish\", \"crime\", \"crime\", \"crime\", \"crime\", \"crude\", \"crude\", \"crude\", \"crude\", \"crude\", \"cruz\", \"cup\", \"cup\", \"cup\", \"day\", \"day\", \"day\", \"day\", \"day\", \"day\", \"day\", \"day\", \"defeat\", \"deliver\", \"demand\", \"demand\", \"demand\", \"demand\", \"demand\", \"demand\", \"democrat\", \"democrat\", \"dems\", \"dependency\", \"depends\", \"depends\", \"depends\", \"depends\", \"desperate\", \"dey\", \"dey\", \"diffuser\", \"diffuser\", \"distributed\", \"distribution\", \"distribution\", \"doe\", \"doe\", \"doe\", \"doe\", \"doe\", \"doe\", \"doe\", \"doe\", \"domestic\", \"domestic\", \"domestic\", \"don\", \"don\", \"don\", \"don\", \"drill\", \"drill\", \"drill\", \"drill\", \"drill\", \"drilling\", \"drilling\", \"drilling\", \"drilling\", \"drilling\", \"drilling\", \"driven\", \"driven\", \"driving\", \"driving\", \"driving\", \"drone\", \"eat\", \"eat\", \"ebrd\", \"embargo\", \"embargo\", \"embargo\", \"embargo\", \"embassy\", \"emmanuelmacron\", \"energy\", \"energy\", \"energy\", \"energy\", \"energy\", \"engaged\", \"engine\", \"eth\", \"etsy\", \"etsy\", \"eu\", \"eu\", \"eucopresident\", \"europe\", \"europe\", \"ewarren\", \"except\", \"except\", \"except\", \"exec\", \"exec\", \"exhausted\", \"expected\", \"expert\", \"expert\", \"expert\", \"expert\", \"expert\", \"exported\", \"exporting\", \"exxon\", \"exxonmobil\", \"fault\", \"fault\", \"fed\", \"fed\", \"fed\", \"federal\", \"federal\", \"federal\", \"fish\", \"fish\", \"fish\", \"focus\", \"focus\", \"focus\", \"food\", \"food\", \"food\", \"food\", \"food\", \"food\", \"food\", \"fortified\", \"fossil\", \"fossil\", \"fossil\", \"fossil\", \"foxnews\", \"foxnews\", \"foxnews\", \"foxnews\", \"france\", \"france\", \"frau\", \"fry\", \"frying\", \"fuel\", \"fuel\", \"fuel\", \"fuel\", \"fuel\", \"fueloilnews\", \"fund\", \"fund\", \"fund\", \"fund\", \"fund\", \"funding\", \"funding\", \"future\", \"future\", \"future\", \"future\", \"future\", \"future\", \"fuzzysemi\", \"gallery\", \"gas\", \"gas\", \"gas\", \"gas\", \"gas\", \"gas\", \"gas\", \"gas\", \"gaslighting\", \"gasoline\", \"gasoline\", \"gasoline\", \"gasoline\", \"gaspricewizard\", \"germany\", \"germany\", \"get\", \"get\", \"get\", \"get\", \"get\", \"get\", \"get\", \"get\", \"go\", \"go\", \"go\", \"go\", \"go\", \"go\", \"go\", \"gold\", \"gold\", \"gold\", \"gold\", \"gold\", \"gold\", \"gold\", \"gon\", \"good\", \"good\", \"good\", \"good\", \"good\", \"good\", \"good\", \"gop\", \"gop\", \"gop\", \"gouging\", \"gouging\", \"gt\", \"gt\", \"gt\", \"ha\", \"ha\", \"ha\", \"ha\", \"ha\", \"ha\", \"ha\", \"ha\", \"headline\", \"hearing\", \"heavily\", \"hemp\", \"high\", \"high\", \"high\", \"high\", \"high\", \"high\", \"high\", \"hole\", \"how\", \"how\", \"how\", \"how\", \"how\", \"how\", \"how\", \"how\", \"huis\", \"humanitarian\", \"icelandfoods\", \"iea\", \"import\", \"import\", \"import\", \"imported\", \"importing\", \"impose\", \"impose\", \"inch\", \"india\", \"india\", \"india\", \"industry\", \"industry\", \"industry\", \"industry\", \"industry\", \"industry\", \"industry\", \"inhuman\", \"intelcrab\", \"invasion\", \"invasion\", \"invstr\", \"ipcc\", \"ipcc\", \"ipcc\", \"ipcc_ch\", \"ipccreport\", \"iran\", \"iran\", \"iraq\", \"irish\", \"irunnia_\", \"jamilastwocents\", \"jbteleprompter\", \"jeffries\", \"joe\", \"joe\", \"joe\", \"joe\", \"johnfugelsang\", \"jonathanwnv\", \"josepborrellf\", \"juliahb1\", \"juliahb1\", \"just\", \"just\", \"just\", \"just\", \"just\", \"just\", \"just\", \"just\", \"justinbaragona\", \"justinbaragona\", \"juststop_oil\", \"karinkmacdee\", \"keira_churchill\", \"kennedy\", \"kenyan\", \"keystone\", \"keystone\", \"keystone\", \"keystone\", \"khanofkhans11_\", \"khcambron\", \"kilo\", \"kilo\", \"know\", \"know\", \"know\", \"know\", \"know\", \"know\", \"know\", \"know\", \"kriegsverbrecher\", \"kwasikwarteng\", \"kyivindependent\", \"kyivindependent\", \"landscape\", \"landscape\", \"last\", \"last\", \"last\", \"last\", \"last\", \"last\", \"last\", \"latest\", \"latest\", \"latest\", \"latest\", \"leadnowca\", \"lied\", \"life\", \"life\", \"life\", \"life\", \"life\", \"life\", \"like\", \"like\", \"like\", \"like\", \"like\", \"like\", \"like\", \"link\", \"link\", \"listen\", \"listen\", \"listen\", \"liter\", \"litre\", \"litre\", \"litre\", \"liveable\", \"look\", \"look\", \"look\", \"look\", \"look\", \"look\", \"look\", \"lowering\", \"lt\", \"maggi\", \"make\", \"make\", \"make\", \"make\", \"make\", \"make\", \"make\", \"make\", \"making\", \"making\", \"making\", \"making\", \"making\", \"making\", \"making\", \"malnourished\", \"mariupol\", \"mariupol\", \"market\", \"market\", \"market\", \"market\", \"market\", \"market\", \"market\", \"marketer\", \"massage\", \"massage\", \"massage\", \"mayonnaise\", \"mbadi\", \"mbadi\", \"meat\", \"meat\", \"meat\", \"merkel\", \"money\", \"money\", \"money\", \"money\", \"money\", \"money\", \"money\", \"monster\", \"more\", \"more\", \"more\", \"more\", \"more\", \"more\", \"more\", \"more\", \"much\", \"much\", \"much\", \"much\", \"much\", \"much\", \"much\", \"much\", \"muellershewrote\", \"mv\", \"mvo\", \"n200\", \"na\", \"naira\", \"naira\", \"nasa\", \"nation\", \"nation\", \"nation\", \"nation\", \"need\", \"need\", \"need\", \"need\", \"need\", \"need\", \"need\", \"need\", \"neil\", \"network\", \"new\", \"new\", \"new\", \"new\", \"new\", \"new\", \"new\", \"nfts\", \"ngo\", \"nl\", \"no\", \"no\", \"no\", \"no\", \"no\", \"no\", \"no\", \"no\", \"northbay\", \"not\", \"not\", \"not\", \"not\", \"not\", \"not\", \"not\", \"not\", \"now\", \"now\", \"now\", \"now\", \"now\", \"now\", \"now\", \"now\", \"nt\", \"nt\", \"nt\", \"nt\", \"nt\", \"nt\", \"nt\", \"nutritionally\", \"oil\", \"oil\", \"oil\", \"oil\", \"oil\", \"oil\", \"oil\", \"oil\", \"oilpainting\", \"olaplex\", \"olive\", \"olive\", \"olive\", \"one\", \"one\", \"one\", \"one\", \"one\", \"one\", \"one\", \"one\", \"onion\", \"onion\", \"onion\", \"other\", \"other\", \"other\", \"other\", \"other\", \"other\", \"other\", \"p_fiala\", \"pad\", \"paint\", \"paint\", \"painting\", \"palm\", \"palm\", \"palm\", \"palm\", \"palmfree\", \"paste\", \"paste\", \"pastel\", \"pay\", \"pay\", \"pay\", \"peanut\", \"people\", \"people\", \"people\", \"people\", \"people\", \"people\", \"people\", \"people\", \"pepper\", \"pepper\", \"petroleum\", \"petroleum\", \"petroleum\", \"petroleum\", \"piece\", \"piece\", \"piece\", \"pin20\", \"pipeline\", \"pipeline\", \"pipeline\", \"pipeline\", \"pipeline\", \"pizza\", \"ponmo\", \"portrait\", \"potus\", \"potus\", \"potus\", \"potus\", \"potus\", \"president\", \"president\", \"president\", \"president\", \"president\", \"president\", \"price\", \"price\", \"price\", \"price\", \"price\", \"price\", \"price\", \"pricegouging\", \"print\", \"prioritise\", \"pro\", \"pro\", \"profit\", \"profit\", \"profit\", \"profit\", \"profit\", \"promo\", \"promo\", \"pulse\", \"pump\", \"pump\", \"pump\", \"pump\", \"putin\", \"putin\", \"putin\", \"putin\", \"quarterly\", \"r\", \"r\", \"rake\", \"re\", \"re\", \"re\", \"re\", \"re\", \"re\", \"re\", \"re\", \"real\", \"real\", \"real\", \"real\", \"real\", \"real\", \"record\", \"record\", \"record\", \"record\", \"reducing\", \"refused\", \"reject\", \"releasing\", \"reluctantly\", \"renewable\", \"renewable\", \"repbrianfitz\", \"replacement\", \"reprickallen\", \"reprokhanna\", \"repstefanik\", \"repstefanik\", \"repstefanik\", \"reserve\", \"reserve\", \"reserve\", \"reserve\", \"reserve\", \"reserve\", \"resurrect\", \"right\", \"right\", \"right\", \"right\", \"right\", \"right\", \"right\", \"right\", \"ro\", \"robotics\", \"rokhanna\", \"rokhanna\", \"rokhanna\", \"rosapren\", \"rudeboy_dwight\", \"russia\", \"russia\", \"russia\", \"russia\", \"russia\", \"russian\", \"russian\", \"russian\", \"russian\", \"s\", \"s\", \"s\", \"s\", \"s\", \"s\", \"s\", \"s\", \"s_guilbeault\", \"sachet\", \"sachet\", \"samramani2\", \"sanction\", \"sanction\", \"sanction\", \"sauce\", \"save\", \"save\", \"save\", \"save\", \"saveorangutans\", \"schoolacademy\", \"secblinken\", \"see\", \"see\", \"see\", \"see\", \"see\", \"see\", \"see\", \"see\", \"seed\", \"seed\", \"seed\", \"seed\", \"sen\", \"sen_joemanchin\", \"senator\", \"senator\", \"senator\", \"senator\", \"sentedcruz\", \"sentedcruz\", \"sentedcruz\", \"sesame\", \"settled\", \"should\", \"should\", \"should\", \"should\", \"should\", \"should\", \"should\", \"should\", \"signal\", \"signal\", \"sky\", \"sky\", \"slave\", \"slave\", \"snk\", \"so\", \"so\", \"so\", \"so\", \"so\", \"so\", \"so\", \"so\", \"some\", \"some\", \"some\", \"some\", \"some\", \"some\", \"some\", \"sourcing\", \"spectatorindex\", \"spedup\", \"spice\", \"spice\", \"sponsor\", \"spring\", \"starting\", \"starting\", \"starting\", \"starting\", \"starting\", \"starve\", \"stew\", \"stew\", \"still\", \"still\", \"still\", \"still\", \"still\", \"still\", \"still\", \"stop\", \"stop\", \"stop\", \"stop\", \"stop\", \"stop\", \"stop\", \"stopnewfields\", \"strategic\", \"strategic\", \"strategic\", \"strategic\", \"subsidize\", \"subsidy\", \"subsidy\", \"suffering\", \"supply\", \"supply\", \"supply\", \"supply\", \"supply\", \"supply\", \"supply\", \"supporthr6600\", \"supports3199\", \"sustainable\", \"sustainable\", \"sustainable\", \"t\", \"t\", \"t\", \"t\", \"t\", \"t\", \"t\", \"tackle\", \"talkradio\", \"tapping\", \"tar\", \"tax\", \"tax\", \"tax\", \"tax\", \"tcocseydaidiq\", \"tcokhf7ddbylb\", \"ted\", \"ted\", \"tedcruz\", \"tedcruz\", \"teddy\", \"terrorism\", \"test\", \"test\", \"than\", \"than\", \"than\", \"than\", \"than\", \"than\", \"than\", \"than\", \"thanks\", \"thanks\", \"thanks\", \"thanks\", \"thegeomadao\", \"thehill\", \"thehill\", \"thehill\", \"thelukass71\", \"there\", \"there\", \"there\", \"there\", \"there\", \"there\", \"there\", \"ticking\", \"tightening\", \"timjhanrahan\", \"tincture\", \"titus\", \"tomato\", \"tomato\", \"too\", \"too\", \"too\", \"too\", \"too\", \"too\", \"too\", \"too\", \"tot\", \"treat\", \"trichesfaucons\", \"truffle\", \"truly\", \"trust\", \"trust\", \"trust\", \"tttmediaxr\", \"u\", \"u\", \"u\", \"u\", \"u\", \"u\", \"u\", \"u\", \"ukraine\", \"ukraine\", \"ukraine\", \"ukraine\", \"ukraine\", \"ukrainian\", \"ukrainian\", \"usa\", \"usa\", \"usa\", \"usa\", \"use\", \"use\", \"use\", \"use\", \"use\", \"use\", \"use\", \"ve\", \"ve\", \"ve\", \"ve\", \"ve\", \"ve\", \"ve\", \"ve\", \"vegan\", \"vegan\", \"vehicle\", \"vehicle\", \"vehicle\", \"via\", \"via\", \"via\", \"via\", \"via\", \"via\", \"via\", \"w7voa\", \"wa\", \"wa\", \"wa\", \"wa\", \"wa\", \"wa\", \"wa\", \"wa\", \"wage\", \"waihigamwaura\", \"waihigamwaura\", \"wan\", \"want\", \"want\", \"want\", \"want\", \"want\", \"want\", \"want\", \"war\", \"war\", \"war\", \"war\", \"war\", \"water\", \"water\", \"water\", \"water\", \"water\", \"water\", \"week\", \"week\", \"week\", \"week\", \"week\", \"wey\", \"wfp\", \"wheel\", \"wheel\", \"when\", \"when\", \"when\", \"when\", \"when\", \"when\", \"when\", \"when\", \"why\", \"why\", \"why\", \"why\", \"why\", \"why\", \"why\", \"will\", \"will\", \"will\", \"will\", \"will\", \"will\", \"will\", \"will\", \"woman\", \"work\", \"work\", \"work\", \"work\", \"work\", \"work\", \"work\", \"work\", \"world\", \"world\", \"world\", \"world\", \"world\", \"world\", \"world\", \"world\", \"would\", \"would\", \"would\", \"would\", \"would\", \"would\", \"would\", \"would\", \"x\", \"x\", \"xl\", \"xl\", \"xl\", \"xl\", \"xrebellionuk\", \"year\", \"year\", \"year\", \"year\", \"year\", \"year\", \"year\", \"year\", \"youtube\", \"youtube\", \"youtube\", \"zen_firee\", \"zerohedge\"]}, \"R\": 30, \"lambda.step\": 0.01, \"plot.opts\": {\"xlab\": \"PC1\", \"ylab\": \"PC2\"}, \"topic.order\": [7, 6, 3, 4, 2, 8, 1, 5]};\n",
              "\n",
              "function LDAvis_load_lib(url, callback){\n",
              "  var s = document.createElement('script');\n",
              "  s.src = url;\n",
              "  s.async = true;\n",
              "  s.onreadystatechange = s.onload = callback;\n",
              "  s.onerror = function(){console.warn(\"failed to load library \" + url);};\n",
              "  document.getElementsByTagName(\"head\")[0].appendChild(s);\n",
              "}\n",
              "\n",
              "if(typeof(LDAvis) !== \"undefined\"){\n",
              "   // already loaded: just create the visualization\n",
              "   !function(LDAvis){\n",
              "       new LDAvis(\"#\" + \"ldavis_el591398034707642409275149855\", ldavis_el591398034707642409275149855_data);\n",
              "   }(LDAvis);\n",
              "}else if(typeof define === \"function\" && define.amd){\n",
              "   // require.js is available: use it to load d3/LDAvis\n",
              "   require.config({paths: {d3: \"https://cdnjs.cloudflare.com/ajax/libs/d3/3.5.5/d3.min\"}});\n",
              "   require([\"d3\"], function(d3){\n",
              "      window.d3 = d3;\n",
              "      LDAvis_load_lib(\"https://cdn.rawgit.com/bmabey/pyLDAvis/files/ldavis.v1.0.0.js\", function(){\n",
              "        new LDAvis(\"#\" + \"ldavis_el591398034707642409275149855\", ldavis_el591398034707642409275149855_data);\n",
              "      });\n",
              "    });\n",
              "}else{\n",
              "    // require.js not available: dynamically load d3 & LDAvis\n",
              "    LDAvis_load_lib(\"https://cdnjs.cloudflare.com/ajax/libs/d3/3.5.5/d3.min.js\", function(){\n",
              "         LDAvis_load_lib(\"https://cdn.rawgit.com/bmabey/pyLDAvis/files/ldavis.v1.0.0.js\", function(){\n",
              "                 new LDAvis(\"#\" + \"ldavis_el591398034707642409275149855\", ldavis_el591398034707642409275149855_data);\n",
              "            })\n",
              "         });\n",
              "}\n",
              "</script>"
            ]
          },
          "metadata": {},
          "execution_count": 38
        }
      ],
      "source": [
        "# visualization\n",
        "import pyLDAvis.sklearn\n",
        "pic = pyLDAvis.sklearn.prepare(lda_model, count_vec.fit_transform(X_train), count_vec)\n",
        "pyLDAvis.save_html(pic, 'lda_pass'+str(10)+'.html')\n",
        "pyLDAvis.display(pic)"
      ]
    },
    {
      "cell_type": "code",
      "source": [
        "import gensim\n",
        "import gensim.corpora as corpora\n",
        "from gensim.utils import simple_preprocess\n",
        "from gensim.models import CoherenceModel\n",
        "from pprint import pprint\n",
        "\n",
        "def compute_coherence_values(dictionary, corpus, texts, limit, start=2, step=3):\n",
        "    coherence_values = []\n",
        "    model_list = []\n",
        "    for num_topics in range(start, limit, step):\n",
        "        lda_model = gensim.models.ldamodel.LdaModel(corpus=corpus,\n",
        "                                           id2word=id2word,\n",
        "                                           num_topics=num_topics, \n",
        "                                           random_state=100,\n",
        "                                           update_every=1,\n",
        "                                           chunksize=100,\n",
        "                                           passes=10,\n",
        "                                           alpha='auto',\n",
        "                                           per_word_topics=True)\n",
        "        model_list.append(lda_model)\n",
        "        coherencemodel = CoherenceModel(model=lda_model, texts=texts, dictionary=dictionary, coherence='c_v')\n",
        "        coherence_values.append(coherencemodel.get_coherence())\n",
        "\n",
        "    return model_list, coherence_values\n",
        "\n",
        "id2word = corpora.Dictionary(df['tokens'])\n",
        "df = df.dropna(subset=['tokens'])\n",
        "corpus = [id2word.doc2bow(text) for text in df['tokens']]\n",
        "\n",
        "model_list, coherence_values = compute_coherence_values(dictionary=id2word, corpus=corpus, texts=df[\"tokens\"], start=1, limit=8, step=1)\n",
        "\n",
        "limit=8; start=1; step=1;\n",
        "x = range(start, limit, step)\n",
        "fig, ax = plt.subplots()\n",
        "ax.plot(x, coherence_values)\n",
        "plt.xlabel(\"Num Topics\")\n",
        "plt.ylabel(\"Coherence score\")\n",
        "plt.legend((\"coherence_values\"), loc='best')\n",
        "plt.figure(figsize=(30, 20))"
      ],
      "metadata": {
        "colab": {
          "base_uri": "https://localhost:8080/",
          "height": 315
        },
        "id": "-9AujEQY5EQd",
        "outputId": "a1d7e925-438b-4fb3-9da8-231dc7c985ed"
      },
      "execution_count": null,
      "outputs": [
        {
          "output_type": "execute_result",
          "data": {
            "text/plain": [
              "<Figure size 2160x1440 with 0 Axes>"
            ]
          },
          "metadata": {},
          "execution_count": 37
        },
        {
          "output_type": "display_data",
          "data": {
            "text/plain": [
              "<Figure size 432x288 with 1 Axes>"
            ],
            "image/png": "[encoded data removed]"
          },
          "metadata": {
            "needs_background": "light"
          }
        },
        {
          "output_type": "display_data",
          "data": {
            "text/plain": [
              "<Figure size 2160x1440 with 0 Axes>"
            ]
          },
          "metadata": {}
        }
      ]
    }
  ],
  "metadata": {
    "colab": {
      "collapsed_sections": [],
      "name": "Assignment4.ipynb",
      "provenance": [],
      "include_colab_link": true
    },
    "kernelspec": {
      "display_name": "Python 3",
      "name": "python3"
    },
    "language_info": {
      "name": "python"
    }
  },
  "nbformat": 4,
  "nbformat_minor": 0
}