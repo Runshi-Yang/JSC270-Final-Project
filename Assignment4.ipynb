{
  "nbformat": 4,
  "nbformat_minor": 0,
  "metadata": {
    "colab": {
      "name": "Assignment4.ipynb",
      "provenance": [],
      "collapsed_sections": [],
      "include_colab_link": true
    },
    "kernelspec": {
      "name": "python3",
      "display_name": "Python 3"
    },
    "language_info": {
      "name": "python"
    }
  },
  "cells": [
    {
      "cell_type": "markdown",
      "metadata": {
        "id": "view-in-github",
        "colab_type": "text"
      },
      "source": [
        "<a href=\"https://colab.research.google.com/github/Runshi-Yang/JSC270_HW4_2022_Runshi/blob/main/Assignment4.ipynb\" target=\"_parent\"><img src=\"https://colab.research.google.com/assets/colab-badge.svg\" alt=\"Open In Colab\"/></a>"
      ]
    },
    {
      "cell_type": "code",
      "source": [
        "import pandas as pd\n",
        "import numpy as np\n",
        "import nltk\n",
        "import re\n",
        "from nltk.stem.porter import *\n",
        "from nltk.corpus import stopwords\n",
        "from sklearn.feature_extraction.text import CountVectorizer\n",
        "\n",
        "nltk.download('punkt')\n",
        "nltk.download('stopwords')"
      ],
      "metadata": {
        "id": "b2GTzwFRCVnj",
        "colab": {
          "base_uri": "https://localhost:8080/"
        },
        "outputId": "6e2fcfbf-2a1f-449e-815a-fe58a41a3111"
      },
      "execution_count": null,
      "outputs": [
        {
          "output_type": "stream",
          "name": "stdout",
          "text": [
            "[nltk_data] Downloading package punkt to /root/nltk_data...\n",
            "[nltk_data]   Unzipping tokenizers/punkt.zip.\n",
            "[nltk_data] Downloading package stopwords to /root/nltk_data...\n",
            "[nltk_data]   Unzipping corpora/stopwords.zip.\n"
          ]
        },
        {
          "output_type": "execute_result",
          "data": {
            "text/plain": [
              "True"
            ]
          },
          "metadata": {},
          "execution_count": 2
        }
      ]
    },
    {
      "cell_type": "code",
      "execution_count": null,
      "metadata": {
        "id": "eX7imhyKBtrE"
      },
      "outputs": [],
      "source": [
        "train_data = pd.read_csv('https://raw.githubusercontent.com/jsAiyaya/JSC270_Data_Science_1/main/covid-tweets-train.csv', encoding = 'utf-8')\n",
        "test_data = pd.read_csv('https://raw.githubusercontent.com/jsAiyaya/JSC270_Data_Science_1/main/covid-tweets-test.csv', encoding = 'utf-8')"
      ]
    },
    {
      "cell_type": "code",
      "source": [
        "train_data = train_data.drop(['Unnamed: 0'], axis = 1)\n",
        "test_data = test_data.drop(['Unnamed: 0'], axis = 1)"
      ],
      "metadata": {
        "id": "Y04j294_VuKL"
      },
      "execution_count": null,
      "outputs": []
    },
    {
      "cell_type": "code",
      "source": [
        "test_data.head(5)"
      ],
      "metadata": {
        "colab": {
          "base_uri": "https://localhost:8080/",
          "height": 206
        },
        "id": "3spS9kFnCzhP",
        "outputId": "47ed8cbe-12e7-4b9c-a2ed-f87d26a08e5f"
      },
      "execution_count": null,
      "outputs": [
        {
          "output_type": "execute_result",
          "data": {
            "text/plain": [
              "                                       OriginalTweet  Sentiment\n",
              "0  TRENDING: New Yorkers encounter empty supermar...          0\n",
              "1  When I couldn't find hand sanitizer at Fred Me...          2\n",
              "2  Find out how you can protect yourself and love...          2\n",
              "3  #Panic buying hits #NewYork City as anxious sh...          0\n",
              "4  #toiletpaper #dunnypaper #coronavirus #coronav...          1"
            ],
            "text/html": [
              "\n",
              "  <div id=\"df-25a28161-a12e-4773-9a96-f6250b1e7aa0\">\n",
              "    <div class=\"colab-df-container\">\n",
              "      <div>\n",
              "<style scoped>\n",
              "    .dataframe tbody tr th:only-of-type {\n",
              "        vertical-align: middle;\n",
              "    }\n",
              "\n",
              "    .dataframe tbody tr th {\n",
              "        vertical-align: top;\n",
              "    }\n",
              "\n",
              "    .dataframe thead th {\n",
              "        text-align: right;\n",
              "    }\n",
              "</style>\n",
              "<table border=\"1\" class=\"dataframe\">\n",
              "  <thead>\n",
              "    <tr style=\"text-align: right;\">\n",
              "      <th></th>\n",
              "      <th>OriginalTweet</th>\n",
              "      <th>Sentiment</th>\n",
              "    </tr>\n",
              "  </thead>\n",
              "  <tbody>\n",
              "    <tr>\n",
              "      <th>0</th>\n",
              "      <td>TRENDING: New Yorkers encounter empty supermar...</td>\n",
              "      <td>0</td>\n",
              "    </tr>\n",
              "    <tr>\n",
              "      <th>1</th>\n",
              "      <td>When I couldn't find hand sanitizer at Fred Me...</td>\n",
              "      <td>2</td>\n",
              "    </tr>\n",
              "    <tr>\n",
              "      <th>2</th>\n",
              "      <td>Find out how you can protect yourself and love...</td>\n",
              "      <td>2</td>\n",
              "    </tr>\n",
              "    <tr>\n",
              "      <th>3</th>\n",
              "      <td>#Panic buying hits #NewYork City as anxious sh...</td>\n",
              "      <td>0</td>\n",
              "    </tr>\n",
              "    <tr>\n",
              "      <th>4</th>\n",
              "      <td>#toiletpaper #dunnypaper #coronavirus #coronav...</td>\n",
              "      <td>1</td>\n",
              "    </tr>\n",
              "  </tbody>\n",
              "</table>\n",
              "</div>\n",
              "      <button class=\"colab-df-convert\" onclick=\"convertToInteractive('df-25a28161-a12e-4773-9a96-f6250b1e7aa0')\"\n",
              "              title=\"Convert this dataframe to an interactive table.\"\n",
              "              style=\"display:none;\">\n",
              "        \n",
              "  <svg xmlns=\"http://www.w3.org/2000/svg\" height=\"24px\"viewBox=\"0 0 24 24\"\n",
              "       width=\"24px\">\n",
              "    <path d=\"M0 0h24v24H0V0z\" fill=\"none\"/>\n",
              "    <path d=\"M18.56 5.44l.94 2.06.94-2.06 2.06-.94-2.06-.94-.94-2.06-.94 2.06-2.06.94zm-11 1L8.5 8.5l.94-2.06 2.06-.94-2.06-.94L8.5 2.5l-.94 2.06-2.06.94zm10 10l.94 2.06.94-2.06 2.06-.94-2.06-.94-.94-2.06-.94 2.06-2.06.94z\"/><path d=\"M17.41 7.96l-1.37-1.37c-.4-.4-.92-.59-1.43-.59-.52 0-1.04.2-1.43.59L10.3 9.45l-7.72 7.72c-.78.78-.78 2.05 0 2.83L4 21.41c.39.39.9.59 1.41.59.51 0 1.02-.2 1.41-.59l7.78-7.78 2.81-2.81c.8-.78.8-2.07 0-2.86zM5.41 20L4 18.59l7.72-7.72 1.47 1.35L5.41 20z\"/>\n",
              "  </svg>\n",
              "      </button>\n",
              "      \n",
              "  <style>\n",
              "    .colab-df-container {\n",
              "      display:flex;\n",
              "      flex-wrap:wrap;\n",
              "      gap: 12px;\n",
              "    }\n",
              "\n",
              "    .colab-df-convert {\n",
              "      background-color: #E8F0FE;\n",
              "      border: none;\n",
              "      border-radius: 50%;\n",
              "      cursor: pointer;\n",
              "      display: none;\n",
              "      fill: #1967D2;\n",
              "      height: 32px;\n",
              "      padding: 0 0 0 0;\n",
              "      width: 32px;\n",
              "    }\n",
              "\n",
              "    .colab-df-convert:hover {\n",
              "      background-color: #E2EBFA;\n",
              "      box-shadow: 0px 1px 2px rgba(60, 64, 67, 0.3), 0px 1px 3px 1px rgba(60, 64, 67, 0.15);\n",
              "      fill: #174EA6;\n",
              "    }\n",
              "\n",
              "    [theme=dark] .colab-df-convert {\n",
              "      background-color: #3B4455;\n",
              "      fill: #D2E3FC;\n",
              "    }\n",
              "\n",
              "    [theme=dark] .colab-df-convert:hover {\n",
              "      background-color: #434B5C;\n",
              "      box-shadow: 0px 1px 3px 1px rgba(0, 0, 0, 0.15);\n",
              "      filter: drop-shadow(0px 1px 2px rgba(0, 0, 0, 0.3));\n",
              "      fill: #FFFFFF;\n",
              "    }\n",
              "  </style>\n",
              "\n",
              "      <script>\n",
              "        const buttonEl =\n",
              "          document.querySelector('#df-25a28161-a12e-4773-9a96-f6250b1e7aa0 button.colab-df-convert');\n",
              "        buttonEl.style.display =\n",
              "          google.colab.kernel.accessAllowed ? 'block' : 'none';\n",
              "\n",
              "        async function convertToInteractive(key) {\n",
              "          const element = document.querySelector('#df-25a28161-a12e-4773-9a96-f6250b1e7aa0');\n",
              "          const dataTable =\n",
              "            await google.colab.kernel.invokeFunction('convertToInteractive',\n",
              "                                                     [key], {});\n",
              "          if (!dataTable) return;\n",
              "\n",
              "          const docLinkHtml = 'Like what you see? Visit the ' +\n",
              "            '<a target=\"_blank\" href=https://colab.research.google.com/notebooks/data_table.ipynb>data table notebook</a>'\n",
              "            + ' to learn more about interactive tables.';\n",
              "          element.innerHTML = '';\n",
              "          dataTable['output_type'] = 'display_data';\n",
              "          await google.colab.output.renderOutput(dataTable, element);\n",
              "          const docLink = document.createElement('div');\n",
              "          docLink.innerHTML = docLinkHtml;\n",
              "          element.appendChild(docLink);\n",
              "        }\n",
              "      </script>\n",
              "    </div>\n",
              "  </div>\n",
              "  "
            ]
          },
          "metadata": {},
          "execution_count": 5
        }
      ]
    },
    {
      "cell_type": "code",
      "source": [
        "train_data.drop(train_data.index[(train_data['Sentiment'] != '0') & (train_data['Sentiment'] != '1') & (train_data['Sentiment'] != '2')], inplace= True)\n",
        "test_data.drop(test_data.index[(test_data['Sentiment'] != 0) & (test_data['Sentiment'] != 1) & (test_data['Sentiment'] != 2)], inplace= True)\n",
        "train_data['Sentiment'] = train_data['Sentiment'].astype('int')"
      ],
      "metadata": {
        "id": "JK228FEMLUJq"
      },
      "execution_count": null,
      "outputs": []
    },
    {
      "cell_type": "markdown",
      "source": [
        "# **Part 1**"
      ],
      "metadata": {
        "id": "rkzni1oeyM60"
      }
    },
    {
      "cell_type": "markdown",
      "source": [
        "### **(A)**"
      ],
      "metadata": {
        "id": "fHXKiGDnyTTh"
      }
    },
    {
      "cell_type": "code",
      "source": [
        "count_table = train_data.groupby('Sentiment').count()\n",
        "count_table.columns = [\"count\"]\n",
        "print(count_table, \"\\n\")\n",
        "\n",
        "total_num = len(train_data)\n",
        "prop_table = count_table / total_num\n",
        "prop_table.columns = [\"proportion\"]\n",
        "print(prop_table)"
      ],
      "metadata": {
        "colab": {
          "base_uri": "https://localhost:8080/"
        },
        "id": "gIbuEk20pxrz",
        "outputId": "7c8ec34d-884b-4f1c-dd1b-9ab029c0df4e"
      },
      "execution_count": null,
      "outputs": [
        {
          "output_type": "stream",
          "name": "stdout",
          "text": [
            "           count\n",
            "Sentiment       \n",
            "0          15397\n",
            "1           7712\n",
            "2          18042 \n",
            "\n",
            "           proportion\n",
            "Sentiment            \n",
            "0            0.374159\n",
            "1            0.187407\n",
            "2            0.438434\n"
          ]
        }
      ]
    },
    {
      "cell_type": "markdown",
      "source": [
        "### **(B)**"
      ],
      "metadata": {
        "id": "uRahi1ufyf3C"
      }
    },
    {
      "cell_type": "code",
      "source": [
        "def tokenize(df):\n",
        "  df['tokens'] = df['OriginalTweet'].apply(nltk.word_tokenize)\n",
        "tokenize(train_data)\n",
        "tokenize(test_data)"
      ],
      "metadata": {
        "id": "HYVjlfzllTmA"
      },
      "execution_count": null,
      "outputs": []
    },
    {
      "cell_type": "markdown",
      "source": [
        "### **(C)**"
      ],
      "metadata": {
        "id": "4SSd-eMfyqz_"
      }
    },
    {
      "cell_type": "code",
      "source": [
        "# remove tokens beginning with http\n",
        "def remove_url(df):\n",
        "  tokens_no_url = []\n",
        "  for row in df['tokens']:\n",
        "    tokens_no_url.append([re.sub('http.+', '', t) for t in row])\n",
        "  df['tokens'] = tokens_no_url\n",
        "\n",
        "remove_url(train_data)\n",
        "remove_url(test_data)"
      ],
      "metadata": {
        "id": "WPPeynxJw-yb"
      },
      "execution_count": null,
      "outputs": []
    },
    {
      "cell_type": "markdown",
      "source": [
        "### **(D)**"
      ],
      "metadata": {
        "id": "m0AIQEdc6M8M"
      }
    },
    {
      "cell_type": "code",
      "source": [
        "def remove_punct(df):\n",
        "  tokens_no_punct = []\n",
        "  for row in df['tokens']:\n",
        "    tokens_no_punct.append([re.sub('[^\\w\\s]', '', t) for t in row])\n",
        "  df['tokens'] = tokens_no_punct\n",
        "\n",
        "remove_punct(train_data)\n",
        "remove_punct(test_data)"
      ],
      "metadata": {
        "id": "zoGxQKQW3tGe"
      },
      "execution_count": null,
      "outputs": []
    },
    {
      "cell_type": "code",
      "source": [
        "def lowercase(df):\n",
        "  lowercase_tokens = []\n",
        "  for row in df['tokens']:\n",
        "    lowercase_tokens.append([t.lower() for t in row])\n",
        "  df['tokens'] = lowercase_tokens\n",
        "\n",
        "lowercase(train_data)\n",
        "lowercase(test_data)"
      ],
      "metadata": {
        "id": "nxYNTcRw6zvL"
      },
      "execution_count": null,
      "outputs": []
    },
    {
      "cell_type": "markdown",
      "source": [
        "### **(E)**"
      ],
      "metadata": {
        "id": "zHFO5IQH-Vvf"
      }
    },
    {
      "cell_type": "code",
      "source": [
        "# We use the Porter stemmer\n",
        "stemmer = PorterStemmer()\n",
        "\n",
        "def stem(df):\n",
        "  stemmed_tokens = []\n",
        "  for row in train_data['tokens']:\n",
        "    stemmed_tokens.append([stemmer.stem(t) for t in row])\n",
        "  train_data['tokens'] = stemmed_tokens\n",
        "\n",
        "stem(train_data)\n",
        "stem(test_data)"
      ],
      "metadata": {
        "id": "XlzwhWCH7TpI"
      },
      "execution_count": null,
      "outputs": []
    },
    {
      "cell_type": "markdown",
      "source": [
        "### **(F)**"
      ],
      "metadata": {
        "id": "l467zaTGhOMU"
      }
    },
    {
      "cell_type": "code",
      "source": [
        "sw = stopwords.words('english')[:100]\n",
        "\n",
        "def remove_stopwords(df):\n",
        "  tokens_no_sw = []\n",
        "  for row in df['tokens']:\n",
        "    tokens_no_sw.append([w for w in row if w not in sw])\n",
        "  df['tokens'] = tokens_no_sw\n",
        "\n",
        "remove_stopwords(train_data)\n",
        "remove_stopwords(test_data)"
      ],
      "metadata": {
        "id": "_kChaBrG2b1b"
      },
      "execution_count": null,
      "outputs": []
    },
    {
      "cell_type": "markdown",
      "source": [
        "### **(G)**"
      ],
      "metadata": {
        "id": "soyWepNy_QOG"
      }
    },
    {
      "cell_type": "code",
      "source": [
        "# Separate labels from features, converting to numpy arrays\n",
        "X_train, y_train = train_data['tokens'].to_numpy(), train_data['Sentiment'].to_numpy()\n",
        "X_test, y_test = test_data['tokens'].to_numpy(), test_data['Sentiment'].to_numpy()\n",
        "\n",
        "# Since we've already done some steps, we will use a dummy function to override these components.\n",
        "def override_fcn(doc):\n",
        "  # We expect a list of tokens as input\n",
        "  return doc\n",
        "\n",
        "# Count Vectorizer\n",
        "count_vec = CountVectorizer(\n",
        "    analyzer='word',\n",
        "    tokenizer= override_fcn,\n",
        "    preprocessor= override_fcn,\n",
        "    token_pattern= None,\n",
        "    max_features = 1000)\n",
        "\n",
        "counts_train = count_vec.fit_transform(X_train)\n",
        "counts_test = count_vec.fit_transform(X_test)\n",
        "print(\"train data:\")\n",
        "print(counts_train.toarray())\n",
        "print(\"\\n test data:\")\n",
        "print(counts_test.toarray())"
      ],
      "metadata": {
        "colab": {
          "base_uri": "https://localhost:8080/"
        },
        "id": "UilLb6Ub_2-X",
        "outputId": "7f289e98-8827-4050-dd5b-bde883260976"
      },
      "execution_count": null,
      "outputs": [
        {
          "output_type": "stream",
          "name": "stdout",
          "text": [
            "train data:\n",
            "[[9 0 0 ... 0 0 0]\n",
            " [0 0 0 ... 0 0 0]\n",
            " [4 0 0 ... 0 0 0]\n",
            " ...\n",
            " [7 0 0 ... 0 0 0]\n",
            " [4 0 0 ... 0 0 0]\n",
            " [5 0 0 ... 0 0 0]]\n",
            "\n",
            " test data:\n",
            "[[13  0  0 ...  0  0  0]\n",
            " [12  0  0 ...  0  0  0]\n",
            " [ 3  0  0 ...  0  0  0]\n",
            " ...\n",
            " [ 9  0  0 ...  0  0  0]\n",
            " [ 6  0  0 ...  0  0  0]\n",
            " [ 8  0  0 ...  0  0  0]]\n"
          ]
        }
      ]
    },
    {
      "cell_type": "code",
      "source": [
        ""
      ],
      "metadata": {
        "id": "EXdjwDfD6WZG"
      },
      "execution_count": null,
      "outputs": []
    }
  ]
}